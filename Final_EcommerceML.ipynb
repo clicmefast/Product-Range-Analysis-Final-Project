{
 "cells": [
  {
   "cell_type": "markdown",
   "metadata": {
    "id": "mst5dyTsZ2K3"
   },
   "source": [
    "# E-commerce: Product Range Analysis Final Project "
   ]
  },
  {
   "cell_type": "markdown",
   "metadata": {
    "id": "sK0j__-EZ2LK"
   },
   "source": [
    "Define the goal:\n",
    "\n",
    "The processes of specifying requirements and decomposing go hand in hand. But first of all you need to define your goal. Answer the following questions:\n",
    "\n",
    "***What do you want to achieve and why?***\n",
    "\n",
    "Help the e-commerece businesss acheive higher return\n",
    "\n",
    "***Who's interested in what you produce?***\n",
    "\n",
    "My manager and the business, also me because I want to analyze stuff!\n",
    "\n",
    "***What decisions will be made based on your analysis?***\n",
    "Help the business take better decisions on whatever I will analyze"
   ]
  },
  {
   "cell_type": "markdown",
   "metadata": {
    "id": "30FqPRarZ2LM"
   },
   "source": [
    "**Description of the data:**\n",
    "\n",
    "The dataset contains the transaction history of an online store that sells household goods.\n",
    "\n",
    "The file `ecommerce_dataset_us.csv` contains the following columns:\n",
    "\n",
    "InvoiceNo — order identifier\n",
    "\n",
    "StockCode — item identifier\n",
    "\n",
    "Description — item name\n",
    "\n",
    "Quantity\n",
    "\n",
    "InvoiceDate — order date\n",
    "\n",
    "UnitPrice — price per item\n",
    "\n",
    "CustomerID"
   ]
  },
  {
   "cell_type": "markdown",
   "metadata": {
    "id": "YS3QzHTAduvt"
   },
   "source": [
    "# Step 1. Open the data file and study the general information"
   ]
  },
  {
   "cell_type": "markdown",
   "metadata": {
    "id": "zdptkcmjZ2LO"
   },
   "source": [
    "## Import Libraries"
   ]
  },
  {
   "cell_type": "code",
   "execution_count": 125,
   "metadata": {},
   "outputs": [
    {
     "name": "stdout",
     "output_type": "stream",
     "text": [
      "Requirement already satisfied: mlxtend in c:\\users\\elias\\anaconda3\\lib\\site-packages (0.18.0)\n",
      "Requirement already satisfied: setuptools in c:\\users\\elias\\anaconda3\\lib\\site-packages (from mlxtend) (45.2.0.post20200210)\n",
      "Requirement already satisfied: numpy>=1.16.2 in c:\\users\\elias\\anaconda3\\lib\\site-packages (from mlxtend) (1.18.1)\n",
      "Requirement already satisfied: scikit-learn>=0.20.3 in c:\\users\\elias\\anaconda3\\lib\\site-packages (from mlxtend) (0.22.1)\n",
      "Requirement already satisfied: joblib>=0.13.2 in c:\\users\\elias\\anaconda3\\lib\\site-packages (from mlxtend) (0.14.1)\n",
      "Requirement already satisfied: matplotlib>=3.0.0 in c:\\users\\elias\\anaconda3\\lib\\site-packages (from mlxtend) (3.1.3)\n",
      "Requirement already satisfied: scipy>=1.2.1 in c:\\users\\elias\\anaconda3\\lib\\site-packages (from mlxtend) (1.4.1)\n",
      "Requirement already satisfied: pandas>=0.24.2 in c:\\users\\elias\\anaconda3\\lib\\site-packages (from mlxtend) (1.0.1)\n",
      "Requirement already satisfied: pyparsing!=2.0.4,!=2.1.2,!=2.1.6,>=2.0.1 in c:\\users\\elias\\anaconda3\\lib\\site-packages (from matplotlib>=3.0.0->mlxtend) (2.4.6)\n",
      "Requirement already satisfied: python-dateutil>=2.1 in c:\\users\\elias\\anaconda3\\lib\\site-packages (from matplotlib>=3.0.0->mlxtend) (2.8.1)\n",
      "Requirement already satisfied: cycler>=0.10 in c:\\users\\elias\\anaconda3\\lib\\site-packages (from matplotlib>=3.0.0->mlxtend) (0.10.0)\n",
      "Requirement already satisfied: kiwisolver>=1.0.1 in c:\\users\\elias\\anaconda3\\lib\\site-packages (from matplotlib>=3.0.0->mlxtend) (1.1.0)\n",
      "Requirement already satisfied: pytz>=2017.2 in c:\\users\\elias\\anaconda3\\lib\\site-packages (from pandas>=0.24.2->mlxtend) (2019.3)\n",
      "Requirement already satisfied: six>=1.5 in c:\\users\\elias\\anaconda3\\lib\\site-packages (from python-dateutil>=2.1->matplotlib>=3.0.0->mlxtend) (1.14.0)\n",
      "Note: you may need to restart the kernel to use updated packages.\n"
     ]
    }
   ],
   "source": [
    "pip install mlxtend"
   ]
  },
  {
   "cell_type": "code",
   "execution_count": 126,
   "metadata": {},
   "outputs": [
    {
     "name": "stdout",
     "output_type": "stream",
     "text": [
      "Requirement already satisfied: apyori in c:\\users\\elias\\anaconda3\\lib\\site-packages (1.1.2)\n",
      "Note: you may need to restart the kernel to use updated packages.\n"
     ]
    }
   ],
   "source": [
    "pip install apyori"
   ]
  },
  {
   "cell_type": "code",
   "execution_count": 127,
   "metadata": {
    "id": "E4kpzG6iZ2LP"
   },
   "outputs": [],
   "source": [
    "import pandas as pd\n",
    "import numpy as np\n",
    "import seaborn as sns\n",
    "import matplotlib.pyplot as plt\n",
    "import seaborn as sns\n",
    "from IPython.display import display, HTML\n",
    "from mlxtend.frequent_patterns import apriori\n",
    "from mlxtend.frequent_patterns import association_rules\n",
    "import scipy.stats as st\n",
    "\n",
    "color = sns.color_palette()"
   ]
  },
  {
   "cell_type": "code",
   "execution_count": 128,
   "metadata": {
    "colab": {
     "base_uri": "https://localhost:8080/",
     "height": 374
    },
    "id": "K1PA4QytZ2LR",
    "outputId": "6592a074-6b62-41b5-c29c-62f0c630acb3"
   },
   "outputs": [],
   "source": [
    "# Loading the data\n",
    "data = pd.read_csv(\"ecommerce_dataset_us.csv\", sep='\\t' ,error_bad_lines=False)"
   ]
  },
  {
   "cell_type": "markdown",
   "metadata": {
    "id": "_dgAvqsSZ2LQ"
   },
   "source": [
    "I added the following parameter \"error_bad_lines=False)\" when loading the data because I had a message error that stated \"pandas.parser.CParserError: Error tokenizing data. C error:\". This error_bad_linesbool, is True in default. Here's the explination of the This error_bad_line and why I using it is a good idea:\n",
    "Lines with too many fields (e.g. a csv line with too many commas) will by default cause an exception to be raised, and no DataFrame will be returned. If False, then these “bad lines” will dropped from the DataFrame that is returned.\n",
    "\n",
    "link: https://stackoverflow.com/questions/18039057/python-pandas-error-tokenizing-data\n",
    "\n",
    "Link: https://pandas.pydata.org/pandas-docs/stable/reference/api/pandas.read_table.html"
   ]
  },
  {
   "cell_type": "code",
   "execution_count": 129,
   "metadata": {
    "id": "RX_uimlsZ2LS"
   },
   "outputs": [],
   "source": [
    "# Saving the original files and creating new name of the same df provided so in case I had to go back to the original file\n",
    "df = data.copy()"
   ]
  },
  {
   "cell_type": "code",
   "execution_count": 130,
   "metadata": {
    "id": "o_eN1kbiZ2LS"
   },
   "outputs": [
    {
     "data": {
      "text/html": [
       "<div>\n",
       "<style scoped>\n",
       "    .dataframe tbody tr th:only-of-type {\n",
       "        vertical-align: middle;\n",
       "    }\n",
       "\n",
       "    .dataframe tbody tr th {\n",
       "        vertical-align: top;\n",
       "    }\n",
       "\n",
       "    .dataframe thead th {\n",
       "        text-align: right;\n",
       "    }\n",
       "</style>\n",
       "<table border=\"1\" class=\"dataframe\">\n",
       "  <thead>\n",
       "    <tr style=\"text-align: right;\">\n",
       "      <th></th>\n",
       "      <th>InvoiceNo</th>\n",
       "      <th>StockCode</th>\n",
       "      <th>Description</th>\n",
       "      <th>Quantity</th>\n",
       "      <th>InvoiceDate</th>\n",
       "      <th>UnitPrice</th>\n",
       "      <th>CustomerID</th>\n",
       "    </tr>\n",
       "  </thead>\n",
       "  <tbody>\n",
       "    <tr>\n",
       "      <th>0</th>\n",
       "      <td>536365</td>\n",
       "      <td>85123A</td>\n",
       "      <td>WHITE HANGING HEART T-LIGHT HOLDER</td>\n",
       "      <td>6</td>\n",
       "      <td>11/29/2018 08:26</td>\n",
       "      <td>2.55</td>\n",
       "      <td>17850.0</td>\n",
       "    </tr>\n",
       "    <tr>\n",
       "      <th>1</th>\n",
       "      <td>536365</td>\n",
       "      <td>71053</td>\n",
       "      <td>WHITE METAL LANTERN</td>\n",
       "      <td>6</td>\n",
       "      <td>11/29/2018 08:26</td>\n",
       "      <td>3.39</td>\n",
       "      <td>17850.0</td>\n",
       "    </tr>\n",
       "    <tr>\n",
       "      <th>2</th>\n",
       "      <td>536365</td>\n",
       "      <td>84406B</td>\n",
       "      <td>CREAM CUPID HEARTS COAT HANGER</td>\n",
       "      <td>8</td>\n",
       "      <td>11/29/2018 08:26</td>\n",
       "      <td>2.75</td>\n",
       "      <td>17850.0</td>\n",
       "    </tr>\n",
       "    <tr>\n",
       "      <th>3</th>\n",
       "      <td>536365</td>\n",
       "      <td>84029G</td>\n",
       "      <td>KNITTED UNION FLAG HOT WATER BOTTLE</td>\n",
       "      <td>6</td>\n",
       "      <td>11/29/2018 08:26</td>\n",
       "      <td>3.39</td>\n",
       "      <td>17850.0</td>\n",
       "    </tr>\n",
       "    <tr>\n",
       "      <th>4</th>\n",
       "      <td>536365</td>\n",
       "      <td>84029E</td>\n",
       "      <td>RED WOOLLY HOTTIE WHITE HEART.</td>\n",
       "      <td>6</td>\n",
       "      <td>11/29/2018 08:26</td>\n",
       "      <td>3.39</td>\n",
       "      <td>17850.0</td>\n",
       "    </tr>\n",
       "  </tbody>\n",
       "</table>\n",
       "</div>"
      ],
      "text/plain": [
       "  InvoiceNo StockCode                          Description  Quantity  \\\n",
       "0    536365    85123A   WHITE HANGING HEART T-LIGHT HOLDER         6   \n",
       "1    536365     71053                  WHITE METAL LANTERN         6   \n",
       "2    536365    84406B       CREAM CUPID HEARTS COAT HANGER         8   \n",
       "3    536365    84029G  KNITTED UNION FLAG HOT WATER BOTTLE         6   \n",
       "4    536365    84029E       RED WOOLLY HOTTIE WHITE HEART.         6   \n",
       "\n",
       "        InvoiceDate  UnitPrice  CustomerID  \n",
       "0  11/29/2018 08:26       2.55     17850.0  \n",
       "1  11/29/2018 08:26       3.39     17850.0  \n",
       "2  11/29/2018 08:26       2.75     17850.0  \n",
       "3  11/29/2018 08:26       3.39     17850.0  \n",
       "4  11/29/2018 08:26       3.39     17850.0  "
      ]
     },
     "execution_count": 130,
     "metadata": {},
     "output_type": "execute_result"
    }
   ],
   "source": [
    "data.head(5)"
   ]
  },
  {
   "cell_type": "code",
   "execution_count": 131,
   "metadata": {
    "id": "aVIwmK-5Z2LV"
   },
   "outputs": [
    {
     "data": {
      "text/plain": [
       "(541909, 7)"
      ]
     },
     "execution_count": 131,
     "metadata": {},
     "output_type": "execute_result"
    }
   ],
   "source": [
    "data.shape"
   ]
  },
  {
   "cell_type": "markdown",
   "metadata": {
    "id": "ys-VmJEMZ2LV"
   },
   "source": [
    "The file contains 541909 rows (events), and 7 columns"
   ]
  },
  {
   "cell_type": "code",
   "execution_count": 132,
   "metadata": {
    "id": "CAm9LcGLZ2LW"
   },
   "outputs": [
    {
     "name": "stdout",
     "output_type": "stream",
     "text": [
      "<class 'pandas.core.frame.DataFrame'>\n",
      "RangeIndex: 541909 entries, 0 to 541908\n",
      "Data columns (total 7 columns):\n",
      " #   Column       Non-Null Count   Dtype  \n",
      "---  ------       --------------   -----  \n",
      " 0   InvoiceNo    541909 non-null  object \n",
      " 1   StockCode    541909 non-null  object \n",
      " 2   Description  540455 non-null  object \n",
      " 3   Quantity     541909 non-null  int64  \n",
      " 4   InvoiceDate  541909 non-null  object \n",
      " 5   UnitPrice    541909 non-null  float64\n",
      " 6   CustomerID   406829 non-null  float64\n",
      "dtypes: float64(2), int64(1), object(4)\n",
      "memory usage: 28.9+ MB\n"
     ]
    }
   ],
   "source": [
    "data.info()"
   ]
  },
  {
   "cell_type": "markdown",
   "metadata": {
    "id": "hzhxXEl-Z2LX"
   },
   "source": [
    "There are columns which data types ae objects, and they should"
   ]
  },
  {
   "cell_type": "code",
   "execution_count": 133,
   "metadata": {
    "id": "Us_zmG7IZ2LX"
   },
   "outputs": [
    {
     "data": {
      "text/html": [
       "<div>\n",
       "<style scoped>\n",
       "    .dataframe tbody tr th:only-of-type {\n",
       "        vertical-align: middle;\n",
       "    }\n",
       "\n",
       "    .dataframe tbody tr th {\n",
       "        vertical-align: top;\n",
       "    }\n",
       "\n",
       "    .dataframe thead th {\n",
       "        text-align: right;\n",
       "    }\n",
       "</style>\n",
       "<table border=\"1\" class=\"dataframe\">\n",
       "  <thead>\n",
       "    <tr style=\"text-align: right;\">\n",
       "      <th></th>\n",
       "      <th>Quantity</th>\n",
       "      <th>UnitPrice</th>\n",
       "      <th>CustomerID</th>\n",
       "    </tr>\n",
       "  </thead>\n",
       "  <tbody>\n",
       "    <tr>\n",
       "      <th>count</th>\n",
       "      <td>541909.000000</td>\n",
       "      <td>541909.000000</td>\n",
       "      <td>406829.000000</td>\n",
       "    </tr>\n",
       "    <tr>\n",
       "      <th>mean</th>\n",
       "      <td>9.552250</td>\n",
       "      <td>4.611114</td>\n",
       "      <td>15287.690570</td>\n",
       "    </tr>\n",
       "    <tr>\n",
       "      <th>std</th>\n",
       "      <td>218.081158</td>\n",
       "      <td>96.759853</td>\n",
       "      <td>1713.600303</td>\n",
       "    </tr>\n",
       "    <tr>\n",
       "      <th>min</th>\n",
       "      <td>-80995.000000</td>\n",
       "      <td>-11062.060000</td>\n",
       "      <td>12346.000000</td>\n",
       "    </tr>\n",
       "    <tr>\n",
       "      <th>25%</th>\n",
       "      <td>1.000000</td>\n",
       "      <td>1.250000</td>\n",
       "      <td>13953.000000</td>\n",
       "    </tr>\n",
       "    <tr>\n",
       "      <th>50%</th>\n",
       "      <td>3.000000</td>\n",
       "      <td>2.080000</td>\n",
       "      <td>15152.000000</td>\n",
       "    </tr>\n",
       "    <tr>\n",
       "      <th>75%</th>\n",
       "      <td>10.000000</td>\n",
       "      <td>4.130000</td>\n",
       "      <td>16791.000000</td>\n",
       "    </tr>\n",
       "    <tr>\n",
       "      <th>max</th>\n",
       "      <td>80995.000000</td>\n",
       "      <td>38970.000000</td>\n",
       "      <td>18287.000000</td>\n",
       "    </tr>\n",
       "  </tbody>\n",
       "</table>\n",
       "</div>"
      ],
      "text/plain": [
       "            Quantity      UnitPrice     CustomerID\n",
       "count  541909.000000  541909.000000  406829.000000\n",
       "mean        9.552250       4.611114   15287.690570\n",
       "std       218.081158      96.759853    1713.600303\n",
       "min    -80995.000000  -11062.060000   12346.000000\n",
       "25%         1.000000       1.250000   13953.000000\n",
       "50%         3.000000       2.080000   15152.000000\n",
       "75%        10.000000       4.130000   16791.000000\n",
       "max     80995.000000   38970.000000   18287.000000"
      ]
     },
     "execution_count": 133,
     "metadata": {},
     "output_type": "execute_result"
    }
   ],
   "source": [
    "#summarizing the columns which have numeric values using the describe method\n",
    "data.describe()"
   ]
  },
  {
   "cell_type": "markdown",
   "metadata": {
    "id": "YeYpdkbTZ2LX"
   },
   "source": [
    "There are 3 columns which are numeric, only 2 are releavnt and provide broad insights under the describe method:\n",
    "Relevant column which provide real isnights: Quantity and UniPrice\n",
    "Irrelavnt column which does not provide much insigts is the CustomerID, as the ID here is just an abstract number with no unit of measurment.\n",
    "\n",
    "**Takeaways from the Quantity column:**\n",
    "\n",
    "There are 541909 orders (events), and each order included different quantity\n",
    "\n",
    "Each customer ordered 9.5 units per order on average\n",
    "\n",
    "The standard deviation is 218 units per order before removing the outliers (if needed)\n",
    "\n",
    "The minimum quantity per order is negative and this cannot be right, probably there is a sign mistake, and the number might be an outlier, so we'll investigate further on this later in the EDA part\n",
    "\n",
    "The maximum quantity is HUGE, where the 75th percentile is 10 units per order, while the max is 80995. I will investigate further into this in the EDA part\n",
    "\n",
    "**Takeaways from the UnitPrice column:**\n",
    "\n",
    "There are 541909 orders (unitprices per order which might include different quantity).\n",
    "\n",
    "The UnitPrice is $4.6 on average for the provided datasit \n",
    "\n",
    "The standard deviation of the price per unit is $96.7 before removing the outliers (if needed)\n",
    "\n",
    "The minimum UnitPrice is negative and this cannot be right, probably there is a sign mistake, and the number might be an outlier, so we'll investigate further on this later in the EDA part\n",
    "\n",
    "The maximum UnitPrice is 38970, which I have to investigate further later in the EDA to see if this is an outliers\n",
    "\n",
    "**Please avoid the CustomerID numbers, I might change the data type in the next steps**"
   ]
  },
  {
   "cell_type": "code",
   "execution_count": 134,
   "metadata": {
    "id": "5Cw2_JFnZ2LY"
   },
   "outputs": [
    {
     "data": {
      "text/html": [
       "<div>\n",
       "<style scoped>\n",
       "    .dataframe tbody tr th:only-of-type {\n",
       "        vertical-align: middle;\n",
       "    }\n",
       "\n",
       "    .dataframe tbody tr th {\n",
       "        vertical-align: top;\n",
       "    }\n",
       "\n",
       "    .dataframe thead th {\n",
       "        text-align: right;\n",
       "    }\n",
       "</style>\n",
       "<table border=\"1\" class=\"dataframe\">\n",
       "  <thead>\n",
       "    <tr style=\"text-align: right;\">\n",
       "      <th></th>\n",
       "      <th>InvoiceNo</th>\n",
       "      <th>StockCode</th>\n",
       "      <th>Description</th>\n",
       "      <th>InvoiceDate</th>\n",
       "    </tr>\n",
       "  </thead>\n",
       "  <tbody>\n",
       "    <tr>\n",
       "      <th>count</th>\n",
       "      <td>541909</td>\n",
       "      <td>541909</td>\n",
       "      <td>540455</td>\n",
       "      <td>541909</td>\n",
       "    </tr>\n",
       "    <tr>\n",
       "      <th>unique</th>\n",
       "      <td>25900</td>\n",
       "      <td>4070</td>\n",
       "      <td>4223</td>\n",
       "      <td>23260</td>\n",
       "    </tr>\n",
       "    <tr>\n",
       "      <th>top</th>\n",
       "      <td>573585</td>\n",
       "      <td>85123A</td>\n",
       "      <td>WHITE HANGING HEART T-LIGHT HOLDER</td>\n",
       "      <td>10/29/2019 14:41</td>\n",
       "    </tr>\n",
       "    <tr>\n",
       "      <th>freq</th>\n",
       "      <td>1114</td>\n",
       "      <td>2313</td>\n",
       "      <td>2369</td>\n",
       "      <td>1114</td>\n",
       "    </tr>\n",
       "  </tbody>\n",
       "</table>\n",
       "</div>"
      ],
      "text/plain": [
       "       InvoiceNo StockCode                         Description  \\\n",
       "count     541909    541909                              540455   \n",
       "unique     25900      4070                                4223   \n",
       "top       573585    85123A  WHITE HANGING HEART T-LIGHT HOLDER   \n",
       "freq        1114      2313                                2369   \n",
       "\n",
       "             InvoiceDate  \n",
       "count             541909  \n",
       "unique             23260  \n",
       "top     10/29/2019 14:41  \n",
       "freq                1114  "
      ]
     },
     "execution_count": 134,
     "metadata": {},
     "output_type": "execute_result"
    }
   ],
   "source": [
    "#summarizing the columns which have object data type using the describe method\n",
    "data.describe(include=['object'])"
   ]
  },
  {
   "cell_type": "markdown",
   "metadata": {
    "id": "U-SSH1h5Z2LZ"
   },
   "source": [
    "The most valuable info we can get from this table is the number of unique values from each column, we can see that there is:\n",
    "\n",
    "25900 unique InvoiceNo\n",
    "4070 unique StockCode(products range)\n",
    "4223 unique Description - very close to the StockCode which is a good news because it means that most of the products which are the same have similar descriptions.\n",
    "23260 unique InvoiceDate - last order date took place in 10/29/2019 14:41"
   ]
  },
  {
   "cell_type": "markdown",
   "metadata": {
    "id": "xO0O7_g9Z2LZ"
   },
   "source": [
    "**General summary:**\n",
    "The file contains 541909 rows (events), and 7 columns. \n",
    "The Quantity and UnitPrice columns negative numbers and outliers will be investigated in the EDA part. I will change the CustomerID to the correct data type (if needed)."
   ]
  },
  {
   "cell_type": "markdown",
   "metadata": {
    "id": "S2gszi40Z2LZ"
   },
   "source": [
    "# Step 2. Carrying out exploratory data analysis (EDA) and preparing the data"
   ]
  },
  {
   "cell_type": "markdown",
   "metadata": {
    "id": "VKGh6bFeZ2La"
   },
   "source": [
    "### Rename the columns in a way that's convenient"
   ]
  },
  {
   "cell_type": "code",
   "execution_count": 135,
   "metadata": {
    "id": "ucLOniGtZ2La"
   },
   "outputs": [
    {
     "data": {
      "text/plain": [
       "Index(['InvoiceNo', 'StockCode', 'Description', 'Quantity', 'InvoiceDate',\n",
       "       'UnitPrice', 'CustomerID'],\n",
       "      dtype='object')"
      ]
     },
     "execution_count": 135,
     "metadata": {},
     "output_type": "execute_result"
    }
   ],
   "source": [
    "data.columns"
   ]
  },
  {
   "cell_type": "code",
   "execution_count": 136,
   "metadata": {
    "id": "8mNvguhnZ2Lb"
   },
   "outputs": [],
   "source": [
    "data =data.rename(columns={'InvoiceNo': 'Invoice_No', 'StockCode': 'Stock_Code', 'InvoiceDate': 'Invoice_Date', 'UnitPrice': 'Unit_Price', 'CustomerID':'Customer_ID'})"
   ]
  },
  {
   "cell_type": "code",
   "execution_count": 137,
   "metadata": {
    "id": "ggnUafSzZ2Lb"
   },
   "outputs": [
    {
     "data": {
      "text/plain": [
       "Index(['Invoice_No', 'Stock_Code', 'Description', 'Quantity', 'Invoice_Date',\n",
       "       'Unit_Price', 'Customer_ID'],\n",
       "      dtype='object')"
      ]
     },
     "execution_count": 137,
     "metadata": {},
     "output_type": "execute_result"
    }
   ],
   "source": [
    "data.columns"
   ]
  },
  {
   "cell_type": "code",
   "execution_count": 138,
   "metadata": {
    "id": "arFxC61OZ2Ld"
   },
   "outputs": [],
   "source": [
    "# rename all the hypotheses table columns to lower case so it will be easier to work with\n",
    "data.columns= data.columns.str.lower()"
   ]
  },
  {
   "cell_type": "code",
   "execution_count": 139,
   "metadata": {
    "id": "8HcIwx75Z2Le"
   },
   "outputs": [
    {
     "data": {
      "text/plain": [
       "Index(['invoice_no', 'stock_code', 'description', 'quantity', 'invoice_date',\n",
       "       'unit_price', 'customer_id'],\n",
       "      dtype='object')"
      ]
     },
     "execution_count": 139,
     "metadata": {},
     "output_type": "execute_result"
    }
   ],
   "source": [
    "data.columns"
   ]
  },
  {
   "cell_type": "markdown",
   "metadata": {
    "id": "OvJkpGR0Z2Lf"
   },
   "source": [
    "### Convert the data to the required types."
   ]
  },
  {
   "cell_type": "code",
   "execution_count": 140,
   "metadata": {
    "id": "JnvRw9UjZ2Lf",
    "scrolled": true
   },
   "outputs": [
    {
     "name": "stdout",
     "output_type": "stream",
     "text": [
      "<class 'pandas.core.frame.DataFrame'>\n",
      "RangeIndex: 541909 entries, 0 to 541908\n",
      "Data columns (total 7 columns):\n",
      " #   Column        Non-Null Count   Dtype  \n",
      "---  ------        --------------   -----  \n",
      " 0   invoice_no    541909 non-null  object \n",
      " 1   stock_code    541909 non-null  object \n",
      " 2   description   540455 non-null  object \n",
      " 3   quantity      541909 non-null  int64  \n",
      " 4   invoice_date  541909 non-null  object \n",
      " 5   unit_price    541909 non-null  float64\n",
      " 6   customer_id   406829 non-null  float64\n",
      "dtypes: float64(2), int64(1), object(4)\n",
      "memory usage: 28.9+ MB\n"
     ]
    }
   ],
   "source": [
    "data.info()"
   ]
  },
  {
   "cell_type": "markdown",
   "metadata": {
    "id": "cZQ1R2q6Z2Lg"
   },
   "source": [
    "**The following columns' dtypes will be investigated and changed if possible:**\n",
    "invoice_no, stock_code, and customer_id, invoice_date\n",
    "\n",
    "**The following columns' dtypes are fine:**\n",
    "description, quantity, and unit_price."
   ]
  },
  {
   "cell_type": "markdown",
   "metadata": {
    "id": "U8B0BRm7Z2Lg"
   },
   "source": [
    "#### Convert dtypes of the invoice_no and stock_code columns"
   ]
  },
  {
   "cell_type": "markdown",
   "metadata": {
    "id": "Vs73qoA5Z2Lh"
   },
   "source": [
    "I tried to convert the invoice_no & stock_code columns into int64, but i've noticed that many of the numbers and codes include letters, so I will keep their dtype as object. "
   ]
  },
  {
   "cell_type": "code",
   "execution_count": 141,
   "metadata": {
    "id": "aOdDprMYZ2Lh"
   },
   "outputs": [],
   "source": [
    "#data['invoice_no'] = data['invoice_no'].astype(np.int64)\n",
    "#data['stock_code'] = data['stock_code'].astype(np.int64)"
   ]
  },
  {
   "cell_type": "markdown",
   "metadata": {
    "id": "c4-quRSUZ2Li"
   },
   "source": [
    "#### Convert dtypes of the customer_id \n",
    "\n",
    "We can immediately change the dtype from float to int in this case, because float is already numerical, and the customer_id is an int dtype"
   ]
  },
  {
   "cell_type": "code",
   "execution_count": 142,
   "metadata": {
    "id": "48ljc9zeZ2Li"
   },
   "outputs": [],
   "source": [
    "#data['customer_id'] = data['customer_id'].astype(np.int64)"
   ]
  },
  {
   "cell_type": "markdown",
   "metadata": {
    "id": "2qcJbE_fZ2Li"
   },
   "source": [
    "I tried to change the dtype from float to int, but I got the following messgae \"Cannot convert non-finite values (NA or inf) to integer\".\n",
    "This means that I should deal with the customer_id NaN values first, there are 135,080 rows, which count more than 20% of the overall data, I will keep the dtype as it is as of now"
   ]
  },
  {
   "cell_type": "code",
   "execution_count": 143,
   "metadata": {
    "id": "afkeOC1JZ2Lj"
   },
   "outputs": [
    {
     "name": "stdout",
     "output_type": "stream",
     "text": [
      "There are 135080 missing values in the customer_id column\n"
     ]
    }
   ],
   "source": [
    "print(\"There are\", data['customer_id'].isnull().sum(), \"missing values in the customer_id column\")"
   ]
  },
  {
   "cell_type": "markdown",
   "metadata": {
    "id": "kRMRrdfxZ2Lj"
   },
   "source": [
    "#### Convert dtype of the invoice_date columns"
   ]
  },
  {
   "cell_type": "code",
   "execution_count": 144,
   "metadata": {
    "id": "zV2_n0XCZ2Lj"
   },
   "outputs": [],
   "source": [
    "data['invoice_date'] = pd.to_datetime(data['invoice_date'], format='%m/%d/%Y %H:%M')"
   ]
  },
  {
   "cell_type": "code",
   "execution_count": 145,
   "metadata": {
    "id": "885jsLdkZ2Lj"
   },
   "outputs": [
    {
     "name": "stdout",
     "output_type": "stream",
     "text": [
      "<class 'pandas.core.frame.DataFrame'>\n",
      "RangeIndex: 541909 entries, 0 to 541908\n",
      "Data columns (total 7 columns):\n",
      " #   Column        Non-Null Count   Dtype         \n",
      "---  ------        --------------   -----         \n",
      " 0   invoice_no    541909 non-null  object        \n",
      " 1   stock_code    541909 non-null  object        \n",
      " 2   description   540455 non-null  object        \n",
      " 3   quantity      541909 non-null  int64         \n",
      " 4   invoice_date  541909 non-null  datetime64[ns]\n",
      " 5   unit_price    541909 non-null  float64       \n",
      " 6   customer_id   406829 non-null  float64       \n",
      "dtypes: datetime64[ns](1), float64(2), int64(1), object(3)\n",
      "memory usage: 28.9+ MB\n"
     ]
    }
   ],
   "source": [
    "# Chekcing the change\n",
    "data.info()"
   ]
  },
  {
   "cell_type": "markdown",
   "metadata": {
    "id": "4g6GRcc3Z2Ll"
   },
   "source": [
    "### Examining missing values and dealing with them if necessary"
   ]
  },
  {
   "cell_type": "code",
   "execution_count": 146,
   "metadata": {
    "id": "WOaX87zcZ2Ll",
    "scrolled": true
   },
   "outputs": [
    {
     "data": {
      "text/plain": [
       "invoice_no      541909\n",
       "stock_code      541909\n",
       "description     540455\n",
       "quantity        541909\n",
       "invoice_date    541909\n",
       "unit_price      541909\n",
       "customer_id     406829\n",
       "dtype: int64"
      ]
     },
     "execution_count": 146,
     "metadata": {},
     "output_type": "execute_result"
    }
   ],
   "source": [
    "data.notnull().sum()"
   ]
  },
  {
   "cell_type": "code",
   "execution_count": 147,
   "metadata": {
    "id": "rSPWBvxrZ2Ll"
   },
   "outputs": [
    {
     "data": {
      "text/plain": [
       "invoice_no           0\n",
       "stock_code           0\n",
       "description       1454\n",
       "quantity             0\n",
       "invoice_date         0\n",
       "unit_price           0\n",
       "customer_id     135080\n",
       "dtype: int64"
      ]
     },
     "execution_count": 147,
     "metadata": {},
     "output_type": "execute_result"
    }
   ],
   "source": [
    "data.isnull().sum()"
   ]
  },
  {
   "cell_type": "markdown",
   "metadata": {
    "id": "KZYI2PEPZ2Lm"
   },
   "source": [
    "There are two columns where values are missing: description and customer_id"
   ]
  },
  {
   "cell_type": "markdown",
   "metadata": {
    "id": "CIhg53qHZ2Lm"
   },
   "source": [
    "#### Examining with the missing values in the customer_id column"
   ]
  },
  {
   "cell_type": "code",
   "execution_count": 148,
   "metadata": {
    "id": "Y2tPKEngZ2Ln"
   },
   "outputs": [
    {
     "data": {
      "text/html": [
       "<div>\n",
       "<style scoped>\n",
       "    .dataframe tbody tr th:only-of-type {\n",
       "        vertical-align: middle;\n",
       "    }\n",
       "\n",
       "    .dataframe tbody tr th {\n",
       "        vertical-align: top;\n",
       "    }\n",
       "\n",
       "    .dataframe thead th {\n",
       "        text-align: right;\n",
       "    }\n",
       "</style>\n",
       "<table border=\"1\" class=\"dataframe\">\n",
       "  <thead>\n",
       "    <tr style=\"text-align: right;\">\n",
       "      <th></th>\n",
       "      <th>invoice_no</th>\n",
       "      <th>stock_code</th>\n",
       "      <th>description</th>\n",
       "      <th>quantity</th>\n",
       "      <th>invoice_date</th>\n",
       "      <th>unit_price</th>\n",
       "      <th>customer_id</th>\n",
       "    </tr>\n",
       "  </thead>\n",
       "  <tbody>\n",
       "    <tr>\n",
       "      <th>622</th>\n",
       "      <td>536414</td>\n",
       "      <td>22139</td>\n",
       "      <td>NaN</td>\n",
       "      <td>56</td>\n",
       "      <td>2018-11-29 11:52:00</td>\n",
       "      <td>0.00</td>\n",
       "      <td>NaN</td>\n",
       "    </tr>\n",
       "    <tr>\n",
       "      <th>1443</th>\n",
       "      <td>536544</td>\n",
       "      <td>21773</td>\n",
       "      <td>DECORATIVE ROSE BATHROOM BOTTLE</td>\n",
       "      <td>1</td>\n",
       "      <td>2018-11-29 14:32:00</td>\n",
       "      <td>2.51</td>\n",
       "      <td>NaN</td>\n",
       "    </tr>\n",
       "    <tr>\n",
       "      <th>1444</th>\n",
       "      <td>536544</td>\n",
       "      <td>21774</td>\n",
       "      <td>DECORATIVE CATS BATHROOM BOTTLE</td>\n",
       "      <td>2</td>\n",
       "      <td>2018-11-29 14:32:00</td>\n",
       "      <td>2.51</td>\n",
       "      <td>NaN</td>\n",
       "    </tr>\n",
       "    <tr>\n",
       "      <th>1445</th>\n",
       "      <td>536544</td>\n",
       "      <td>21786</td>\n",
       "      <td>POLKADOT RAIN HAT</td>\n",
       "      <td>4</td>\n",
       "      <td>2018-11-29 14:32:00</td>\n",
       "      <td>0.85</td>\n",
       "      <td>NaN</td>\n",
       "    </tr>\n",
       "    <tr>\n",
       "      <th>1446</th>\n",
       "      <td>536544</td>\n",
       "      <td>21787</td>\n",
       "      <td>RAIN PONCHO RETROSPOT</td>\n",
       "      <td>2</td>\n",
       "      <td>2018-11-29 14:32:00</td>\n",
       "      <td>1.66</td>\n",
       "      <td>NaN</td>\n",
       "    </tr>\n",
       "  </tbody>\n",
       "</table>\n",
       "</div>"
      ],
      "text/plain": [
       "     invoice_no stock_code                      description  quantity  \\\n",
       "622      536414      22139                              NaN        56   \n",
       "1443     536544      21773  DECORATIVE ROSE BATHROOM BOTTLE         1   \n",
       "1444     536544      21774  DECORATIVE CATS BATHROOM BOTTLE         2   \n",
       "1445     536544      21786               POLKADOT RAIN HAT          4   \n",
       "1446     536544      21787            RAIN PONCHO RETROSPOT         2   \n",
       "\n",
       "            invoice_date  unit_price  customer_id  \n",
       "622  2018-11-29 11:52:00        0.00          NaN  \n",
       "1443 2018-11-29 14:32:00        2.51          NaN  \n",
       "1444 2018-11-29 14:32:00        2.51          NaN  \n",
       "1445 2018-11-29 14:32:00        0.85          NaN  \n",
       "1446 2018-11-29 14:32:00        1.66          NaN  "
      ]
     },
     "execution_count": 148,
     "metadata": {},
     "output_type": "execute_result"
    }
   ],
   "source": [
    "data[data['customer_id'].isnull()].head()"
   ]
  },
  {
   "cell_type": "code",
   "execution_count": 149,
   "metadata": {
    "id": "eQJ3vIhlZ2Ln"
   },
   "outputs": [
    {
     "name": "stdout",
     "output_type": "stream",
     "text": [
      "There are 135080 missing values in the customer_id column\n"
     ]
    }
   ],
   "source": [
    "print(\"There are\", data['customer_id'].isnull().sum(), \"missing values in the customer_id column\")"
   ]
  },
  {
   "cell_type": "markdown",
   "metadata": {},
   "source": [
    "I will leave them as they are now and will change when necessary"
   ]
  },
  {
   "cell_type": "markdown",
   "metadata": {
    "id": "4kAayw0pZ2Lo"
   },
   "source": [
    "#### Examining 0s (values) in the columns - unit_price"
   ]
  },
  {
   "cell_type": "code",
   "execution_count": 150,
   "metadata": {
    "id": "zwigARFoZ2Lp"
   },
   "outputs": [
    {
     "name": "stdout",
     "output_type": "stream",
     "text": [
      "invoice_no 0\n",
      "stock_code 0\n",
      "description 0\n",
      "quantity 0\n",
      "invoice_date 0\n",
      "unit_price 2515\n",
      "customer_id 0\n"
     ]
    }
   ],
   "source": [
    "#Using a loop to see how many 0s are in each column\n",
    "for i in data.columns:\n",
    "    print(i, len(data[data[i] == 0]))"
   ]
  },
  {
   "cell_type": "markdown",
   "metadata": {
    "id": "0CI8xMMkZ2Lp"
   },
   "source": [
    "There are 2515 rows where the unit_price is 0, let's take a look.."
   ]
  },
  {
   "cell_type": "code",
   "execution_count": 151,
   "metadata": {
    "id": "1PmK4BeCZ2Lq"
   },
   "outputs": [
    {
     "data": {
      "text/html": [
       "<div>\n",
       "<style scoped>\n",
       "    .dataframe tbody tr th:only-of-type {\n",
       "        vertical-align: middle;\n",
       "    }\n",
       "\n",
       "    .dataframe tbody tr th {\n",
       "        vertical-align: top;\n",
       "    }\n",
       "\n",
       "    .dataframe thead th {\n",
       "        text-align: right;\n",
       "    }\n",
       "</style>\n",
       "<table border=\"1\" class=\"dataframe\">\n",
       "  <thead>\n",
       "    <tr style=\"text-align: right;\">\n",
       "      <th></th>\n",
       "      <th>invoice_no</th>\n",
       "      <th>stock_code</th>\n",
       "      <th>description</th>\n",
       "      <th>quantity</th>\n",
       "      <th>invoice_date</th>\n",
       "      <th>unit_price</th>\n",
       "      <th>customer_id</th>\n",
       "    </tr>\n",
       "  </thead>\n",
       "  <tbody>\n",
       "    <tr>\n",
       "      <th>14386</th>\n",
       "      <td>537534</td>\n",
       "      <td>21891</td>\n",
       "      <td>TRADITIONAL WOODEN SKIPPING ROPE</td>\n",
       "      <td>1</td>\n",
       "      <td>2018-12-05 11:48:00</td>\n",
       "      <td>0.0</td>\n",
       "      <td>NaN</td>\n",
       "    </tr>\n",
       "    <tr>\n",
       "      <th>201076</th>\n",
       "      <td>554267</td>\n",
       "      <td>84313C</td>\n",
       "      <td>NaN</td>\n",
       "      <td>6</td>\n",
       "      <td>2019-05-21 12:56:00</td>\n",
       "      <td>0.0</td>\n",
       "      <td>NaN</td>\n",
       "    </tr>\n",
       "    <tr>\n",
       "      <th>75220</th>\n",
       "      <td>542544</td>\n",
       "      <td>17165D</td>\n",
       "      <td>NaN</td>\n",
       "      <td>-10</td>\n",
       "      <td>2019-01-26 14:43:00</td>\n",
       "      <td>0.0</td>\n",
       "      <td>NaN</td>\n",
       "    </tr>\n",
       "    <tr>\n",
       "      <th>281451</th>\n",
       "      <td>561525</td>\n",
       "      <td>84466</td>\n",
       "      <td>NaN</td>\n",
       "      <td>-1</td>\n",
       "      <td>2019-07-25 17:40:00</td>\n",
       "      <td>0.0</td>\n",
       "      <td>NaN</td>\n",
       "    </tr>\n",
       "    <tr>\n",
       "      <th>289690</th>\n",
       "      <td>562279</td>\n",
       "      <td>21391</td>\n",
       "      <td>NaN</td>\n",
       "      <td>-26</td>\n",
       "      <td>2019-08-02 10:28:00</td>\n",
       "      <td>0.0</td>\n",
       "      <td>NaN</td>\n",
       "    </tr>\n",
       "  </tbody>\n",
       "</table>\n",
       "</div>"
      ],
      "text/plain": [
       "       invoice_no stock_code                       description  quantity  \\\n",
       "14386      537534      21891  TRADITIONAL WOODEN SKIPPING ROPE         1   \n",
       "201076     554267     84313C                               NaN         6   \n",
       "75220      542544     17165D                               NaN       -10   \n",
       "281451     561525      84466                               NaN        -1   \n",
       "289690     562279      21391                               NaN       -26   \n",
       "\n",
       "              invoice_date  unit_price  customer_id  \n",
       "14386  2018-12-05 11:48:00         0.0          NaN  \n",
       "201076 2019-05-21 12:56:00         0.0          NaN  \n",
       "75220  2019-01-26 14:43:00         0.0          NaN  \n",
       "281451 2019-07-25 17:40:00         0.0          NaN  \n",
       "289690 2019-08-02 10:28:00         0.0          NaN  "
      ]
     },
     "execution_count": 151,
     "metadata": {},
     "output_type": "execute_result"
    }
   ],
   "source": [
    "data[data['unit_price'] == 0].sample(5)"
   ]
  },
  {
   "cell_type": "code",
   "execution_count": 152,
   "metadata": {
    "id": "wFvEh23sZ2Lq"
   },
   "outputs": [
    {
     "data": {
      "text/html": [
       "<div>\n",
       "<style scoped>\n",
       "    .dataframe tbody tr th:only-of-type {\n",
       "        vertical-align: middle;\n",
       "    }\n",
       "\n",
       "    .dataframe tbody tr th {\n",
       "        vertical-align: top;\n",
       "    }\n",
       "\n",
       "    .dataframe thead th {\n",
       "        text-align: right;\n",
       "    }\n",
       "</style>\n",
       "<table border=\"1\" class=\"dataframe\">\n",
       "  <thead>\n",
       "    <tr style=\"text-align: right;\">\n",
       "      <th></th>\n",
       "      <th>invoice_no</th>\n",
       "      <th>stock_code</th>\n",
       "      <th>description</th>\n",
       "      <th>quantity</th>\n",
       "      <th>invoice_date</th>\n",
       "      <th>unit_price</th>\n",
       "      <th>customer_id</th>\n",
       "    </tr>\n",
       "  </thead>\n",
       "  <tbody>\n",
       "    <tr>\n",
       "      <th>125832</th>\n",
       "      <td>547062</td>\n",
       "      <td>37488A</td>\n",
       "      <td>YELLOW PINK FLOWER DESIGN BIG BOWL</td>\n",
       "      <td>2</td>\n",
       "      <td>2019-03-18 13:28:00</td>\n",
       "      <td>0.39</td>\n",
       "      <td>16728.0</td>\n",
       "    </tr>\n",
       "    <tr>\n",
       "      <th>144382</th>\n",
       "      <td>548739</td>\n",
       "      <td>37488A</td>\n",
       "      <td>YELLOW PINK FLOWER DESIGN BIG BOWL</td>\n",
       "      <td>4</td>\n",
       "      <td>2019-04-02 11:28:00</td>\n",
       "      <td>0.39</td>\n",
       "      <td>15493.0</td>\n",
       "    </tr>\n",
       "    <tr>\n",
       "      <th>154694</th>\n",
       "      <td>549940</td>\n",
       "      <td>37488A</td>\n",
       "      <td>YELLOW PINK FLOWER DESIGN BIG BOWL</td>\n",
       "      <td>22</td>\n",
       "      <td>2019-04-11 11:48:00</td>\n",
       "      <td>0.39</td>\n",
       "      <td>13694.0</td>\n",
       "    </tr>\n",
       "    <tr>\n",
       "      <th>154799</th>\n",
       "      <td>549948</td>\n",
       "      <td>37488A</td>\n",
       "      <td>damaged</td>\n",
       "      <td>-1</td>\n",
       "      <td>2019-04-11 12:55:00</td>\n",
       "      <td>0.00</td>\n",
       "      <td>NaN</td>\n",
       "    </tr>\n",
       "  </tbody>\n",
       "</table>\n",
       "</div>"
      ],
      "text/plain": [
       "       invoice_no stock_code                         description  quantity  \\\n",
       "125832     547062     37488A  YELLOW PINK FLOWER DESIGN BIG BOWL         2   \n",
       "144382     548739     37488A  YELLOW PINK FLOWER DESIGN BIG BOWL         4   \n",
       "154694     549940     37488A  YELLOW PINK FLOWER DESIGN BIG BOWL        22   \n",
       "154799     549948     37488A                             damaged        -1   \n",
       "\n",
       "              invoice_date  unit_price  customer_id  \n",
       "125832 2019-03-18 13:28:00        0.39      16728.0  \n",
       "144382 2019-04-02 11:28:00        0.39      15493.0  \n",
       "154694 2019-04-11 11:48:00        0.39      13694.0  \n",
       "154799 2019-04-11 12:55:00        0.00          NaN  "
      ]
     },
     "execution_count": 152,
     "metadata": {},
     "output_type": "execute_result"
    }
   ],
   "source": [
    "data[data['stock_code'] == \"37488A\"]"
   ]
  },
  {
   "cell_type": "markdown",
   "metadata": {
    "id": "NLUDHIZ1Z2Lr"
   },
   "source": [
    "The same product, which its stock number is \"37488A\" have a different description, Where there is a unit_price with a positive number, it have a noraml description of \"YELLOW ... BIG BOWL\", while the one with a unit_price of 0 have description of \"damaged\" which I assume that this product arrived and is damaged, so the e-commerce business manually wrote this as a comment in the description section, and it seem that there is no customer_id, meaning that this stock was found damaged and returned/stayed at the e-commerce storage.\n",
    "\n",
    "What is interesting also is that the customer_id is missing here, because there is no customer who received this. Let's look further into the damaged products"
   ]
  },
  {
   "cell_type": "code",
   "execution_count": 153,
   "metadata": {
    "id": "WsngWhvmZ2Lr"
   },
   "outputs": [
    {
     "data": {
      "text/plain": [
       "invoice_no      43\n",
       "stock_code      43\n",
       "description     43\n",
       "quantity        43\n",
       "invoice_date    43\n",
       "unit_price      43\n",
       "customer_id      0\n",
       "dtype: int64"
      ]
     },
     "execution_count": 153,
     "metadata": {},
     "output_type": "execute_result"
    }
   ],
   "source": [
    "data[data['description'] == \"damaged\"].count()"
   ]
  },
  {
   "cell_type": "markdown",
   "metadata": {
    "id": "uq5Mx7g1Z2Ls"
   },
   "source": [
    "There are 43 invoices which are described as damanged, and non have customer_id.. Now back to the unit_price of 0s investigation and see more examples.."
   ]
  },
  {
   "cell_type": "code",
   "execution_count": 154,
   "metadata": {
    "id": "FOMnL2L6Z2Lt"
   },
   "outputs": [
    {
     "data": {
      "text/html": [
       "<div>\n",
       "<style scoped>\n",
       "    .dataframe tbody tr th:only-of-type {\n",
       "        vertical-align: middle;\n",
       "    }\n",
       "\n",
       "    .dataframe tbody tr th {\n",
       "        vertical-align: top;\n",
       "    }\n",
       "\n",
       "    .dataframe thead th {\n",
       "        text-align: right;\n",
       "    }\n",
       "</style>\n",
       "<table border=\"1\" class=\"dataframe\">\n",
       "  <thead>\n",
       "    <tr style=\"text-align: right;\">\n",
       "      <th></th>\n",
       "      <th>invoice_no</th>\n",
       "      <th>stock_code</th>\n",
       "      <th>description</th>\n",
       "      <th>quantity</th>\n",
       "      <th>invoice_date</th>\n",
       "      <th>unit_price</th>\n",
       "      <th>customer_id</th>\n",
       "    </tr>\n",
       "  </thead>\n",
       "  <tbody>\n",
       "    <tr>\n",
       "      <th>1987</th>\n",
       "      <td>536549</td>\n",
       "      <td>85226A</td>\n",
       "      <td>NaN</td>\n",
       "      <td>1</td>\n",
       "      <td>2018-11-29 14:34:00</td>\n",
       "      <td>0.0</td>\n",
       "      <td>NaN</td>\n",
       "    </tr>\n",
       "  </tbody>\n",
       "</table>\n",
       "</div>"
      ],
      "text/plain": [
       "     invoice_no stock_code description  quantity        invoice_date  \\\n",
       "1987     536549     85226A         NaN         1 2018-11-29 14:34:00   \n",
       "\n",
       "      unit_price  customer_id  \n",
       "1987         0.0          NaN  "
      ]
     },
     "execution_count": 154,
     "metadata": {},
     "output_type": "execute_result"
    }
   ],
   "source": [
    "data[data['stock_code'] == \"85226A\"]"
   ]
  },
  {
   "cell_type": "markdown",
   "metadata": {
    "id": "Jt7Bxn2PZ2Lu"
   },
   "source": [
    "That's an invoice where quantity is 1, and there is no customer_id, that's quite ambiguous. Let's look further.."
   ]
  },
  {
   "cell_type": "code",
   "execution_count": 155,
   "metadata": {
    "id": "JYdIhe27Z2Lv"
   },
   "outputs": [
    {
     "data": {
      "text/html": [
       "<div>\n",
       "<style scoped>\n",
       "    .dataframe tbody tr th:only-of-type {\n",
       "        vertical-align: middle;\n",
       "    }\n",
       "\n",
       "    .dataframe tbody tr th {\n",
       "        vertical-align: top;\n",
       "    }\n",
       "\n",
       "    .dataframe thead th {\n",
       "        text-align: right;\n",
       "    }\n",
       "</style>\n",
       "<table border=\"1\" class=\"dataframe\">\n",
       "  <thead>\n",
       "    <tr style=\"text-align: right;\">\n",
       "      <th></th>\n",
       "      <th>invoice_no</th>\n",
       "      <th>stock_code</th>\n",
       "      <th>description</th>\n",
       "      <th>quantity</th>\n",
       "      <th>invoice_date</th>\n",
       "      <th>unit_price</th>\n",
       "      <th>customer_id</th>\n",
       "    </tr>\n",
       "  </thead>\n",
       "  <tbody>\n",
       "    <tr>\n",
       "      <th>1971</th>\n",
       "      <td>536546</td>\n",
       "      <td>22145</td>\n",
       "      <td>NaN</td>\n",
       "      <td>1</td>\n",
       "      <td>2018-11-29 14:33:00</td>\n",
       "      <td>0.0</td>\n",
       "      <td>NaN</td>\n",
       "    </tr>\n",
       "    <tr>\n",
       "      <th>19025</th>\n",
       "      <td>537827</td>\n",
       "      <td>22145</td>\n",
       "      <td>CHRISTMAS CRAFT HEART STOCKING</td>\n",
       "      <td>30</td>\n",
       "      <td>2018-12-06 14:43:00</td>\n",
       "      <td>2.1</td>\n",
       "      <td>15332.0</td>\n",
       "    </tr>\n",
       "    <tr>\n",
       "      <th>20392</th>\n",
       "      <td>538041</td>\n",
       "      <td>22145</td>\n",
       "      <td>NaN</td>\n",
       "      <td>30</td>\n",
       "      <td>2018-12-07 13:09:00</td>\n",
       "      <td>0.0</td>\n",
       "      <td>NaN</td>\n",
       "    </tr>\n",
       "  </tbody>\n",
       "</table>\n",
       "</div>"
      ],
      "text/plain": [
       "      invoice_no stock_code                      description  quantity  \\\n",
       "1971      536546      22145                              NaN         1   \n",
       "19025     537827      22145  CHRISTMAS CRAFT HEART STOCKING         30   \n",
       "20392     538041      22145                              NaN        30   \n",
       "\n",
       "             invoice_date  unit_price  customer_id  \n",
       "1971  2018-11-29 14:33:00         0.0          NaN  \n",
       "19025 2018-12-06 14:43:00         2.1      15332.0  \n",
       "20392 2018-12-07 13:09:00         0.0          NaN  "
      ]
     },
     "execution_count": 155,
     "metadata": {},
     "output_type": "execute_result"
    }
   ],
   "source": [
    "data[data['stock_code'] == \"22145\"]"
   ]
  },
  {
   "cell_type": "markdown",
   "metadata": {
    "id": "wUVlL1EHZ2Lv"
   },
   "source": [
    "For the same stock_code, there are 3 invoice_no, where two of them have unit_price of 0 and no  description while the customer_id is also missing. That's quite ambiguous still.. Let's see one more example before deciding what to do with these 2515 rows where the unit_price is 0"
   ]
  },
  {
   "cell_type": "code",
   "execution_count": 156,
   "metadata": {
    "id": "-6g2LSMTZ2Lw"
   },
   "outputs": [
    {
     "name": "stdout",
     "output_type": "stream",
     "text": [
      "The shape of the stock_code of 22139 is:  (993, 7)\n"
     ]
    },
    {
     "data": {
      "text/html": [
       "<div>\n",
       "<style scoped>\n",
       "    .dataframe tbody tr th:only-of-type {\n",
       "        vertical-align: middle;\n",
       "    }\n",
       "\n",
       "    .dataframe tbody tr th {\n",
       "        vertical-align: top;\n",
       "    }\n",
       "\n",
       "    .dataframe thead th {\n",
       "        text-align: right;\n",
       "    }\n",
       "</style>\n",
       "<table border=\"1\" class=\"dataframe\">\n",
       "  <thead>\n",
       "    <tr style=\"text-align: right;\">\n",
       "      <th></th>\n",
       "      <th>invoice_no</th>\n",
       "      <th>stock_code</th>\n",
       "      <th>description</th>\n",
       "      <th>quantity</th>\n",
       "      <th>invoice_date</th>\n",
       "      <th>unit_price</th>\n",
       "      <th>customer_id</th>\n",
       "    </tr>\n",
       "  </thead>\n",
       "  <tbody>\n",
       "    <tr>\n",
       "      <th>106</th>\n",
       "      <td>536381</td>\n",
       "      <td>22139</td>\n",
       "      <td>RETROSPOT TEA SET CERAMIC 11 PC</td>\n",
       "      <td>23</td>\n",
       "      <td>2018-11-29 09:41:00</td>\n",
       "      <td>4.25</td>\n",
       "      <td>15311.0</td>\n",
       "    </tr>\n",
       "    <tr>\n",
       "      <th>622</th>\n",
       "      <td>536414</td>\n",
       "      <td>22139</td>\n",
       "      <td>NaN</td>\n",
       "      <td>56</td>\n",
       "      <td>2018-11-29 11:52:00</td>\n",
       "      <td>0.00</td>\n",
       "      <td>NaN</td>\n",
       "    </tr>\n",
       "    <tr>\n",
       "      <th>6392</th>\n",
       "      <td>536942</td>\n",
       "      <td>22139</td>\n",
       "      <td>amazon</td>\n",
       "      <td>15</td>\n",
       "      <td>2018-12-01 12:08:00</td>\n",
       "      <td>0.00</td>\n",
       "      <td>NaN</td>\n",
       "    </tr>\n",
       "    <tr>\n",
       "      <th>6885</th>\n",
       "      <td>536982</td>\n",
       "      <td>22139</td>\n",
       "      <td>RETROSPOT TEA SET CERAMIC 11 PC</td>\n",
       "      <td>10</td>\n",
       "      <td>2018-12-01 14:27:00</td>\n",
       "      <td>11.02</td>\n",
       "      <td>NaN</td>\n",
       "    </tr>\n",
       "    <tr>\n",
       "      <th>7203</th>\n",
       "      <td>537011</td>\n",
       "      <td>22139</td>\n",
       "      <td>NaN</td>\n",
       "      <td>-5</td>\n",
       "      <td>2018-12-01 15:38:00</td>\n",
       "      <td>0.00</td>\n",
       "      <td>NaN</td>\n",
       "    </tr>\n",
       "  </tbody>\n",
       "</table>\n",
       "</div>"
      ],
      "text/plain": [
       "     invoice_no stock_code                       description  quantity  \\\n",
       "106      536381      22139  RETROSPOT TEA SET CERAMIC 11 PC         23   \n",
       "622      536414      22139                               NaN        56   \n",
       "6392     536942      22139                            amazon        15   \n",
       "6885     536982      22139  RETROSPOT TEA SET CERAMIC 11 PC         10   \n",
       "7203     537011      22139                               NaN        -5   \n",
       "\n",
       "            invoice_date  unit_price  customer_id  \n",
       "106  2018-11-29 09:41:00        4.25      15311.0  \n",
       "622  2018-11-29 11:52:00        0.00          NaN  \n",
       "6392 2018-12-01 12:08:00        0.00          NaN  \n",
       "6885 2018-12-01 14:27:00       11.02          NaN  \n",
       "7203 2018-12-01 15:38:00        0.00          NaN  "
      ]
     },
     "execution_count": 156,
     "metadata": {},
     "output_type": "execute_result"
    }
   ],
   "source": [
    "print(\"The shape of the stock_code of 22139 is: \", data[data['stock_code'] == \"22139\"].shape)\n",
    "data[data['stock_code'] == \"22139\"].head()"
   ]
  },
  {
   "cell_type": "markdown",
   "metadata": {
    "id": "BdUiaLo3Z2Lx"
   },
   "source": [
    "The same stock_code had differnet description and different unit_price, some rows had a full data which we can use for the product range  analysis, but some cases where unit_price is 0 are still unidentified. "
   ]
  },
  {
   "cell_type": "markdown",
   "metadata": {
    "id": "bzOOFc_9Z2Lx"
   },
   "source": [
    "To further examin rows where unit_price is 0, let's count them.."
   ]
  },
  {
   "cell_type": "code",
   "execution_count": 157,
   "metadata": {
    "id": "McAx9qdxZ2Lx"
   },
   "outputs": [
    {
     "data": {
      "text/plain": [
       "invoice_no      2515\n",
       "stock_code      2515\n",
       "description     1061\n",
       "quantity        2515\n",
       "invoice_date    2515\n",
       "unit_price      2515\n",
       "customer_id       40\n",
       "dtype: int64"
      ]
     },
     "execution_count": 157,
     "metadata": {},
     "output_type": "execute_result"
    }
   ],
   "source": [
    "data[data['unit_price'] == 0 ].count()"
   ]
  },
  {
   "cell_type": "markdown",
   "metadata": {
    "id": "HadIeoYxZ2Ly"
   },
   "source": [
    "There are 40 rows where customer_id is not missing when the unit_price is 0s, I assume that these are a mistake, or these are rare coupons. Let's take a look.."
   ]
  },
  {
   "cell_type": "code",
   "execution_count": 158,
   "metadata": {
    "id": "jqN2hNM3Z2Lz"
   },
   "outputs": [
    {
     "data": {
      "text/html": [
       "<div>\n",
       "<style scoped>\n",
       "    .dataframe tbody tr th:only-of-type {\n",
       "        vertical-align: middle;\n",
       "    }\n",
       "\n",
       "    .dataframe tbody tr th {\n",
       "        vertical-align: top;\n",
       "    }\n",
       "\n",
       "    .dataframe thead th {\n",
       "        text-align: right;\n",
       "    }\n",
       "</style>\n",
       "<table border=\"1\" class=\"dataframe\">\n",
       "  <thead>\n",
       "    <tr style=\"text-align: right;\">\n",
       "      <th></th>\n",
       "      <th>invoice_no</th>\n",
       "      <th>stock_code</th>\n",
       "      <th>description</th>\n",
       "      <th>quantity</th>\n",
       "      <th>invoice_date</th>\n",
       "      <th>unit_price</th>\n",
       "      <th>customer_id</th>\n",
       "    </tr>\n",
       "  </thead>\n",
       "  <tbody>\n",
       "    <tr>\n",
       "      <th>446794</th>\n",
       "      <td>574920</td>\n",
       "      <td>23480</td>\n",
       "      <td>MINI LIGHTS WOODLAND MUSHROOMS</td>\n",
       "      <td>1</td>\n",
       "      <td>2019-11-05 16:34:00</td>\n",
       "      <td>0.0</td>\n",
       "      <td>13985.0</td>\n",
       "    </tr>\n",
       "    <tr>\n",
       "      <th>436961</th>\n",
       "      <td>574252</td>\n",
       "      <td>M</td>\n",
       "      <td>Manual</td>\n",
       "      <td>1</td>\n",
       "      <td>2019-11-01 13:24:00</td>\n",
       "      <td>0.0</td>\n",
       "      <td>12437.0</td>\n",
       "    </tr>\n",
       "    <tr>\n",
       "      <th>187613</th>\n",
       "      <td>553000</td>\n",
       "      <td>47566</td>\n",
       "      <td>PARTY BUNTING</td>\n",
       "      <td>4</td>\n",
       "      <td>2019-05-10 15:21:00</td>\n",
       "      <td>0.0</td>\n",
       "      <td>17667.0</td>\n",
       "    </tr>\n",
       "    <tr>\n",
       "      <th>314748</th>\n",
       "      <td>564651</td>\n",
       "      <td>21786</td>\n",
       "      <td>POLKADOT RAIN HAT</td>\n",
       "      <td>144</td>\n",
       "      <td>2019-08-24 14:19:00</td>\n",
       "      <td>0.0</td>\n",
       "      <td>14646.0</td>\n",
       "    </tr>\n",
       "    <tr>\n",
       "      <th>145208</th>\n",
       "      <td>548871</td>\n",
       "      <td>22162</td>\n",
       "      <td>HEART GARLAND RUSTIC PADDED</td>\n",
       "      <td>2</td>\n",
       "      <td>2019-04-02 14:42:00</td>\n",
       "      <td>0.0</td>\n",
       "      <td>14410.0</td>\n",
       "    </tr>\n",
       "  </tbody>\n",
       "</table>\n",
       "</div>"
      ],
      "text/plain": [
       "       invoice_no stock_code                     description  quantity  \\\n",
       "446794     574920      23480  MINI LIGHTS WOODLAND MUSHROOMS         1   \n",
       "436961     574252          M                          Manual         1   \n",
       "187613     553000      47566                   PARTY BUNTING         4   \n",
       "314748     564651      21786              POLKADOT RAIN HAT        144   \n",
       "145208     548871      22162     HEART GARLAND RUSTIC PADDED         2   \n",
       "\n",
       "              invoice_date  unit_price  customer_id  \n",
       "446794 2019-11-05 16:34:00         0.0      13985.0  \n",
       "436961 2019-11-01 13:24:00         0.0      12437.0  \n",
       "187613 2019-05-10 15:21:00         0.0      17667.0  \n",
       "314748 2019-08-24 14:19:00         0.0      14646.0  \n",
       "145208 2019-04-02 14:42:00         0.0      14410.0  "
      ]
     },
     "execution_count": 158,
     "metadata": {},
     "output_type": "execute_result"
    }
   ],
   "source": [
    "data.loc[(data['unit_price'] == 0) & (data['customer_id'].notnull())].sample(5)"
   ]
  },
  {
   "cell_type": "markdown",
   "metadata": {
    "id": "4jE3YxGHZ2Lz"
   },
   "source": [
    "Possible explaination that we have 2515 unit_price of 0s are the following:\n",
    "\n",
    "1. These might have been coupons that customers got as a gift on deals. It's The 40 rows where customer_id is not missing when the unit_price is 0s.\n",
    "\n",
    "2. in most cases it's either an unidentified item or \"damaged\"\n",
    "\n",
    "Having said that, I decide to drop the 0s since there are not much rows (only 2515 out of 540,000)"
   ]
  },
  {
   "cell_type": "code",
   "execution_count": 159,
   "metadata": {
    "id": "cw_Ov0uKZ2L0"
   },
   "outputs": [
    {
     "data": {
      "text/plain": [
       "(539394, 7)"
      ]
     },
     "execution_count": 159,
     "metadata": {},
     "output_type": "execute_result"
    }
   ],
   "source": [
    "data = data[data['unit_price'] != 0]\n",
    "data.shape"
   ]
  },
  {
   "cell_type": "markdown",
   "metadata": {},
   "source": [
    "unit_price negative sign summary: I've emailed the bookkeepr of the client about these and dropped the rows since it's not our main analysis focus"
   ]
  },
  {
   "cell_type": "markdown",
   "metadata": {
    "id": "uN1ppOfxZ2L0"
   },
   "source": [
    "#### unit_price negative sign"
   ]
  },
  {
   "cell_type": "code",
   "execution_count": 160,
   "metadata": {
    "id": "5fbjGiUtZ2L1"
   },
   "outputs": [
    {
     "data": {
      "text/html": [
       "<div>\n",
       "<style scoped>\n",
       "    .dataframe tbody tr th:only-of-type {\n",
       "        vertical-align: middle;\n",
       "    }\n",
       "\n",
       "    .dataframe tbody tr th {\n",
       "        vertical-align: top;\n",
       "    }\n",
       "\n",
       "    .dataframe thead th {\n",
       "        text-align: right;\n",
       "    }\n",
       "</style>\n",
       "<table border=\"1\" class=\"dataframe\">\n",
       "  <thead>\n",
       "    <tr style=\"text-align: right;\">\n",
       "      <th></th>\n",
       "      <th>invoice_no</th>\n",
       "      <th>stock_code</th>\n",
       "      <th>description</th>\n",
       "      <th>quantity</th>\n",
       "      <th>invoice_date</th>\n",
       "      <th>unit_price</th>\n",
       "      <th>customer_id</th>\n",
       "    </tr>\n",
       "  </thead>\n",
       "  <tbody>\n",
       "    <tr>\n",
       "      <th>299983</th>\n",
       "      <td>A563186</td>\n",
       "      <td>B</td>\n",
       "      <td>Adjust bad debt</td>\n",
       "      <td>1</td>\n",
       "      <td>2019-08-10 14:51:00</td>\n",
       "      <td>-11062.06</td>\n",
       "      <td>NaN</td>\n",
       "    </tr>\n",
       "    <tr>\n",
       "      <th>299984</th>\n",
       "      <td>A563187</td>\n",
       "      <td>B</td>\n",
       "      <td>Adjust bad debt</td>\n",
       "      <td>1</td>\n",
       "      <td>2019-08-10 14:52:00</td>\n",
       "      <td>-11062.06</td>\n",
       "      <td>NaN</td>\n",
       "    </tr>\n",
       "  </tbody>\n",
       "</table>\n",
       "</div>"
      ],
      "text/plain": [
       "       invoice_no stock_code      description  quantity        invoice_date  \\\n",
       "299983    A563186          B  Adjust bad debt         1 2019-08-10 14:51:00   \n",
       "299984    A563187          B  Adjust bad debt         1 2019-08-10 14:52:00   \n",
       "\n",
       "        unit_price  customer_id  \n",
       "299983   -11062.06          NaN  \n",
       "299984   -11062.06          NaN  "
      ]
     },
     "execution_count": 160,
     "metadata": {},
     "output_type": "execute_result"
    }
   ],
   "source": [
    "# Showing rows with negative unit_price\n",
    "data[data['unit_price'] < 0]"
   ]
  },
  {
   "cell_type": "markdown",
   "metadata": {
    "id": "9cDgpID4Z2L1"
   },
   "source": [
    "Negative unit_price implies adjusted bad debt for bookkeeping, meaning that the e-commerce business did not receive the payments on these invoices and it's unlikely to be paid for them and for which the creditor (business) is not willing to take action to collect."
   ]
  },
  {
   "cell_type": "markdown",
   "metadata": {
    "id": "GstgKeI8Z2L1"
   },
   "source": [
    "Let's see if there are other \"Adjust bad debt\" invoices"
   ]
  },
  {
   "cell_type": "code",
   "execution_count": 161,
   "metadata": {
    "id": "CeJ6IZoAZ2L2"
   },
   "outputs": [
    {
     "data": {
      "text/html": [
       "<div>\n",
       "<style scoped>\n",
       "    .dataframe tbody tr th:only-of-type {\n",
       "        vertical-align: middle;\n",
       "    }\n",
       "\n",
       "    .dataframe tbody tr th {\n",
       "        vertical-align: top;\n",
       "    }\n",
       "\n",
       "    .dataframe thead th {\n",
       "        text-align: right;\n",
       "    }\n",
       "</style>\n",
       "<table border=\"1\" class=\"dataframe\">\n",
       "  <thead>\n",
       "    <tr style=\"text-align: right;\">\n",
       "      <th></th>\n",
       "      <th>invoice_no</th>\n",
       "      <th>stock_code</th>\n",
       "      <th>description</th>\n",
       "      <th>quantity</th>\n",
       "      <th>invoice_date</th>\n",
       "      <th>unit_price</th>\n",
       "      <th>customer_id</th>\n",
       "    </tr>\n",
       "  </thead>\n",
       "  <tbody>\n",
       "    <tr>\n",
       "      <th>299982</th>\n",
       "      <td>A563185</td>\n",
       "      <td>B</td>\n",
       "      <td>Adjust bad debt</td>\n",
       "      <td>1</td>\n",
       "      <td>2019-08-10 14:50:00</td>\n",
       "      <td>11062.06</td>\n",
       "      <td>NaN</td>\n",
       "    </tr>\n",
       "    <tr>\n",
       "      <th>299983</th>\n",
       "      <td>A563186</td>\n",
       "      <td>B</td>\n",
       "      <td>Adjust bad debt</td>\n",
       "      <td>1</td>\n",
       "      <td>2019-08-10 14:51:00</td>\n",
       "      <td>-11062.06</td>\n",
       "      <td>NaN</td>\n",
       "    </tr>\n",
       "    <tr>\n",
       "      <th>299984</th>\n",
       "      <td>A563187</td>\n",
       "      <td>B</td>\n",
       "      <td>Adjust bad debt</td>\n",
       "      <td>1</td>\n",
       "      <td>2019-08-10 14:52:00</td>\n",
       "      <td>-11062.06</td>\n",
       "      <td>NaN</td>\n",
       "    </tr>\n",
       "  </tbody>\n",
       "</table>\n",
       "</div>"
      ],
      "text/plain": [
       "       invoice_no stock_code      description  quantity        invoice_date  \\\n",
       "299982    A563185          B  Adjust bad debt         1 2019-08-10 14:50:00   \n",
       "299983    A563186          B  Adjust bad debt         1 2019-08-10 14:51:00   \n",
       "299984    A563187          B  Adjust bad debt         1 2019-08-10 14:52:00   \n",
       "\n",
       "        unit_price  customer_id  \n",
       "299982    11062.06          NaN  \n",
       "299983   -11062.06          NaN  \n",
       "299984   -11062.06          NaN  "
      ]
     },
     "execution_count": 161,
     "metadata": {},
     "output_type": "execute_result"
    }
   ],
   "source": [
    "data[data['description'] == \"Adjust bad debt\"]"
   ]
  },
  {
   "cell_type": "markdown",
   "metadata": {
    "id": "yxOxvsP2Z2L2"
   },
   "source": [
    "There is another one, which the unit_price is positive, I assume that this is a sign mistake."
   ]
  },
  {
   "cell_type": "code",
   "execution_count": 162,
   "metadata": {
    "id": "ENq-nAntZ2L3"
   },
   "outputs": [
    {
     "data": {
      "text/html": [
       "<div>\n",
       "<style scoped>\n",
       "    .dataframe tbody tr th:only-of-type {\n",
       "        vertical-align: middle;\n",
       "    }\n",
       "\n",
       "    .dataframe tbody tr th {\n",
       "        vertical-align: top;\n",
       "    }\n",
       "\n",
       "    .dataframe thead th {\n",
       "        text-align: right;\n",
       "    }\n",
       "</style>\n",
       "<table border=\"1\" class=\"dataframe\">\n",
       "  <thead>\n",
       "    <tr style=\"text-align: right;\">\n",
       "      <th></th>\n",
       "      <th>invoice_no</th>\n",
       "      <th>stock_code</th>\n",
       "      <th>description</th>\n",
       "      <th>quantity</th>\n",
       "      <th>invoice_date</th>\n",
       "      <th>unit_price</th>\n",
       "      <th>customer_id</th>\n",
       "    </tr>\n",
       "  </thead>\n",
       "  <tbody>\n",
       "    <tr>\n",
       "      <th>299982</th>\n",
       "      <td>A563185</td>\n",
       "      <td>B</td>\n",
       "      <td>Adjust bad debt</td>\n",
       "      <td>1</td>\n",
       "      <td>2019-08-10 14:50:00</td>\n",
       "      <td>11062.06</td>\n",
       "      <td>NaN</td>\n",
       "    </tr>\n",
       "    <tr>\n",
       "      <th>299983</th>\n",
       "      <td>A563186</td>\n",
       "      <td>B</td>\n",
       "      <td>Adjust bad debt</td>\n",
       "      <td>1</td>\n",
       "      <td>2019-08-10 14:51:00</td>\n",
       "      <td>-11062.06</td>\n",
       "      <td>NaN</td>\n",
       "    </tr>\n",
       "    <tr>\n",
       "      <th>299984</th>\n",
       "      <td>A563187</td>\n",
       "      <td>B</td>\n",
       "      <td>Adjust bad debt</td>\n",
       "      <td>1</td>\n",
       "      <td>2019-08-10 14:52:00</td>\n",
       "      <td>-11062.06</td>\n",
       "      <td>NaN</td>\n",
       "    </tr>\n",
       "  </tbody>\n",
       "</table>\n",
       "</div>"
      ],
      "text/plain": [
       "       invoice_no stock_code      description  quantity        invoice_date  \\\n",
       "299982    A563185          B  Adjust bad debt         1 2019-08-10 14:50:00   \n",
       "299983    A563186          B  Adjust bad debt         1 2019-08-10 14:51:00   \n",
       "299984    A563187          B  Adjust bad debt         1 2019-08-10 14:52:00   \n",
       "\n",
       "        unit_price  customer_id  \n",
       "299982    11062.06          NaN  \n",
       "299983   -11062.06          NaN  \n",
       "299984   -11062.06          NaN  "
      ]
     },
     "execution_count": 162,
     "metadata": {},
     "output_type": "execute_result"
    }
   ],
   "source": [
    "# Searching for more \"debt\" in the description\n",
    "# https://pandas.pydata.org/pandas-docs/stable/reference/api/pandas.Series.str.contains.html\n",
    "data[data.description.str.contains('debt',case=False)]"
   ]
  },
  {
   "cell_type": "markdown",
   "metadata": {},
   "source": [
    "So nothing more found.. Having said that, I will inform the client's bookkeeper via email about them (e-commerce business bookkeepr) about them, but I will drop them since these are not out main work."
   ]
  },
  {
   "cell_type": "code",
   "execution_count": 163,
   "metadata": {
    "id": "9vr2TXOMZ2L4"
   },
   "outputs": [],
   "source": [
    "#Dropping rows where description is \"Adjust bad debt\"\n",
    "# https://stackoverflow.com/questions/43136137/dropdata[data.description.str.contains('WHITE',case=False)]a-specific-row-in-pandas\n",
    "i = data[(data.description == 'Adjust bad debt')].index\n",
    "data = data.drop(i)"
   ]
  },
  {
   "cell_type": "markdown",
   "metadata": {
    "id": "BRcxF0ogZ2L7"
   },
   "source": [
    "#### Retreving missing values in the customer_id"
   ]
  },
  {
   "cell_type": "code",
   "execution_count": 164,
   "metadata": {
    "id": "Xh8WagH2Z2L6"
   },
   "outputs": [
    {
     "name": "stdout",
     "output_type": "stream",
     "text": [
      "<class 'pandas.core.frame.DataFrame'>\n",
      "Int64Index: 539391 entries, 0 to 541908\n",
      "Data columns (total 7 columns):\n",
      " #   Column        Non-Null Count   Dtype         \n",
      "---  ------        --------------   -----         \n",
      " 0   invoice_no    539391 non-null  object        \n",
      " 1   stock_code    539391 non-null  object        \n",
      " 2   description   539391 non-null  object        \n",
      " 3   quantity      539391 non-null  int64         \n",
      " 4   invoice_date  539391 non-null  datetime64[ns]\n",
      " 5   unit_price    539391 non-null  float64       \n",
      " 6   customer_id   406789 non-null  float64       \n",
      "dtypes: datetime64[ns](1), float64(2), int64(1), object(3)\n",
      "memory usage: 32.9+ MB\n"
     ]
    }
   ],
   "source": [
    "data.info()"
   ]
  },
  {
   "cell_type": "markdown",
   "metadata": {
    "id": "fvpr7y1GZ2L8"
   },
   "source": [
    "Defining the customer_id as \"unidentified\" is the best way to go, because we cannot retrevie them from other columns without making an assumption which I do not want to get myself into since it might not be accurate"
   ]
  },
  {
   "cell_type": "code",
   "execution_count": 165,
   "metadata": {
    "id": "xPEbJ5YeZ2L9"
   },
   "outputs": [],
   "source": [
    "# replacing all the Nan with \"missing\" so I can use the \".str.contains\" to search if any description contain \"debt\"\n",
    "data['customer_id'].fillna('unidentified', inplace=True)"
   ]
  },
  {
   "cell_type": "markdown",
   "metadata": {
    "id": "mocWu69dZ2L-"
   },
   "source": [
    "#### Retreving missing values and uniforming in the description using the stock_code"
   ]
  },
  {
   "cell_type": "markdown",
   "metadata": {},
   "source": [
    "Let's examine few examples"
   ]
  },
  {
   "cell_type": "code",
   "execution_count": 166,
   "metadata": {
    "id": "OhqBJxafZ2L-"
   },
   "outputs": [
    {
     "data": {
      "text/html": [
       "<div>\n",
       "<style scoped>\n",
       "    .dataframe tbody tr th:only-of-type {\n",
       "        vertical-align: middle;\n",
       "    }\n",
       "\n",
       "    .dataframe tbody tr th {\n",
       "        vertical-align: top;\n",
       "    }\n",
       "\n",
       "    .dataframe thead th {\n",
       "        text-align: right;\n",
       "    }\n",
       "</style>\n",
       "<table border=\"1\" class=\"dataframe\">\n",
       "  <thead>\n",
       "    <tr style=\"text-align: right;\">\n",
       "      <th></th>\n",
       "      <th>stock_code</th>\n",
       "      <th>description</th>\n",
       "    </tr>\n",
       "  </thead>\n",
       "  <tbody>\n",
       "    <tr>\n",
       "      <th>0</th>\n",
       "      <td>85123A</td>\n",
       "      <td>WHITE HANGING HEART T-LIGHT HOLDER</td>\n",
       "    </tr>\n",
       "    <tr>\n",
       "      <th>49</th>\n",
       "      <td>85123A</td>\n",
       "      <td>WHITE HANGING HEART T-LIGHT HOLDER</td>\n",
       "    </tr>\n",
       "    <tr>\n",
       "      <th>66</th>\n",
       "      <td>85123A</td>\n",
       "      <td>WHITE HANGING HEART T-LIGHT HOLDER</td>\n",
       "    </tr>\n",
       "    <tr>\n",
       "      <th>220</th>\n",
       "      <td>85123A</td>\n",
       "      <td>WHITE HANGING HEART T-LIGHT HOLDER</td>\n",
       "    </tr>\n",
       "    <tr>\n",
       "      <th>262</th>\n",
       "      <td>85123A</td>\n",
       "      <td>WHITE HANGING HEART T-LIGHT HOLDER</td>\n",
       "    </tr>\n",
       "    <tr>\n",
       "      <th>...</th>\n",
       "      <td>...</td>\n",
       "      <td>...</td>\n",
       "    </tr>\n",
       "    <tr>\n",
       "      <th>539342</th>\n",
       "      <td>85123A</td>\n",
       "      <td>CREAM HANGING HEART T-LIGHT HOLDER</td>\n",
       "    </tr>\n",
       "    <tr>\n",
       "      <th>539979</th>\n",
       "      <td>85123A</td>\n",
       "      <td>WHITE HANGING HEART T-LIGHT HOLDER</td>\n",
       "    </tr>\n",
       "    <tr>\n",
       "      <th>540217</th>\n",
       "      <td>85123A</td>\n",
       "      <td>WHITE HANGING HEART T-LIGHT HOLDER</td>\n",
       "    </tr>\n",
       "    <tr>\n",
       "      <th>540837</th>\n",
       "      <td>85123A</td>\n",
       "      <td>CREAM HANGING HEART T-LIGHT HOLDER</td>\n",
       "    </tr>\n",
       "    <tr>\n",
       "      <th>541639</th>\n",
       "      <td>85123A</td>\n",
       "      <td>CREAM HANGING HEART T-LIGHT HOLDER</td>\n",
       "    </tr>\n",
       "  </tbody>\n",
       "</table>\n",
       "<p>2307 rows × 2 columns</p>\n",
       "</div>"
      ],
      "text/plain": [
       "       stock_code                         description\n",
       "0          85123A  WHITE HANGING HEART T-LIGHT HOLDER\n",
       "49         85123A  WHITE HANGING HEART T-LIGHT HOLDER\n",
       "66         85123A  WHITE HANGING HEART T-LIGHT HOLDER\n",
       "220        85123A  WHITE HANGING HEART T-LIGHT HOLDER\n",
       "262        85123A  WHITE HANGING HEART T-LIGHT HOLDER\n",
       "...           ...                                 ...\n",
       "539342     85123A  CREAM HANGING HEART T-LIGHT HOLDER\n",
       "539979     85123A  WHITE HANGING HEART T-LIGHT HOLDER\n",
       "540217     85123A  WHITE HANGING HEART T-LIGHT HOLDER\n",
       "540837     85123A  CREAM HANGING HEART T-LIGHT HOLDER\n",
       "541639     85123A  CREAM HANGING HEART T-LIGHT HOLDER\n",
       "\n",
       "[2307 rows x 2 columns]"
      ]
     },
     "execution_count": 166,
     "metadata": {},
     "output_type": "execute_result"
    }
   ],
   "source": [
    "# Examning some examples\n",
    "exam1 =data.loc[data.stock_code == \"85123A\", ['stock_code','description']]\n",
    "exam1"
   ]
  },
  {
   "cell_type": "markdown",
   "metadata": {
    "id": "pdhVhPB3Z2L_"
   },
   "source": [
    "From the above example, we noticed that same the stock_code have different description, so when retrieving the missing values in the description, the function will consider the description for the stock_code that had most counts and uniform the two columns, you will see below"
   ]
  },
  {
   "cell_type": "code",
   "execution_count": 167,
   "metadata": {
    "id": "JwqnW2Z4Z2MB"
   },
   "outputs": [
    {
     "name": "stdout",
     "output_type": "stream",
     "text": [
      "The count of the stock_code is 3937\n",
      "The count of the description is 4041\n"
     ]
    }
   ],
   "source": [
    "# Checking the differnce between stock_code and description count, so we can see how many missing values there is description and stocks\n",
    "# Basically investgating teh count behind the mismatch between the two columns\n",
    "result=data[\"stock_code\"].value_counts()\n",
    "print(\"The count of the stock_code is\", len(result))\n",
    "result=data['description'].value_counts()\n",
    "print(\"The count of the description is\",len(result))"
   ]
  },
  {
   "cell_type": "markdown",
   "metadata": {
    "id": "la3wuapLZ2MC"
   },
   "source": [
    "The two columns (stock_code & description) count indicates thats there is a mismatch between the two as we have missing values. Having said that, we will try to retreive the missing data from the stock_code and fix the description. "
   ]
  },
  {
   "cell_type": "code",
   "execution_count": 168,
   "metadata": {
    "id": "2bRjDVyCZ2MC"
   },
   "outputs": [
    {
     "name": "stdout",
     "output_type": "stream",
     "text": [
      "<class 'pandas.core.frame.DataFrame'>\n",
      "Int64Index: 539391 entries, 0 to 541908\n",
      "Data columns (total 7 columns):\n",
      " #   Column        Non-Null Count   Dtype         \n",
      "---  ------        --------------   -----         \n",
      " 0   invoice_no    539391 non-null  object        \n",
      " 1   stock_code    539391 non-null  object        \n",
      " 2   description   539391 non-null  object        \n",
      " 3   quantity      539391 non-null  int64         \n",
      " 4   invoice_date  539391 non-null  datetime64[ns]\n",
      " 5   unit_price    539391 non-null  float64       \n",
      " 6   customer_id   539391 non-null  object        \n",
      "dtypes: datetime64[ns](1), float64(1), int64(1), object(4)\n",
      "memory usage: 32.9+ MB\n"
     ]
    }
   ],
   "source": [
    "data.info()"
   ]
  },
  {
   "cell_type": "code",
   "execution_count": 169,
   "metadata": {},
   "outputs": [
    {
     "data": {
      "text/html": [
       "<div>\n",
       "<style scoped>\n",
       "    .dataframe tbody tr th:only-of-type {\n",
       "        vertical-align: middle;\n",
       "    }\n",
       "\n",
       "    .dataframe tbody tr th {\n",
       "        vertical-align: top;\n",
       "    }\n",
       "\n",
       "    .dataframe thead th {\n",
       "        text-align: right;\n",
       "    }\n",
       "</style>\n",
       "<table border=\"1\" class=\"dataframe\">\n",
       "  <thead>\n",
       "    <tr style=\"text-align: right;\">\n",
       "      <th></th>\n",
       "      <th>invoice_no</th>\n",
       "      <th>stock_code</th>\n",
       "      <th>description</th>\n",
       "      <th>quantity</th>\n",
       "      <th>invoice_date</th>\n",
       "      <th>unit_price</th>\n",
       "      <th>customer_id</th>\n",
       "    </tr>\n",
       "  </thead>\n",
       "  <tbody>\n",
       "    <tr>\n",
       "      <th>0</th>\n",
       "      <td>536365</td>\n",
       "      <td>85123A</td>\n",
       "      <td>WHITE HANGING HEART T-LIGHT HOLDER</td>\n",
       "      <td>6</td>\n",
       "      <td>2018-11-29 08:26:00</td>\n",
       "      <td>2.55</td>\n",
       "      <td>17850</td>\n",
       "    </tr>\n",
       "    <tr>\n",
       "      <th>1</th>\n",
       "      <td>536365</td>\n",
       "      <td>71053</td>\n",
       "      <td>WHITE METAL LANTERN</td>\n",
       "      <td>6</td>\n",
       "      <td>2018-11-29 08:26:00</td>\n",
       "      <td>3.39</td>\n",
       "      <td>17850</td>\n",
       "    </tr>\n",
       "    <tr>\n",
       "      <th>2</th>\n",
       "      <td>536365</td>\n",
       "      <td>84406B</td>\n",
       "      <td>CREAM CUPID HEARTS COAT HANGER</td>\n",
       "      <td>8</td>\n",
       "      <td>2018-11-29 08:26:00</td>\n",
       "      <td>2.75</td>\n",
       "      <td>17850</td>\n",
       "    </tr>\n",
       "    <tr>\n",
       "      <th>3</th>\n",
       "      <td>536365</td>\n",
       "      <td>84029G</td>\n",
       "      <td>KNITTED UNION FLAG HOT WATER BOTTLE</td>\n",
       "      <td>6</td>\n",
       "      <td>2018-11-29 08:26:00</td>\n",
       "      <td>3.39</td>\n",
       "      <td>17850</td>\n",
       "    </tr>\n",
       "    <tr>\n",
       "      <th>4</th>\n",
       "      <td>536365</td>\n",
       "      <td>84029E</td>\n",
       "      <td>RED WOOLLY HOTTIE WHITE HEART.</td>\n",
       "      <td>6</td>\n",
       "      <td>2018-11-29 08:26:00</td>\n",
       "      <td>3.39</td>\n",
       "      <td>17850</td>\n",
       "    </tr>\n",
       "  </tbody>\n",
       "</table>\n",
       "</div>"
      ],
      "text/plain": [
       "  invoice_no stock_code                          description  quantity  \\\n",
       "0     536365     85123A   WHITE HANGING HEART T-LIGHT HOLDER         6   \n",
       "1     536365      71053                  WHITE METAL LANTERN         6   \n",
       "2     536365     84406B       CREAM CUPID HEARTS COAT HANGER         8   \n",
       "3     536365     84029G  KNITTED UNION FLAG HOT WATER BOTTLE         6   \n",
       "4     536365     84029E       RED WOOLLY HOTTIE WHITE HEART.         6   \n",
       "\n",
       "         invoice_date  unit_price customer_id  \n",
       "0 2018-11-29 08:26:00        2.55       17850  \n",
       "1 2018-11-29 08:26:00        3.39       17850  \n",
       "2 2018-11-29 08:26:00        2.75       17850  \n",
       "3 2018-11-29 08:26:00        3.39       17850  \n",
       "4 2018-11-29 08:26:00        3.39       17850  "
      ]
     },
     "execution_count": 169,
     "metadata": {},
     "output_type": "execute_result"
    }
   ],
   "source": [
    "data.head()"
   ]
  },
  {
   "cell_type": "markdown",
   "metadata": {},
   "source": [
    "We want to make uniform (standardize) the descriptions for the same stock_code. We will choose the most commont description as the uniform one using pandas mode function. The mode ignores nulls by default! Meaning the missing values from the description will also be given the correct common description. We groupby each unique stock_code and transform (not apply) the description of each item into the mode (most commont description)\n",
    "\n",
    "https://pandas.pydata.org/pandas-docs/stable/reference/api/pandas.Series.mode.html\n",
    "\n",
    "https://pandas.pydata.org/pandas-docs/stable/reference/api/pandas.core.groupby.DataFrameGroupBy.transform.html\n",
    "\n",
    "https://stackoverflow.com/questions/27517425/apply-vs-transform-on-a-group-object"
   ]
  },
  {
   "cell_type": "code",
   "execution_count": 170,
   "metadata": {},
   "outputs": [],
   "source": [
    "# Uniforming description values, retreving, and dropping any left missing values in the description column\n",
    "data['description'] = data.groupby(\"stock_code\")['description'].transform(lambda x: x.mode()[0])"
   ]
  },
  {
   "cell_type": "code",
   "execution_count": 171,
   "metadata": {},
   "outputs": [
    {
     "data": {
      "text/html": [
       "<div>\n",
       "<style scoped>\n",
       "    .dataframe tbody tr th:only-of-type {\n",
       "        vertical-align: middle;\n",
       "    }\n",
       "\n",
       "    .dataframe tbody tr th {\n",
       "        vertical-align: top;\n",
       "    }\n",
       "\n",
       "    .dataframe thead th {\n",
       "        text-align: right;\n",
       "    }\n",
       "</style>\n",
       "<table border=\"1\" class=\"dataframe\">\n",
       "  <thead>\n",
       "    <tr style=\"text-align: right;\">\n",
       "      <th></th>\n",
       "      <th>stock_code</th>\n",
       "      <th>description</th>\n",
       "    </tr>\n",
       "  </thead>\n",
       "  <tbody>\n",
       "    <tr>\n",
       "      <th>0</th>\n",
       "      <td>85123A</td>\n",
       "      <td>WHITE HANGING HEART T-LIGHT HOLDER</td>\n",
       "    </tr>\n",
       "    <tr>\n",
       "      <th>49</th>\n",
       "      <td>85123A</td>\n",
       "      <td>WHITE HANGING HEART T-LIGHT HOLDER</td>\n",
       "    </tr>\n",
       "    <tr>\n",
       "      <th>66</th>\n",
       "      <td>85123A</td>\n",
       "      <td>WHITE HANGING HEART T-LIGHT HOLDER</td>\n",
       "    </tr>\n",
       "    <tr>\n",
       "      <th>220</th>\n",
       "      <td>85123A</td>\n",
       "      <td>WHITE HANGING HEART T-LIGHT HOLDER</td>\n",
       "    </tr>\n",
       "    <tr>\n",
       "      <th>262</th>\n",
       "      <td>85123A</td>\n",
       "      <td>WHITE HANGING HEART T-LIGHT HOLDER</td>\n",
       "    </tr>\n",
       "    <tr>\n",
       "      <th>...</th>\n",
       "      <td>...</td>\n",
       "      <td>...</td>\n",
       "    </tr>\n",
       "    <tr>\n",
       "      <th>539342</th>\n",
       "      <td>85123A</td>\n",
       "      <td>WHITE HANGING HEART T-LIGHT HOLDER</td>\n",
       "    </tr>\n",
       "    <tr>\n",
       "      <th>539979</th>\n",
       "      <td>85123A</td>\n",
       "      <td>WHITE HANGING HEART T-LIGHT HOLDER</td>\n",
       "    </tr>\n",
       "    <tr>\n",
       "      <th>540217</th>\n",
       "      <td>85123A</td>\n",
       "      <td>WHITE HANGING HEART T-LIGHT HOLDER</td>\n",
       "    </tr>\n",
       "    <tr>\n",
       "      <th>540837</th>\n",
       "      <td>85123A</td>\n",
       "      <td>WHITE HANGING HEART T-LIGHT HOLDER</td>\n",
       "    </tr>\n",
       "    <tr>\n",
       "      <th>541639</th>\n",
       "      <td>85123A</td>\n",
       "      <td>WHITE HANGING HEART T-LIGHT HOLDER</td>\n",
       "    </tr>\n",
       "  </tbody>\n",
       "</table>\n",
       "<p>2307 rows × 2 columns</p>\n",
       "</div>"
      ],
      "text/plain": [
       "       stock_code                         description\n",
       "0          85123A  WHITE HANGING HEART T-LIGHT HOLDER\n",
       "49         85123A  WHITE HANGING HEART T-LIGHT HOLDER\n",
       "66         85123A  WHITE HANGING HEART T-LIGHT HOLDER\n",
       "220        85123A  WHITE HANGING HEART T-LIGHT HOLDER\n",
       "262        85123A  WHITE HANGING HEART T-LIGHT HOLDER\n",
       "...           ...                                 ...\n",
       "539342     85123A  WHITE HANGING HEART T-LIGHT HOLDER\n",
       "539979     85123A  WHITE HANGING HEART T-LIGHT HOLDER\n",
       "540217     85123A  WHITE HANGING HEART T-LIGHT HOLDER\n",
       "540837     85123A  WHITE HANGING HEART T-LIGHT HOLDER\n",
       "541639     85123A  WHITE HANGING HEART T-LIGHT HOLDER\n",
       "\n",
       "[2307 rows x 2 columns]"
      ]
     },
     "execution_count": 171,
     "metadata": {},
     "output_type": "execute_result"
    }
   ],
   "source": [
    "# Examining the same example examined above after fixing description\n",
    "exam1 =data.loc[data.stock_code == \"85123A\", ['stock_code','description']]\n",
    "exam1"
   ]
  },
  {
   "cell_type": "code",
   "execution_count": 172,
   "metadata": {
    "id": "S5Vln_1ZZ2ME"
   },
   "outputs": [
    {
     "name": "stdout",
     "output_type": "stream",
     "text": [
      "stock_code unique values:  3937\n",
      "description unique values:  3811\n"
     ]
    }
   ],
   "source": [
    "# comparing the count of the stock_code and description to show that stock_code can have different description\n",
    "result=data[\"stock_code\"].value_counts()\n",
    "print(\"stock_code unique values: \", len(result))\n",
    "result=data['description'].value_counts()\n",
    "print(\"description unique values: \", len(result))"
   ]
  },
  {
   "cell_type": "markdown",
   "metadata": {},
   "source": [
    "**Results after uniforming description values, retreving, and dropping any left missing values in the description column**\n",
    "\n",
    "**Before**\n",
    "\n",
    "The count of the stock_code is 3937\n",
    "\n",
    "The count of the description is 4041\n",
    "\n",
    "-----------------------------------------\n",
    "\n",
    "**After**\n",
    "\n",
    "stock_code unique values:  3937\n",
    "\n",
    "description unique values:  3811"
   ]
  },
  {
   "cell_type": "code",
   "execution_count": 173,
   "metadata": {},
   "outputs": [
    {
     "name": "stdout",
     "output_type": "stream",
     "text": [
      "There were  230  values that were uniformed after using the transform and mode functions\n"
     ]
    }
   ],
   "source": [
    "print('There were ',  4041 - 3811, ' values that were uniformed after using the transform and mode functions')"
   ]
  },
  {
   "cell_type": "markdown",
   "metadata": {
    "id": "GEpmoLfXZ2ME"
   },
   "source": [
    "stock_code count length is bigger than the description count length, which means that the unique description is different than the stock_code unique description. This mean that even after retrieving the missing values, same products still have different description, and we'll leave it as it is for the moment. The reason I left it this way is that It will be hard to choose which description suits the stock_code best as we have to go through abudnance amount of rows manually. A possible solution would be stemming and lemmatization, but I will leave this for now as this is not our focus."
   ]
  },
  {
   "cell_type": "markdown",
   "metadata": {
    "id": "B4bGFGxMhQRI"
   },
   "source": [
    "### Examining quantity outliers and dealing with them if necessary"
   ]
  },
  {
   "cell_type": "code",
   "execution_count": 174,
   "metadata": {
    "id": "lCbLVQ1QZ2L5"
   },
   "outputs": [
    {
     "data": {
      "text/plain": [
       "count    539391.000000\n",
       "mean          9.845921\n",
       "std         215.412851\n",
       "min      -80995.000000\n",
       "25%           1.000000\n",
       "50%           3.000000\n",
       "75%          10.000000\n",
       "max       80995.000000\n",
       "Name: quantity, dtype: float64"
      ]
     },
     "execution_count": 174,
     "metadata": {},
     "output_type": "execute_result"
    }
   ],
   "source": [
    "data['quantity'].describe()"
   ]
  },
  {
   "cell_type": "code",
   "execution_count": 175,
   "metadata": {
    "id": "6MG2KPGAkQ8j"
   },
   "outputs": [
    {
     "data": {
      "image/png": "[encoded data removed]",
      "text/plain": [
       "<Figure size 1008x576 with 1 Axes>"
      ]
     },
     "metadata": {
      "needs_background": "light"
     },
     "output_type": "display_data"
    }
   ],
   "source": [
    "#Showing quantity outliers\n",
    "plt.figure(figsize=(14,8))\n",
    "plt.title(\"Quantity Outliers\")\n",
    "ax = sns.boxplot(y=data['quantity'])\n",
    "# ax.set_ylim(-20000,20000)"
   ]
  },
  {
   "cell_type": "code",
   "execution_count": 176,
   "metadata": {},
   "outputs": [
    {
     "data": {
      "text/plain": [
       "(-50, 50)"
      ]
     },
     "execution_count": 176,
     "metadata": {},
     "output_type": "execute_result"
    },
    {
     "data": {
      "image/png": "[encoded data removed]",
      "text/plain": [
       "<Figure size 1008x576 with 1 Axes>"
      ]
     },
     "metadata": {
      "needs_background": "light"
     },
     "output_type": "display_data"
    }
   ],
   "source": [
    "# Zooming into quantity outlier\n",
    "plt.figure(figsize=(14,8))\n",
    "plt.title(\"Quantity Outliers\")\n",
    "ax = sns.boxplot(y=data['quantity'])\n",
    "ax.set_ylim(-50,50)"
   ]
  },
  {
   "cell_type": "markdown",
   "metadata": {},
   "source": [
    "There are 4 records which are extreme outliers, 3 of them were cancelled/refunded orders (any thing above ±20k is an extreme outlier), but im not going to remove them atm as the ecommerece business model might be aiming for such big deals. Now as we can see that there are so many outliers according to Interquartile Rule to Find Outliers, but implementing it here wont make sense here because there are so many like this and these \"outliers\" might be the norm for the business in the longterm, depeneds what is their business model.. I will leave the outliers as they are atm.\n",
    "Now after showing the outliers, I will focus into examininig the refunded orders in a deeper manner. see \" Examining refunded orders\""
   ]
  },
  {
   "cell_type": "markdown",
   "metadata": {
    "id": "quhbmRf_Z2MF"
   },
   "source": [
    "### Examining cancelled/refunded orders "
   ]
  },
  {
   "cell_type": "markdown",
   "metadata": {},
   "source": [
    "Let's rsearch the cancelled/refunded orders and provide insights to the e-commerce business"
   ]
  },
  {
   "cell_type": "code",
   "execution_count": 177,
   "metadata": {},
   "outputs": [
    {
     "data": {
      "text/html": [
       "<div>\n",
       "<style scoped>\n",
       "    .dataframe tbody tr th:only-of-type {\n",
       "        vertical-align: middle;\n",
       "    }\n",
       "\n",
       "    .dataframe tbody tr th {\n",
       "        vertical-align: top;\n",
       "    }\n",
       "\n",
       "    .dataframe thead th {\n",
       "        text-align: right;\n",
       "    }\n",
       "</style>\n",
       "<table border=\"1\" class=\"dataframe\">\n",
       "  <thead>\n",
       "    <tr style=\"text-align: right;\">\n",
       "      <th></th>\n",
       "      <th>invoice_no</th>\n",
       "      <th>stock_code</th>\n",
       "      <th>description</th>\n",
       "      <th>quantity</th>\n",
       "      <th>invoice_date</th>\n",
       "      <th>unit_price</th>\n",
       "      <th>customer_id</th>\n",
       "    </tr>\n",
       "  </thead>\n",
       "  <tbody>\n",
       "    <tr>\n",
       "      <th>36301</th>\n",
       "      <td>C539448</td>\n",
       "      <td>20803</td>\n",
       "      <td>SMALL PINK GLASS SUNDAE DISH</td>\n",
       "      <td>-36</td>\n",
       "      <td>2018-12-15 16:25:00</td>\n",
       "      <td>0.42</td>\n",
       "      <td>15157</td>\n",
       "    </tr>\n",
       "    <tr>\n",
       "      <th>440252</th>\n",
       "      <td>C574524</td>\n",
       "      <td>22947</td>\n",
       "      <td>WOODEN ADVENT CALENDAR RED</td>\n",
       "      <td>-2</td>\n",
       "      <td>2019-11-02 13:53:00</td>\n",
       "      <td>7.95</td>\n",
       "      <td>17841</td>\n",
       "    </tr>\n",
       "    <tr>\n",
       "      <th>88063</th>\n",
       "      <td>C543755</td>\n",
       "      <td>22617</td>\n",
       "      <td>BAKING SET SPACEBOY DESIGN</td>\n",
       "      <td>-3</td>\n",
       "      <td>2019-02-09 14:48:00</td>\n",
       "      <td>4.95</td>\n",
       "      <td>14304</td>\n",
       "    </tr>\n",
       "    <tr>\n",
       "      <th>246910</th>\n",
       "      <td>C558745</td>\n",
       "      <td>21844</td>\n",
       "      <td>RED RETROSPOT MUG</td>\n",
       "      <td>-1</td>\n",
       "      <td>2019-06-29 17:02:00</td>\n",
       "      <td>2.95</td>\n",
       "      <td>14415</td>\n",
       "    </tr>\n",
       "    <tr>\n",
       "      <th>246780</th>\n",
       "      <td>C558727</td>\n",
       "      <td>20914</td>\n",
       "      <td>SET/5 RED RETROSPOT LID GLASS BOWLS</td>\n",
       "      <td>-1</td>\n",
       "      <td>2019-06-29 14:35:00</td>\n",
       "      <td>2.55</td>\n",
       "      <td>12709</td>\n",
       "    </tr>\n",
       "  </tbody>\n",
       "</table>\n",
       "</div>"
      ],
      "text/plain": [
       "       invoice_no stock_code                          description  quantity  \\\n",
       "36301     C539448      20803         SMALL PINK GLASS SUNDAE DISH       -36   \n",
       "440252    C574524      22947           WOODEN ADVENT CALENDAR RED        -2   \n",
       "88063     C543755      22617           BAKING SET SPACEBOY DESIGN        -3   \n",
       "246910    C558745      21844                    RED RETROSPOT MUG        -1   \n",
       "246780    C558727      20914  SET/5 RED RETROSPOT LID GLASS BOWLS        -1   \n",
       "\n",
       "              invoice_date  unit_price customer_id  \n",
       "36301  2018-12-15 16:25:00        0.42       15157  \n",
       "440252 2019-11-02 13:53:00        7.95       17841  \n",
       "88063  2019-02-09 14:48:00        4.95       14304  \n",
       "246910 2019-06-29 17:02:00        2.95       14415  \n",
       "246780 2019-06-29 14:35:00        2.55       12709  "
      ]
     },
     "execution_count": 177,
     "metadata": {},
     "output_type": "execute_result"
    }
   ],
   "source": [
    "data[data['quantity']<0].sample(5)"
   ]
  },
  {
   "cell_type": "markdown",
   "metadata": {},
   "source": [
    "Notice that all of the invoice_no starts with the letter \"C\" "
   ]
  },
  {
   "cell_type": "code",
   "execution_count": 178,
   "metadata": {},
   "outputs": [
    {
     "name": "stdout",
     "output_type": "stream",
     "text": [
      "Total records :  530103\n",
      "Total Refund records :  9288\n",
      "%Refund (of record) :  1.752112325340547 %\n"
     ]
    }
   ],
   "source": [
    "# Checking cancelled/refunded orders general information to grasp what is going on for all of the records\n",
    "cnt_order = data[data['quantity']>0]['invoice_no']\n",
    "cnt_refund = data[data['quantity']<0]['invoice_no']\n",
    "\n",
    "\n",
    "print(\"Total records : \",len(cnt_order))\n",
    "print(\"Total Refund records : \",len(cnt_refund))\n",
    "print(\"%Refund (of record) : \",len(cnt_refund)/len(cnt_order)*100,\"%\")"
   ]
  },
  {
   "cell_type": "code",
   "execution_count": 179,
   "metadata": {
    "id": "bsZsLDknZ2MM"
   },
   "outputs": [
    {
     "name": "stdout",
     "output_type": "stream",
     "text": [
      "Number of orders canceled: 9288/539391 (1.72%) \n"
     ]
    }
   ],
   "source": [
    "# Showing the canceled orders percentage from the overall records and confirming the above %refund rate to the \n",
    "# invoice_no that starts with \"C\"\n",
    "order_canceled = data['invoice_no'].apply(lambda x:int('C' in x))\n",
    "n1 = order_canceled.sum()\n",
    "n2 = data.shape[0]\n",
    "print('Number of orders canceled: {}/{} ({:.2f}%) '.format(n1, n2, n1/n2*100))"
   ]
  },
  {
   "cell_type": "code",
   "execution_count": 180,
   "metadata": {
    "id": "C-WG7SXIZ2MG"
   },
   "outputs": [],
   "source": [
    "# Adding a column to show if the order is refunded by a boolean True or False result for each order: (True = negative quantity) or not refunded (False = positive quantity)\n",
    "# This will help to visualize the data soon\n",
    "data['RefundFlg'] = data['quantity']<0"
   ]
  },
  {
   "cell_type": "code",
   "execution_count": 181,
   "metadata": {},
   "outputs": [
    {
     "data": {
      "text/plain": [
       "False    530103\n",
       "True       9288\n",
       "Name: RefundFlg, dtype: int64"
      ]
     },
     "execution_count": 181,
     "metadata": {},
     "output_type": "execute_result"
    }
   ],
   "source": [
    "# Confirming the above numbers again by using the value_counts()\n",
    "data['RefundFlg'].value_counts()"
   ]
  },
  {
   "cell_type": "code",
   "execution_count": 182,
   "metadata": {},
   "outputs": [
    {
     "name": "stdout",
     "output_type": "stream",
     "text": [
      "The number of unique items which were in the positive orders is:  3921\n"
     ]
    },
    {
     "data": {
      "text/html": [
       "<div>\n",
       "<style scoped>\n",
       "    .dataframe tbody tr th:only-of-type {\n",
       "        vertical-align: middle;\n",
       "    }\n",
       "\n",
       "    .dataframe tbody tr th {\n",
       "        vertical-align: top;\n",
       "    }\n",
       "\n",
       "    .dataframe thead th {\n",
       "        text-align: right;\n",
       "    }\n",
       "</style>\n",
       "<table border=\"1\" class=\"dataframe\">\n",
       "  <thead>\n",
       "    <tr style=\"text-align: right;\">\n",
       "      <th></th>\n",
       "      <th>stock_code</th>\n",
       "      <th>description</th>\n",
       "      <th>complete_order</th>\n",
       "    </tr>\n",
       "  </thead>\n",
       "  <tbody>\n",
       "    <tr>\n",
       "      <th>0</th>\n",
       "      <td>85123A</td>\n",
       "      <td>WHITE HANGING HEART T-LIGHT HOLDER</td>\n",
       "      <td>2198</td>\n",
       "    </tr>\n",
       "    <tr>\n",
       "      <th>1</th>\n",
       "      <td>85099B</td>\n",
       "      <td>JUMBO BAG RED RETROSPOT</td>\n",
       "      <td>2089</td>\n",
       "    </tr>\n",
       "    <tr>\n",
       "      <th>2</th>\n",
       "      <td>22423</td>\n",
       "      <td>REGENCY CAKESTAND 3 TIER</td>\n",
       "      <td>1988</td>\n",
       "    </tr>\n",
       "    <tr>\n",
       "      <th>3</th>\n",
       "      <td>47566</td>\n",
       "      <td>PARTY BUNTING</td>\n",
       "      <td>1685</td>\n",
       "    </tr>\n",
       "    <tr>\n",
       "      <th>4</th>\n",
       "      <td>20725</td>\n",
       "      <td>LUNCH BAG RED RETROSPOT</td>\n",
       "      <td>1565</td>\n",
       "    </tr>\n",
       "  </tbody>\n",
       "</table>\n",
       "</div>"
      ],
      "text/plain": [
       "  stock_code                         description  complete_order\n",
       "0     85123A  WHITE HANGING HEART T-LIGHT HOLDER            2198\n",
       "1     85099B             JUMBO BAG RED RETROSPOT            2089\n",
       "2      22423            REGENCY CAKESTAND 3 TIER            1988\n",
       "3      47566                       PARTY BUNTING            1685\n",
       "4      20725             LUNCH BAG RED RETROSPOT            1565"
      ]
     },
     "execution_count": 182,
     "metadata": {},
     "output_type": "execute_result"
    }
   ],
   "source": [
    "# Selcting the regular orders (positive quantity) and counting the unique orders of such items.\n",
    "prod_order = data[data['quantity']>0].groupby(['stock_code','description']).invoice_no.nunique().sort_values(ascending = False).reset_index()\n",
    "prod_order = prod_order.rename(columns = {'invoice_no' : 'complete_order'})\n",
    "print(\"The number of unique items which were in the positive orders is: \",prod_order.shape[0])\n",
    "prod_order.head()"
   ]
  },
  {
   "cell_type": "code",
   "execution_count": 183,
   "metadata": {},
   "outputs": [
    {
     "name": "stdout",
     "output_type": "stream",
     "text": [
      "The number of unique items which were in the cancelled orders is :  1947\n"
     ]
    },
    {
     "data": {
      "text/html": [
       "<div>\n",
       "<style scoped>\n",
       "    .dataframe tbody tr th:only-of-type {\n",
       "        vertical-align: middle;\n",
       "    }\n",
       "\n",
       "    .dataframe tbody tr th {\n",
       "        vertical-align: top;\n",
       "    }\n",
       "\n",
       "    .dataframe thead th {\n",
       "        text-align: right;\n",
       "    }\n",
       "</style>\n",
       "<table border=\"1\" class=\"dataframe\">\n",
       "  <thead>\n",
       "    <tr style=\"text-align: right;\">\n",
       "      <th></th>\n",
       "      <th>stock_code</th>\n",
       "      <th>description</th>\n",
       "      <th>refunded_order</th>\n",
       "    </tr>\n",
       "  </thead>\n",
       "  <tbody>\n",
       "    <tr>\n",
       "      <th>0</th>\n",
       "      <td>M</td>\n",
       "      <td>Manual</td>\n",
       "      <td>223</td>\n",
       "    </tr>\n",
       "    <tr>\n",
       "      <th>1</th>\n",
       "      <td>22423</td>\n",
       "      <td>REGENCY CAKESTAND 3 TIER</td>\n",
       "      <td>180</td>\n",
       "    </tr>\n",
       "    <tr>\n",
       "      <th>2</th>\n",
       "      <td>POST</td>\n",
       "      <td>POSTAGE</td>\n",
       "      <td>124</td>\n",
       "    </tr>\n",
       "    <tr>\n",
       "      <th>3</th>\n",
       "      <td>22960</td>\n",
       "      <td>JAM MAKING SET WITH JARS</td>\n",
       "      <td>87</td>\n",
       "    </tr>\n",
       "    <tr>\n",
       "      <th>4</th>\n",
       "      <td>22720</td>\n",
       "      <td>SET OF 3 CAKE TINS PANTRY DESIGN</td>\n",
       "      <td>73</td>\n",
       "    </tr>\n",
       "  </tbody>\n",
       "</table>\n",
       "</div>"
      ],
      "text/plain": [
       "  stock_code                        description  refunded_order\n",
       "0          M                             Manual             223\n",
       "1      22423           REGENCY CAKESTAND 3 TIER             180\n",
       "2       POST                            POSTAGE             124\n",
       "3      22960           JAM MAKING SET WITH JARS              87\n",
       "4      22720  SET OF 3 CAKE TINS PANTRY DESIGN               73"
      ]
     },
     "execution_count": 183,
     "metadata": {},
     "output_type": "execute_result"
    }
   ],
   "source": [
    "# Selcting the canclled/refunded orders (negative quantity) and counting the unique orders of such items.\n",
    "prod_order_refund = data[data['quantity']<0].groupby(['stock_code','description']).invoice_no.nunique().sort_values(ascending = False).reset_index()\n",
    "prod_order_refund = prod_order_refund.rename(columns = {'invoice_no' : 'refunded_order'})\n",
    "print(\"The number of unique items which were in the cancelled orders is : \",prod_order_refund.shape[0])\n",
    "prod_order_refund.head()"
   ]
  },
  {
   "cell_type": "markdown",
   "metadata": {},
   "source": [
    "The items in the prod_order_refund should be looked into further, so the business can understand why the order were cancelled so they can avoid such events. But let's first compare it to the previous table (prod_order), so joining them together would be a the way.."
   ]
  },
  {
   "cell_type": "code",
   "execution_count": 184,
   "metadata": {},
   "outputs": [
    {
     "data": {
      "text/html": [
       "<div>\n",
       "<style scoped>\n",
       "    .dataframe tbody tr th:only-of-type {\n",
       "        vertical-align: middle;\n",
       "    }\n",
       "\n",
       "    .dataframe tbody tr th {\n",
       "        vertical-align: top;\n",
       "    }\n",
       "\n",
       "    .dataframe thead th {\n",
       "        text-align: right;\n",
       "    }\n",
       "</style>\n",
       "<table border=\"1\" class=\"dataframe\">\n",
       "  <thead>\n",
       "    <tr style=\"text-align: right;\">\n",
       "      <th></th>\n",
       "      <th>stock_code</th>\n",
       "      <th>description</th>\n",
       "      <th>complete_order</th>\n",
       "      <th>refunded_order</th>\n",
       "    </tr>\n",
       "  </thead>\n",
       "  <tbody>\n",
       "    <tr>\n",
       "      <th>1698</th>\n",
       "      <td>15056n</td>\n",
       "      <td>EDWARDIAN PARASOL NATURAL</td>\n",
       "      <td>84</td>\n",
       "      <td>NaN</td>\n",
       "    </tr>\n",
       "    <tr>\n",
       "      <th>1387</th>\n",
       "      <td>20986</td>\n",
       "      <td>BLUE CALCULATOR RULER</td>\n",
       "      <td>113</td>\n",
       "      <td>NaN</td>\n",
       "    </tr>\n",
       "    <tr>\n",
       "      <th>1572</th>\n",
       "      <td>17012D</td>\n",
       "      <td>ORIGAMI ROSE INCENSE/CANDLE SET</td>\n",
       "      <td>97</td>\n",
       "      <td>NaN</td>\n",
       "    </tr>\n",
       "    <tr>\n",
       "      <th>1505</th>\n",
       "      <td>21617</td>\n",
       "      <td>4 LILY  BOTANICAL DINNER CANDLES</td>\n",
       "      <td>102</td>\n",
       "      <td>NaN</td>\n",
       "    </tr>\n",
       "    <tr>\n",
       "      <th>850</th>\n",
       "      <td>22635</td>\n",
       "      <td>CHILDS BREAKFAST SET DOLLY GIRL</td>\n",
       "      <td>194</td>\n",
       "      <td>7.0</td>\n",
       "    </tr>\n",
       "  </tbody>\n",
       "</table>\n",
       "</div>"
      ],
      "text/plain": [
       "     stock_code                       description  complete_order  \\\n",
       "1698     15056n         EDWARDIAN PARASOL NATURAL              84   \n",
       "1387      20986             BLUE CALCULATOR RULER             113   \n",
       "1572     17012D  ORIGAMI ROSE INCENSE/CANDLE SET               97   \n",
       "1505      21617  4 LILY  BOTANICAL DINNER CANDLES             102   \n",
       "850       22635  CHILDS BREAKFAST SET DOLLY GIRL              194   \n",
       "\n",
       "      refunded_order  \n",
       "1698             NaN  \n",
       "1387             NaN  \n",
       "1572             NaN  \n",
       "1505             NaN  \n",
       "850              7.0  "
      ]
     },
     "execution_count": 184,
     "metadata": {},
     "output_type": "execute_result"
    }
   ],
   "source": [
    "# Joining the prod_order on the prod_order_refund order using the left join.\n",
    "join_prod_order = prod_order.merge(prod_order_refund,left_on = ['stock_code','description'],right_on = ['stock_code','description'],how = 'left')\n",
    "join_prod_order.sample(5)"
   ]
  },
  {
   "cell_type": "markdown",
   "metadata": {},
   "source": [
    "Now we can compare the refunded_order with the complete_order and see what is the percentage % from the total_order\n",
    "\n",
    "Note that the stock_code which don't have refunded there are Nan values overther"
   ]
  },
  {
   "cell_type": "code",
   "execution_count": 185,
   "metadata": {},
   "outputs": [],
   "source": [
    "join_prod_order['total_orders'] = join_prod_order['complete_order'] + join_prod_order['refunded_order']"
   ]
  },
  {
   "cell_type": "code",
   "execution_count": 186,
   "metadata": {},
   "outputs": [
    {
     "data": {
      "text/html": [
       "<div>\n",
       "<style scoped>\n",
       "    .dataframe tbody tr th:only-of-type {\n",
       "        vertical-align: middle;\n",
       "    }\n",
       "\n",
       "    .dataframe tbody tr th {\n",
       "        vertical-align: top;\n",
       "    }\n",
       "\n",
       "    .dataframe thead th {\n",
       "        text-align: right;\n",
       "    }\n",
       "</style>\n",
       "<table border=\"1\" class=\"dataframe\">\n",
       "  <thead>\n",
       "    <tr style=\"text-align: right;\">\n",
       "      <th></th>\n",
       "      <th>stock_code</th>\n",
       "      <th>description</th>\n",
       "      <th>complete_order</th>\n",
       "      <th>refunded_order</th>\n",
       "      <th>total_orders</th>\n",
       "    </tr>\n",
       "  </thead>\n",
       "  <tbody>\n",
       "    <tr>\n",
       "      <th>0</th>\n",
       "      <td>85123A</td>\n",
       "      <td>WHITE HANGING HEART T-LIGHT HOLDER</td>\n",
       "      <td>2198</td>\n",
       "      <td>42.0</td>\n",
       "      <td>2240.0</td>\n",
       "    </tr>\n",
       "    <tr>\n",
       "      <th>1</th>\n",
       "      <td>85099B</td>\n",
       "      <td>JUMBO BAG RED RETROSPOT</td>\n",
       "      <td>2089</td>\n",
       "      <td>43.0</td>\n",
       "      <td>2132.0</td>\n",
       "    </tr>\n",
       "    <tr>\n",
       "      <th>2</th>\n",
       "      <td>22423</td>\n",
       "      <td>REGENCY CAKESTAND 3 TIER</td>\n",
       "      <td>1988</td>\n",
       "      <td>180.0</td>\n",
       "      <td>2168.0</td>\n",
       "    </tr>\n",
       "    <tr>\n",
       "      <th>3</th>\n",
       "      <td>47566</td>\n",
       "      <td>PARTY BUNTING</td>\n",
       "      <td>1685</td>\n",
       "      <td>20.0</td>\n",
       "      <td>1705.0</td>\n",
       "    </tr>\n",
       "    <tr>\n",
       "      <th>4</th>\n",
       "      <td>20725</td>\n",
       "      <td>LUNCH BAG RED RETROSPOT</td>\n",
       "      <td>1565</td>\n",
       "      <td>43.0</td>\n",
       "      <td>1608.0</td>\n",
       "    </tr>\n",
       "  </tbody>\n",
       "</table>\n",
       "</div>"
      ],
      "text/plain": [
       "  stock_code                         description  complete_order  \\\n",
       "0     85123A  WHITE HANGING HEART T-LIGHT HOLDER            2198   \n",
       "1     85099B             JUMBO BAG RED RETROSPOT            2089   \n",
       "2      22423            REGENCY CAKESTAND 3 TIER            1988   \n",
       "3      47566                       PARTY BUNTING            1685   \n",
       "4      20725             LUNCH BAG RED RETROSPOT            1565   \n",
       "\n",
       "   refunded_order  total_orders  \n",
       "0            42.0        2240.0  \n",
       "1            43.0        2132.0  \n",
       "2           180.0        2168.0  \n",
       "3            20.0        1705.0  \n",
       "4            43.0        1608.0  "
      ]
     },
     "execution_count": 186,
     "metadata": {},
     "output_type": "execute_result"
    }
   ],
   "source": [
    "join_prod_order.head()"
   ]
  },
  {
   "cell_type": "code",
   "execution_count": 187,
   "metadata": {},
   "outputs": [
    {
     "data": {
      "text/html": [
       "<div>\n",
       "<style scoped>\n",
       "    .dataframe tbody tr th:only-of-type {\n",
       "        vertical-align: middle;\n",
       "    }\n",
       "\n",
       "    .dataframe tbody tr th {\n",
       "        vertical-align: top;\n",
       "    }\n",
       "\n",
       "    .dataframe thead th {\n",
       "        text-align: right;\n",
       "    }\n",
       "</style>\n",
       "<table border=\"1\" class=\"dataframe\">\n",
       "  <thead>\n",
       "    <tr style=\"text-align: right;\">\n",
       "      <th></th>\n",
       "      <th>stock_code</th>\n",
       "      <th>description</th>\n",
       "      <th>complete_order</th>\n",
       "      <th>refunded_order</th>\n",
       "      <th>total_orders</th>\n",
       "      <th>%refunded</th>\n",
       "    </tr>\n",
       "  </thead>\n",
       "  <tbody>\n",
       "    <tr>\n",
       "      <th>3730</th>\n",
       "      <td>AMAZONFEE</td>\n",
       "      <td>AMAZON FEE</td>\n",
       "      <td>2</td>\n",
       "      <td>32.0</td>\n",
       "      <td>34.0</td>\n",
       "      <td>94.117647</td>\n",
       "    </tr>\n",
       "    <tr>\n",
       "      <th>3718</th>\n",
       "      <td>S</td>\n",
       "      <td>SAMPLES</td>\n",
       "      <td>2</td>\n",
       "      <td>17.0</td>\n",
       "      <td>19.0</td>\n",
       "      <td>89.473684</td>\n",
       "    </tr>\n",
       "    <tr>\n",
       "      <th>3877</th>\n",
       "      <td>20703</td>\n",
       "      <td>BLUE PADDED SOFT MOBILE</td>\n",
       "      <td>1</td>\n",
       "      <td>3.0</td>\n",
       "      <td>4.0</td>\n",
       "      <td>75.000000</td>\n",
       "    </tr>\n",
       "    <tr>\n",
       "      <th>3120</th>\n",
       "      <td>BANK CHARGES</td>\n",
       "      <td>Bank Charges</td>\n",
       "      <td>11</td>\n",
       "      <td>25.0</td>\n",
       "      <td>36.0</td>\n",
       "      <td>69.444444</td>\n",
       "    </tr>\n",
       "    <tr>\n",
       "      <th>3878</th>\n",
       "      <td>79323P</td>\n",
       "      <td>PINK CHERRY LIGHTS</td>\n",
       "      <td>1</td>\n",
       "      <td>2.0</td>\n",
       "      <td>3.0</td>\n",
       "      <td>66.666667</td>\n",
       "    </tr>\n",
       "  </tbody>\n",
       "</table>\n",
       "</div>"
      ],
      "text/plain": [
       "        stock_code              description  complete_order  refunded_order  \\\n",
       "3730     AMAZONFEE               AMAZON FEE               2            32.0   \n",
       "3718             S                  SAMPLES               2            17.0   \n",
       "3877         20703  BLUE PADDED SOFT MOBILE               1             3.0   \n",
       "3120  BANK CHARGES             Bank Charges              11            25.0   \n",
       "3878        79323P       PINK CHERRY LIGHTS               1             2.0   \n",
       "\n",
       "      total_orders  %refunded  \n",
       "3730          34.0  94.117647  \n",
       "3718          19.0  89.473684  \n",
       "3877           4.0  75.000000  \n",
       "3120          36.0  69.444444  \n",
       "3878           3.0  66.666667  "
      ]
     },
     "execution_count": 187,
     "metadata": {},
     "output_type": "execute_result"
    }
   ],
   "source": [
    "# Calculating how much percentage we have for refunded orders over the total order\n",
    "join_prod_order['%refunded'] = join_prod_order['refunded_order']/join_prod_order['total_orders']*100\n",
    "join_prod_order = join_prod_order.sort_values(by = '%refunded',ascending = False)\n",
    "join_prod_order.head()"
   ]
  },
  {
   "cell_type": "code",
   "execution_count": 188,
   "metadata": {},
   "outputs": [
    {
     "data": {
      "text/html": [
       "<div>\n",
       "<style scoped>\n",
       "    .dataframe tbody tr th:only-of-type {\n",
       "        vertical-align: middle;\n",
       "    }\n",
       "\n",
       "    .dataframe tbody tr th {\n",
       "        vertical-align: top;\n",
       "    }\n",
       "\n",
       "    .dataframe thead th {\n",
       "        text-align: right;\n",
       "    }\n",
       "</style>\n",
       "<table border=\"1\" class=\"dataframe\">\n",
       "  <thead>\n",
       "    <tr style=\"text-align: right;\">\n",
       "      <th></th>\n",
       "      <th>stock_code</th>\n",
       "      <th>description</th>\n",
       "      <th>complete_order</th>\n",
       "      <th>refunded_order</th>\n",
       "      <th>total_orders</th>\n",
       "      <th>%refunded</th>\n",
       "      <th>%complete</th>\n",
       "    </tr>\n",
       "  </thead>\n",
       "  <tbody>\n",
       "    <tr>\n",
       "      <th>3730</th>\n",
       "      <td>AMAZONFEE</td>\n",
       "      <td>AMAZON FEE</td>\n",
       "      <td>2</td>\n",
       "      <td>32.0</td>\n",
       "      <td>34.0</td>\n",
       "      <td>94.117647</td>\n",
       "      <td>5.882353</td>\n",
       "    </tr>\n",
       "    <tr>\n",
       "      <th>3718</th>\n",
       "      <td>S</td>\n",
       "      <td>SAMPLES</td>\n",
       "      <td>2</td>\n",
       "      <td>17.0</td>\n",
       "      <td>19.0</td>\n",
       "      <td>89.473684</td>\n",
       "      <td>10.526316</td>\n",
       "    </tr>\n",
       "    <tr>\n",
       "      <th>3877</th>\n",
       "      <td>20703</td>\n",
       "      <td>BLUE PADDED SOFT MOBILE</td>\n",
       "      <td>1</td>\n",
       "      <td>3.0</td>\n",
       "      <td>4.0</td>\n",
       "      <td>75.000000</td>\n",
       "      <td>25.000000</td>\n",
       "    </tr>\n",
       "    <tr>\n",
       "      <th>3120</th>\n",
       "      <td>BANK CHARGES</td>\n",
       "      <td>Bank Charges</td>\n",
       "      <td>11</td>\n",
       "      <td>25.0</td>\n",
       "      <td>36.0</td>\n",
       "      <td>69.444444</td>\n",
       "      <td>30.555556</td>\n",
       "    </tr>\n",
       "    <tr>\n",
       "      <th>3878</th>\n",
       "      <td>79323P</td>\n",
       "      <td>PINK CHERRY LIGHTS</td>\n",
       "      <td>1</td>\n",
       "      <td>2.0</td>\n",
       "      <td>3.0</td>\n",
       "      <td>66.666667</td>\n",
       "      <td>33.333333</td>\n",
       "    </tr>\n",
       "  </tbody>\n",
       "</table>\n",
       "</div>"
      ],
      "text/plain": [
       "        stock_code              description  complete_order  refunded_order  \\\n",
       "3730     AMAZONFEE               AMAZON FEE               2            32.0   \n",
       "3718             S                  SAMPLES               2            17.0   \n",
       "3877         20703  BLUE PADDED SOFT MOBILE               1             3.0   \n",
       "3120  BANK CHARGES             Bank Charges              11            25.0   \n",
       "3878        79323P       PINK CHERRY LIGHTS               1             2.0   \n",
       "\n",
       "      total_orders  %refunded  %complete  \n",
       "3730          34.0  94.117647   5.882353  \n",
       "3718          19.0  89.473684  10.526316  \n",
       "3877           4.0  75.000000  25.000000  \n",
       "3120          36.0  69.444444  30.555556  \n",
       "3878           3.0  66.666667  33.333333  "
      ]
     },
     "execution_count": 188,
     "metadata": {},
     "output_type": "execute_result"
    }
   ],
   "source": [
    "# Calculating how much percentage we have for complete orders over the total order\n",
    "join_prod_order['%complete'] = join_prod_order['complete_order']/join_prod_order['total_orders']*100\n",
    "join_prod_order = join_prod_order.sort_values(by = '%refunded',ascending = False)\n",
    "join_prod_order.head()"
   ]
  },
  {
   "cell_type": "code",
   "execution_count": 189,
   "metadata": {},
   "outputs": [
    {
     "data": {
      "image/png": "[encoded data removed]",
      "text/plain": [
       "<Figure size 432x288 with 1 Axes>"
      ]
     },
     "metadata": {
      "needs_background": "light"
     },
     "output_type": "display_data"
    }
   ],
   "source": [
    "# Showing the items' stock_code which got refunded mostly \n",
    "top_perc_refunded = join_prod_order.sort_values(by = '%refunded',ascending = False).head(30)\n",
    "top_perc_refunded.plot(x='stock_code', y='%refunded',  kind='bar')\n",
    "plt.title('Top returned products %');"
   ]
  },
  {
   "cell_type": "code",
   "execution_count": 190,
   "metadata": {},
   "outputs": [
    {
     "data": {
      "image/png": "[encoded data removed]",
      "text/plain": [
       "<Figure size 432x288 with 1 Axes>"
      ]
     },
     "metadata": {
      "needs_background": "light"
     },
     "output_type": "display_data"
    }
   ],
   "source": [
    "# Showing the items' stock_code which got complete mostly \n",
    "top_perc_refunded.plot(x='stock_code', y='%complete',  kind='bar')\n",
    "plt.title('Top completed products %');"
   ]
  },
  {
   "cell_type": "markdown",
   "metadata": {},
   "source": [
    "The plot shows the top refunded orders %, these items should be investigated further by the business, but let's compare the same stock_code with the %complete and put them into one plot"
   ]
  },
  {
   "cell_type": "code",
   "execution_count": 191,
   "metadata": {},
   "outputs": [
    {
     "data": {
      "image/png": "[encoded data removed]",
      "text/plain": [
       "<Figure size 1152x576 with 1 Axes>"
      ]
     },
     "metadata": {
      "needs_background": "light"
     },
     "output_type": "display_data"
    }
   ],
   "source": [
    "# Comparing the top 30 %refunded items with the %compelte\n",
    "refunded_percentage = top_perc_refunded['%refunded'].tolist()\n",
    "complete_percentage = top_perc_refunded['%complete'].tolist()\n",
    "index = top_perc_refunded['stock_code'].tolist()\n",
    "top_15_refunded_percentage = pd.DataFrame({'refunded_percentage': refunded_percentage,\n",
    "                   'complete_percentage': complete_percentage}, index=index)\n",
    "ax = top_15_refunded_percentage.plot.bar(rot=70, title=\"Top refunded items\",figsize=(16,8))"
   ]
  },
  {
   "cell_type": "markdown",
   "metadata": {},
   "source": [
    "The grouped bar chart above compares between the % of the refunded (cancelled) and complete order's items. This will help us to compare the most refunded products % with the same product's non-refunded (complete) %. As we can see: \n",
    "\n",
    "1. There are 9 item whose %refunded > %complete\n",
    "\n",
    "2. There are 6 products whose %refunded = %complete\n",
    "\n",
    "3. There rest of the products have %refunded < %complete\n",
    "\n",
    "below is the list which I recommend the ecommerce business to research and understand the reasons behind these refunded products. Note the top %refunded might not even be a product as the description of it is \"AMAZON FEE\". This might be crucial to the data base management and the business should understand why did this stock_code came here and try to spot other similar examples. "
   ]
  },
  {
   "cell_type": "code",
   "execution_count": 192,
   "metadata": {},
   "outputs": [
    {
     "data": {
      "text/html": [
       "<div>\n",
       "<style scoped>\n",
       "    .dataframe tbody tr th:only-of-type {\n",
       "        vertical-align: middle;\n",
       "    }\n",
       "\n",
       "    .dataframe tbody tr th {\n",
       "        vertical-align: top;\n",
       "    }\n",
       "\n",
       "    .dataframe thead th {\n",
       "        text-align: right;\n",
       "    }\n",
       "</style>\n",
       "<table border=\"1\" class=\"dataframe\">\n",
       "  <thead>\n",
       "    <tr style=\"text-align: right;\">\n",
       "      <th></th>\n",
       "      <th>stock_code</th>\n",
       "      <th>description</th>\n",
       "      <th>%refunded</th>\n",
       "      <th>%complete</th>\n",
       "    </tr>\n",
       "  </thead>\n",
       "  <tbody>\n",
       "    <tr>\n",
       "      <th>3730</th>\n",
       "      <td>AMAZONFEE</td>\n",
       "      <td>AMAZON FEE</td>\n",
       "      <td>94.117647</td>\n",
       "      <td>5.882353</td>\n",
       "    </tr>\n",
       "    <tr>\n",
       "      <th>3718</th>\n",
       "      <td>S</td>\n",
       "      <td>SAMPLES</td>\n",
       "      <td>89.473684</td>\n",
       "      <td>10.526316</td>\n",
       "    </tr>\n",
       "    <tr>\n",
       "      <th>3877</th>\n",
       "      <td>20703</td>\n",
       "      <td>BLUE PADDED SOFT MOBILE</td>\n",
       "      <td>75.000000</td>\n",
       "      <td>25.000000</td>\n",
       "    </tr>\n",
       "    <tr>\n",
       "      <th>3120</th>\n",
       "      <td>BANK CHARGES</td>\n",
       "      <td>Bank Charges</td>\n",
       "      <td>69.444444</td>\n",
       "      <td>30.555556</td>\n",
       "    </tr>\n",
       "    <tr>\n",
       "      <th>3878</th>\n",
       "      <td>79323P</td>\n",
       "      <td>PINK CHERRY LIGHTS</td>\n",
       "      <td>66.666667</td>\n",
       "      <td>33.333333</td>\n",
       "    </tr>\n",
       "    <tr>\n",
       "      <th>3905</th>\n",
       "      <td>84750A</td>\n",
       "      <td>PINK SMALL GLASS CAKE STAND</td>\n",
       "      <td>66.666667</td>\n",
       "      <td>33.333333</td>\n",
       "    </tr>\n",
       "    <tr>\n",
       "      <th>3879</th>\n",
       "      <td>79323B</td>\n",
       "      <td>BLACK CHERRY LIGHTS</td>\n",
       "      <td>66.666667</td>\n",
       "      <td>33.333333</td>\n",
       "    </tr>\n",
       "    <tr>\n",
       "      <th>3425</th>\n",
       "      <td>35400</td>\n",
       "      <td>WOODEN BOX ADVENT CALENDAR</td>\n",
       "      <td>61.538462</td>\n",
       "      <td>38.461538</td>\n",
       "    </tr>\n",
       "    <tr>\n",
       "      <th>3700</th>\n",
       "      <td>21655</td>\n",
       "      <td>HANGING RIDGE GLASS T-LIGHT HOLDER</td>\n",
       "      <td>60.000000</td>\n",
       "      <td>40.000000</td>\n",
       "    </tr>\n",
       "    <tr>\n",
       "      <th>3793</th>\n",
       "      <td>23843</td>\n",
       "      <td>PAPER CRAFT , LITTLE BIRDIE</td>\n",
       "      <td>50.000000</td>\n",
       "      <td>50.000000</td>\n",
       "    </tr>\n",
       "    <tr>\n",
       "      <th>3758</th>\n",
       "      <td>85047</td>\n",
       "      <td>WHITE BEADED GARLAND STRING 20LIGHT</td>\n",
       "      <td>50.000000</td>\n",
       "      <td>50.000000</td>\n",
       "    </tr>\n",
       "    <tr>\n",
       "      <th>3803</th>\n",
       "      <td>21667</td>\n",
       "      <td>GLASS CAKE COVER AND PLATE</td>\n",
       "      <td>50.000000</td>\n",
       "      <td>50.000000</td>\n",
       "    </tr>\n",
       "    <tr>\n",
       "      <th>3811</th>\n",
       "      <td>85126</td>\n",
       "      <td>LARGE ROUND CUTGLASS CANDLESTICK</td>\n",
       "      <td>50.000000</td>\n",
       "      <td>50.000000</td>\n",
       "    </tr>\n",
       "    <tr>\n",
       "      <th>3862</th>\n",
       "      <td>84857B</td>\n",
       "      <td>BLUE MONTE CARLO HANDBAG</td>\n",
       "      <td>50.000000</td>\n",
       "      <td>50.000000</td>\n",
       "    </tr>\n",
       "    <tr>\n",
       "      <th>3895</th>\n",
       "      <td>84856S</td>\n",
       "      <td>SMALL TAHITI BEACH BAG</td>\n",
       "      <td>50.000000</td>\n",
       "      <td>50.000000</td>\n",
       "    </tr>\n",
       "    <tr>\n",
       "      <th>500</th>\n",
       "      <td>M</td>\n",
       "      <td>Manual</td>\n",
       "      <td>43.554688</td>\n",
       "      <td>56.445312</td>\n",
       "    </tr>\n",
       "    <tr>\n",
       "      <th>3138</th>\n",
       "      <td>84816</td>\n",
       "      <td>DANISH ROSE BEDSIDE CABINET</td>\n",
       "      <td>33.333333</td>\n",
       "      <td>66.666667</td>\n",
       "    </tr>\n",
       "    <tr>\n",
       "      <th>3705</th>\n",
       "      <td>23630</td>\n",
       "      <td>SET 10 CARDS HANGING BAUBLES 17080</td>\n",
       "      <td>33.333333</td>\n",
       "      <td>66.666667</td>\n",
       "    </tr>\n",
       "    <tr>\n",
       "      <th>3655</th>\n",
       "      <td>72815</td>\n",
       "      <td>3 WICK CHRISTMAS BRIAR CANDLE</td>\n",
       "      <td>33.333333</td>\n",
       "      <td>66.666667</td>\n",
       "    </tr>\n",
       "    <tr>\n",
       "      <th>3726</th>\n",
       "      <td>21144</td>\n",
       "      <td>PINK POODLE HANGING DECORATION</td>\n",
       "      <td>33.333333</td>\n",
       "      <td>66.666667</td>\n",
       "    </tr>\n",
       "    <tr>\n",
       "      <th>3759</th>\n",
       "      <td>90176A</td>\n",
       "      <td>CLASSIC DIAMANTE NECKLACE JET</td>\n",
       "      <td>33.333333</td>\n",
       "      <td>66.666667</td>\n",
       "    </tr>\n",
       "    <tr>\n",
       "      <th>3054</th>\n",
       "      <td>85232B</td>\n",
       "      <td>SET OF 3 BABUSHKA STACKING TINS</td>\n",
       "      <td>31.578947</td>\n",
       "      <td>68.421053</td>\n",
       "    </tr>\n",
       "    <tr>\n",
       "      <th>2737</th>\n",
       "      <td>23064</td>\n",
       "      <td>CINDERELLA CHANDELIER</td>\n",
       "      <td>30.303030</td>\n",
       "      <td>69.696970</td>\n",
       "    </tr>\n",
       "    <tr>\n",
       "      <th>3380</th>\n",
       "      <td>21777</td>\n",
       "      <td>RECIPE BOX WITH METAL HEART</td>\n",
       "      <td>25.000000</td>\n",
       "      <td>75.000000</td>\n",
       "    </tr>\n",
       "    <tr>\n",
       "      <th>3389</th>\n",
       "      <td>20821</td>\n",
       "      <td>GOLDIE LOOKING MIRROR</td>\n",
       "      <td>25.000000</td>\n",
       "      <td>75.000000</td>\n",
       "    </tr>\n",
       "    <tr>\n",
       "      <th>3370</th>\n",
       "      <td>21461</td>\n",
       "      <td>BLUE EASTER EGG HUNT START POST</td>\n",
       "      <td>25.000000</td>\n",
       "      <td>75.000000</td>\n",
       "    </tr>\n",
       "    <tr>\n",
       "      <th>3580</th>\n",
       "      <td>16202E</td>\n",
       "      <td>BLACK PHOTO ALBUM</td>\n",
       "      <td>25.000000</td>\n",
       "      <td>75.000000</td>\n",
       "    </tr>\n",
       "    <tr>\n",
       "      <th>3604</th>\n",
       "      <td>22764</td>\n",
       "      <td>RUSTIC WOODEN CABINET, GLASS DOORS</td>\n",
       "      <td>25.000000</td>\n",
       "      <td>75.000000</td>\n",
       "    </tr>\n",
       "    <tr>\n",
       "      <th>3593</th>\n",
       "      <td>84798B</td>\n",
       "      <td>PURPLE FOXGLOVE ARTIIFCIAL FLOWER</td>\n",
       "      <td>25.000000</td>\n",
       "      <td>75.000000</td>\n",
       "    </tr>\n",
       "    <tr>\n",
       "      <th>3170</th>\n",
       "      <td>90185C</td>\n",
       "      <td>BLACK DIAMANTE EXPANDABLE RING</td>\n",
       "      <td>23.076923</td>\n",
       "      <td>76.923077</td>\n",
       "    </tr>\n",
       "  </tbody>\n",
       "</table>\n",
       "</div>"
      ],
      "text/plain": [
       "        stock_code                          description  %refunded  %complete\n",
       "3730     AMAZONFEE                           AMAZON FEE  94.117647   5.882353\n",
       "3718             S                              SAMPLES  89.473684  10.526316\n",
       "3877         20703              BLUE PADDED SOFT MOBILE  75.000000  25.000000\n",
       "3120  BANK CHARGES                         Bank Charges  69.444444  30.555556\n",
       "3878        79323P                   PINK CHERRY LIGHTS  66.666667  33.333333\n",
       "3905        84750A          PINK SMALL GLASS CAKE STAND  66.666667  33.333333\n",
       "3879        79323B                  BLACK CHERRY LIGHTS  66.666667  33.333333\n",
       "3425         35400          WOODEN BOX ADVENT CALENDAR   61.538462  38.461538\n",
       "3700         21655   HANGING RIDGE GLASS T-LIGHT HOLDER  60.000000  40.000000\n",
       "3793         23843          PAPER CRAFT , LITTLE BIRDIE  50.000000  50.000000\n",
       "3758         85047  WHITE BEADED GARLAND STRING 20LIGHT  50.000000  50.000000\n",
       "3803         21667           GLASS CAKE COVER AND PLATE  50.000000  50.000000\n",
       "3811         85126     LARGE ROUND CUTGLASS CANDLESTICK  50.000000  50.000000\n",
       "3862        84857B             BLUE MONTE CARLO HANDBAG  50.000000  50.000000\n",
       "3895        84856S               SMALL TAHITI BEACH BAG  50.000000  50.000000\n",
       "500              M                               Manual  43.554688  56.445312\n",
       "3138         84816          DANISH ROSE BEDSIDE CABINET  33.333333  66.666667\n",
       "3705         23630   SET 10 CARDS HANGING BAUBLES 17080  33.333333  66.666667\n",
       "3655         72815       3 WICK CHRISTMAS BRIAR CANDLE   33.333333  66.666667\n",
       "3726         21144      PINK POODLE HANGING DECORATION   33.333333  66.666667\n",
       "3759        90176A        CLASSIC DIAMANTE NECKLACE JET  33.333333  66.666667\n",
       "3054        85232B      SET OF 3 BABUSHKA STACKING TINS  31.578947  68.421053\n",
       "2737         23064               CINDERELLA CHANDELIER   30.303030  69.696970\n",
       "3380         21777          RECIPE BOX WITH METAL HEART  25.000000  75.000000\n",
       "3389         20821                GOLDIE LOOKING MIRROR  25.000000  75.000000\n",
       "3370         21461      BLUE EASTER EGG HUNT START POST  25.000000  75.000000\n",
       "3580        16202E                   BLACK PHOTO ALBUM   25.000000  75.000000\n",
       "3604         22764   RUSTIC WOODEN CABINET, GLASS DOORS  25.000000  75.000000\n",
       "3593        84798B    PURPLE FOXGLOVE ARTIIFCIAL FLOWER  25.000000  75.000000\n",
       "3170        90185C       BLACK DIAMANTE EXPANDABLE RING  23.076923  76.923077"
      ]
     },
     "execution_count": 192,
     "metadata": {},
     "output_type": "execute_result"
    }
   ],
   "source": [
    "# list which I recommend the ecommerce business to research and understand the reasons behind these refunded products.\n",
    "join_prod_order[[\"stock_code\", \"description\", \"%refunded\", \"%complete\"]].head(30)"
   ]
  },
  {
   "cell_type": "code",
   "execution_count": 193,
   "metadata": {},
   "outputs": [
    {
     "name": "stdout",
     "output_type": "stream",
     "text": [
      "Number of orders canceled: 9288/539391 (1.72%) \n"
     ]
    }
   ],
   "source": [
    "# Showing the canceled orders percentage from the overall recordse\n",
    "order_canceled = data['invoice_no'].apply(lambda x:int('C' in x)) \n",
    "n1 = order_canceled.sum()\n",
    "n2 = data.shape[0]\n",
    "print('Number of orders canceled: {}/{} ({:.2f}%) '.format(n1, n2, n1/n2*100))"
   ]
  },
  {
   "cell_type": "code",
   "execution_count": 194,
   "metadata": {},
   "outputs": [
    {
     "data": {
      "image/png": "[encoded data removed]",
      "text/plain": [
       "<Figure size 1440x720 with 1 Axes>"
      ]
     },
     "metadata": {},
     "output_type": "display_data"
    }
   ],
   "source": [
    "# Plotting a pie chart to remind us the refunded (cancelled) items orders share from the overall total orders is still miniscule \n",
    "# https://www.w3schools.com/python/matplotlib_pie_charts.asp\n",
    "# http://www.learningaboutelectronics.com/Articles/How-to-create-a-pie-chart-in-matplotlib-with-Python.php#:~:text=To%20add%20percentages%20to%20each,percentage%20to%20the%20tenth%20place.\n",
    "completed_perc = (n2-n1)/n2*100\n",
    "cancelled_perc = n1/n2*100\n",
    "y = np.array([completed_perc, cancelled_perc])\n",
    "mylabels = [\"Complete\", \"Cancelled\"]\n",
    "plt.figure(figsize=(20,10))\n",
    "plt.title(\"Cancelled % out of all orders\")\n",
    "plt.pie(y, labels = mylabels, autopct='%1.2f%%')\n",
    "plt.show()"
   ]
  },
  {
   "cell_type": "markdown",
   "metadata": {},
   "source": [
    "To conclude, the refunded (cancelled) items orders share from the overall total orders is still miniscule. However, to improve the customer experience and reduce churn rate, I recommend the business to look into the refunded orders, and to focus mainly on the top %refunded 30 list that I provided above."
   ]
  },
  {
   "cell_type": "markdown",
   "metadata": {},
   "source": [
    "# Step 3. Analyzing the data and providing insights"
   ]
  },
  {
   "cell_type": "markdown",
   "metadata": {},
   "source": [
    "After finishing to analyze the refunded products, I will filter them out and slice the data to work with complete orders from now on. "
   ]
  },
  {
   "cell_type": "code",
   "execution_count": 195,
   "metadata": {
    "id": "z-tszjXGZ2MM"
   },
   "outputs": [],
   "source": [
    "# Slicing the data by keeping the positive quantity only\n",
    "datastats = data.copy() # copying the data for the statistcial hypotheses as we need negative quantity values for it\n",
    "data = data.loc[(data['quantity'] > 0)]"
   ]
  },
  {
   "cell_type": "markdown",
   "metadata": {
    "id": "DD7tCseUZ2MN"
   },
   "source": [
    "### Orders timeframe analysis"
   ]
  },
  {
   "cell_type": "markdown",
   "metadata": {
    "id": "PhKYUCt_Z2MJ"
   },
   "source": [
    "#### Examining purchases dates and highlight where it is trending and explain possible reasons (if any)"
   ]
  },
  {
   "cell_type": "markdown",
   "metadata": {},
   "source": [
    "Let's start by deleting the  quantity and unit_price values, because we already finished analyzing the cancelled orders and now we want to examine further data on sales and other stuff"
   ]
  },
  {
   "cell_type": "code",
   "execution_count": 196,
   "metadata": {
    "id": "5xmXkGoOZ2MJ"
   },
   "outputs": [
    {
     "data": {
      "image/png": "[encoded data removed]",
      "text/plain": [
       "<Figure size 1260x504 with 1 Axes>"
      ]
     },
     "metadata": {
      "needs_background": "light"
     },
     "output_type": "display_data"
    }
   ],
   "source": [
    "# Showing the dates range\n",
    "sns.displot(data, x=\"invoice_date\", shrink=.8, bins=100, height=7, aspect=2.5)\n",
    "plt.title(\"Data's period of time\")\n",
    "plt.xticks(rotation=65);"
   ]
  },
  {
   "cell_type": "markdown",
   "metadata": {},
   "source": [
    "Orders placments surged in the end of 2018, then it stabalized throughout the year, then it order placements soared again starting from September, and in the end of the year there was a tremendous amount of orders, maybe because it was a holiday season."
   ]
  },
  {
   "cell_type": "code",
   "execution_count": 197,
   "metadata": {},
   "outputs": [
    {
     "data": {
      "text/plain": [
       "count                  530103\n",
       "unique                  18499\n",
       "top       2019-10-29 14:41:00\n",
       "freq                     1114\n",
       "first     2018-11-29 08:26:00\n",
       "last      2019-12-07 12:50:00\n",
       "Name: invoice_date, dtype: object"
      ]
     },
     "execution_count": 197,
     "metadata": {},
     "output_type": "execute_result"
    }
   ],
   "source": [
    "data['invoice_date'].describe()"
   ]
  },
  {
   "cell_type": "markdown",
   "metadata": {
    "id": "yTnogllUZ2MK"
   },
   "source": [
    "It's nice to see the distribution of invoice_date count: \n",
    "\n",
    "The firt invoice was placed in 2018-11-29 08:26:00\n",
    "\n",
    "The last invlice was placed in 2019-12-07 12:50:00\n",
    "\n",
    "So the invoice_date range is almost 1 year. \n",
    "\n",
    "There are periods where no orders were placed. This was in the end of 2018. Maybe due to business operation or missing data. It's best to report on this to the business. "
   ]
  },
  {
   "cell_type": "code",
   "execution_count": 198,
   "metadata": {
    "id": "fj6cjaobZ2MO"
   },
   "outputs": [
    {
     "data": {
      "text/html": [
       "<div>\n",
       "<style scoped>\n",
       "    .dataframe tbody tr th:only-of-type {\n",
       "        vertical-align: middle;\n",
       "    }\n",
       "\n",
       "    .dataframe tbody tr th {\n",
       "        vertical-align: top;\n",
       "    }\n",
       "\n",
       "    .dataframe thead th {\n",
       "        text-align: right;\n",
       "    }\n",
       "</style>\n",
       "<table border=\"1\" class=\"dataframe\">\n",
       "  <thead>\n",
       "    <tr style=\"text-align: right;\">\n",
       "      <th></th>\n",
       "      <th>invoice_no</th>\n",
       "      <th>stock_code</th>\n",
       "      <th>description</th>\n",
       "      <th>quantity</th>\n",
       "      <th>invoice_date</th>\n",
       "      <th>unit_price</th>\n",
       "      <th>customer_id</th>\n",
       "      <th>RefundFlg</th>\n",
       "      <th>yearmonth</th>\n",
       "      <th>Week</th>\n",
       "      <th>day</th>\n",
       "      <th>Weekday</th>\n",
       "      <th>hour</th>\n",
       "    </tr>\n",
       "  </thead>\n",
       "  <tbody>\n",
       "    <tr>\n",
       "      <th>0</th>\n",
       "      <td>536365</td>\n",
       "      <td>85123A</td>\n",
       "      <td>WHITE HANGING HEART T-LIGHT HOLDER</td>\n",
       "      <td>6</td>\n",
       "      <td>2018-11-29 08:26:00</td>\n",
       "      <td>2.55</td>\n",
       "      <td>17850</td>\n",
       "      <td>False</td>\n",
       "      <td>201811</td>\n",
       "      <td>48</td>\n",
       "      <td>29</td>\n",
       "      <td>4</td>\n",
       "      <td>08</td>\n",
       "    </tr>\n",
       "    <tr>\n",
       "      <th>1</th>\n",
       "      <td>536365</td>\n",
       "      <td>71053</td>\n",
       "      <td>WHITE METAL LANTERN</td>\n",
       "      <td>6</td>\n",
       "      <td>2018-11-29 08:26:00</td>\n",
       "      <td>3.39</td>\n",
       "      <td>17850</td>\n",
       "      <td>False</td>\n",
       "      <td>201811</td>\n",
       "      <td>48</td>\n",
       "      <td>29</td>\n",
       "      <td>4</td>\n",
       "      <td>08</td>\n",
       "    </tr>\n",
       "    <tr>\n",
       "      <th>2</th>\n",
       "      <td>536365</td>\n",
       "      <td>84406B</td>\n",
       "      <td>CREAM CUPID HEARTS COAT HANGER</td>\n",
       "      <td>8</td>\n",
       "      <td>2018-11-29 08:26:00</td>\n",
       "      <td>2.75</td>\n",
       "      <td>17850</td>\n",
       "      <td>False</td>\n",
       "      <td>201811</td>\n",
       "      <td>48</td>\n",
       "      <td>29</td>\n",
       "      <td>4</td>\n",
       "      <td>08</td>\n",
       "    </tr>\n",
       "    <tr>\n",
       "      <th>3</th>\n",
       "      <td>536365</td>\n",
       "      <td>84029G</td>\n",
       "      <td>KNITTED UNION FLAG HOT WATER BOTTLE</td>\n",
       "      <td>6</td>\n",
       "      <td>2018-11-29 08:26:00</td>\n",
       "      <td>3.39</td>\n",
       "      <td>17850</td>\n",
       "      <td>False</td>\n",
       "      <td>201811</td>\n",
       "      <td>48</td>\n",
       "      <td>29</td>\n",
       "      <td>4</td>\n",
       "      <td>08</td>\n",
       "    </tr>\n",
       "    <tr>\n",
       "      <th>4</th>\n",
       "      <td>536365</td>\n",
       "      <td>84029E</td>\n",
       "      <td>RED WOOLLY HOTTIE WHITE HEART.</td>\n",
       "      <td>6</td>\n",
       "      <td>2018-11-29 08:26:00</td>\n",
       "      <td>3.39</td>\n",
       "      <td>17850</td>\n",
       "      <td>False</td>\n",
       "      <td>201811</td>\n",
       "      <td>48</td>\n",
       "      <td>29</td>\n",
       "      <td>4</td>\n",
       "      <td>08</td>\n",
       "    </tr>\n",
       "  </tbody>\n",
       "</table>\n",
       "</div>"
      ],
      "text/plain": [
       "  invoice_no stock_code                          description  quantity  \\\n",
       "0     536365     85123A   WHITE HANGING HEART T-LIGHT HOLDER         6   \n",
       "1     536365      71053                  WHITE METAL LANTERN         6   \n",
       "2     536365     84406B       CREAM CUPID HEARTS COAT HANGER         8   \n",
       "3     536365     84029G  KNITTED UNION FLAG HOT WATER BOTTLE         6   \n",
       "4     536365     84029E       RED WOOLLY HOTTIE WHITE HEART.         6   \n",
       "\n",
       "         invoice_date  unit_price customer_id  RefundFlg  yearmonth Week day  \\\n",
       "0 2018-11-29 08:26:00        2.55       17850      False     201811   48  29   \n",
       "1 2018-11-29 08:26:00        3.39       17850      False     201811   48  29   \n",
       "2 2018-11-29 08:26:00        2.75       17850      False     201811   48  29   \n",
       "3 2018-11-29 08:26:00        3.39       17850      False     201811   48  29   \n",
       "4 2018-11-29 08:26:00        3.39       17850      False     201811   48  29   \n",
       "\n",
       "  Weekday hour  \n",
       "0       4   08  \n",
       "1       4   08  \n",
       "2       4   08  \n",
       "3       4   08  \n",
       "4       4   08  "
      ]
     },
     "execution_count": 198,
     "metadata": {},
     "output_type": "execute_result"
    }
   ],
   "source": [
    "######we Splitting date into multiples columns day, week, yearmonth, and hours in which orders are placed\n",
    "\n",
    "data['yearmonth'] = data['invoice_date'].apply(lambda x: (100*x.year) + x.month) ### year and month date colum like 201811\n",
    "data['Week'] = data['invoice_date'].apply(lambda x: x.strftime('%W'))### extract week from date \n",
    "data['day'] = data['invoice_date'].apply(lambda x: x.strftime('%d'))### extract day from date\n",
    "data['Weekday'] = data['invoice_date'].apply(lambda x: x.strftime('%w'))### extract weekday from date \n",
    "data['hour'] = data['invoice_date'].apply(lambda x: x.strftime('%H'))### extract hours from date\n",
    "data.head()"
   ]
  },
  {
   "cell_type": "markdown",
   "metadata": {
    "id": "IAotiQ3VjsAS"
   },
   "source": [
    "#### Frequency of order by Month"
   ]
  },
  {
   "cell_type": "code",
   "execution_count": 199,
   "metadata": {
    "id": "tbZDM5mIZ2MO"
   },
   "outputs": [
    {
     "data": {
      "image/png": "[encoded data removed]",
      "text/plain": [
       "<Figure size 864x432 with 1 Axes>"
      ]
     },
     "metadata": {
      "needs_background": "light"
     },
     "output_type": "display_data"
    }
   ],
   "source": [
    "# Frequency of order by Month\n",
    "plt.figure(figsize=(12,6))\n",
    "plt.title(\"Frequency of order by Month\", fontsize=15)\n",
    "InvoiceDate = data.groupby(['invoice_no'])['yearmonth'].unique()\n",
    "InvoiceDate.value_counts().sort_index().plot.bar();"
   ]
  },
  {
   "cell_type": "markdown",
   "metadata": {},
   "source": [
    "We can see that the order number have almost gradually increased from month to month. The drop in the last month is due to the lack of data in Decemenber 2019 (We saw this in the \"Examining purchases dates\" part)"
   ]
  },
  {
   "cell_type": "markdown",
   "metadata": {
    "id": "5eKbj8I3jcFR"
   },
   "source": [
    "#### Frequency of order by Week"
   ]
  },
  {
   "cell_type": "code",
   "execution_count": 200,
   "metadata": {
    "id": "VPTOlq6KZ2MP"
   },
   "outputs": [
    {
     "data": {
      "image/png": "[encoded data removed]",
      "text/plain": [
       "<Figure size 864x432 with 1 Axes>"
      ]
     },
     "metadata": {
      "needs_background": "light"
     },
     "output_type": "display_data"
    }
   ],
   "source": [
    "plt.figure(figsize=(12,6))\n",
    "plt.title(\"Frequency of order by Week\", fontsize=15)\n",
    "InvoiceDate = data.groupby(['invoice_no'])['Week'].unique()\n",
    "InvoiceDate.value_counts().sort_index().plot.bar();"
   ]
  },
  {
   "cell_type": "markdown",
   "metadata": {},
   "source": [
    "This graph is very similar to the monthly cohort, but it's more in details since we are showing weekly cohort"
   ]
  },
  {
   "cell_type": "markdown",
   "metadata": {
    "id": "z_hZxAIFja6F"
   },
   "source": [
    "#### Frequency of order by day\n"
   ]
  },
  {
   "cell_type": "code",
   "execution_count": 201,
   "metadata": {
    "id": "PmH7JeaiZ2MP"
   },
   "outputs": [
    {
     "data": {
      "image/png": "[encoded data removed]",
      "text/plain": [
       "<Figure size 864x432 with 1 Axes>"
      ]
     },
     "metadata": {
      "needs_background": "light"
     },
     "output_type": "display_data"
    }
   ],
   "source": [
    "#Frequency of order by day\n",
    "plt.figure(figsize=(12,6))\n",
    "plt.title(\"Frequency of order by Day\", fontsize=15)\n",
    "InvoiceDate = data.groupby(['invoice_no'])['day'].unique()\n",
    "InvoiceDate.value_counts().sort_index().plot.bar();"
   ]
  },
  {
   "cell_type": "markdown",
   "metadata": {},
   "source": [
    "We can see that most of the orders comes in the beggining in the month (starting from the second day), then it gradually decrease. Probably because people receive their salary in the beggining of the month, and by the end of the month they prefer not to spend money, this is related to people \"timeline spending behaviour\"s. The client maybe should try to find a good time to market expensive products, so by the begginng of the month, users will be willing to buy such expensive products."
   ]
  },
  {
   "cell_type": "markdown",
   "metadata": {
    "id": "MiIO8eknkHKF"
   },
   "source": [
    "#### Frequency of order by Weekdays\n"
   ]
  },
  {
   "cell_type": "code",
   "execution_count": 202,
   "metadata": {
    "id": "xayG1-uVZ2MQ"
   },
   "outputs": [
    {
     "data": {
      "image/png": "[encoded data removed]",
      "text/plain": [
       "<Figure size 864x432 with 1 Axes>"
      ]
     },
     "metadata": {
      "needs_background": "light"
     },
     "output_type": "display_data"
    }
   ],
   "source": [
    "# Frequency of order by Weekdays\n",
    "plt.figure(figsize=(12,6))\n",
    "plt.title(\"Frequency of order by Weekday\", fontsize=15)\n",
    "InvoiceDate = data.groupby(['invoice_no'])['Weekday'].unique()\n",
    "InvoiceDate.value_counts().sort_index().plot.bar();"
   ]
  },
  {
   "cell_type": "markdown",
   "metadata": {},
   "source": [
    "This weekday plot shows another interesting behaviour, the day where people order most is the 5th day (Friday), which is the holiday in most countries, also maybe because they allow themselves to have treat after a \"long working week\". Also many people order midweek. \n",
    "\n",
    "This graph is crucial because it will help the marketing team to come up with a better marketing targted campaigns startegies"
   ]
  },
  {
   "cell_type": "markdown",
   "metadata": {
    "id": "JhP1RBiWkNDU"
   },
   "source": [
    "#### Frequency of order by hour of day\n",
    "\n",
    "---\n",
    "\n",
    "\n"
   ]
  },
  {
   "cell_type": "code",
   "execution_count": 203,
   "metadata": {
    "id": "RRiUqW8wZ2MQ"
   },
   "outputs": [
    {
     "data": {
      "image/png": "[encoded data removed]",
      "text/plain": [
       "<Figure size 864x432 with 1 Axes>"
      ]
     },
     "metadata": {
      "needs_background": "light"
     },
     "output_type": "display_data"
    }
   ],
   "source": [
    "#Frequency of order by hour of day\n",
    "plt.figure(figsize=(12,6))\n",
    "plt.title(\"Frequency of order by hour of day\", fontsize=15)\n",
    "InvoiceDate = data.groupby(['invoice_no'])['hour'].unique()\n",
    "(InvoiceDate.value_counts()).iloc[0:-1].sort_index().plot.bar();"
   ]
  },
  {
   "cell_type": "markdown",
   "metadata": {},
   "source": [
    "Very similar to the weekday, the marketing team should be aware of the hours in which customers place their orders, so the e-commerce business the marketing team can come up with a better marketing targted campaigns startegies"
   ]
  },
  {
   "cell_type": "markdown",
   "metadata": {},
   "source": [
    "General conclusion on the order timeframe analysis:\n",
    "\n",
    "The marketing team should adjust their marketing campaigns according to the customer surf hours and the hours and events where customer place their orders most frequently"
   ]
  },
  {
   "cell_type": "markdown",
   "metadata": {},
   "source": [
    "### Top selling products"
   ]
  },
  {
   "cell_type": "code",
   "execution_count": 204,
   "metadata": {},
   "outputs": [
    {
     "data": {
      "text/html": [
       "<div>\n",
       "<style scoped>\n",
       "    .dataframe tbody tr th:only-of-type {\n",
       "        vertical-align: middle;\n",
       "    }\n",
       "\n",
       "    .dataframe tbody tr th {\n",
       "        vertical-align: top;\n",
       "    }\n",
       "\n",
       "    .dataframe thead th {\n",
       "        text-align: right;\n",
       "    }\n",
       "</style>\n",
       "<table border=\"1\" class=\"dataframe\">\n",
       "  <thead>\n",
       "    <tr style=\"text-align: right;\">\n",
       "      <th></th>\n",
       "      <th>description</th>\n",
       "      <th>stock_code</th>\n",
       "    </tr>\n",
       "  </thead>\n",
       "  <tbody>\n",
       "    <tr>\n",
       "      <th>0</th>\n",
       "      <td>WHITE HANGING HEART T-LIGHT HOLDER</td>\n",
       "      <td>2332</td>\n",
       "    </tr>\n",
       "    <tr>\n",
       "      <th>1</th>\n",
       "      <td>JUMBO BAG RED RETROSPOT</td>\n",
       "      <td>2112</td>\n",
       "    </tr>\n",
       "    <tr>\n",
       "      <th>2</th>\n",
       "      <td>REGENCY CAKESTAND 3 TIER</td>\n",
       "      <td>2017</td>\n",
       "    </tr>\n",
       "    <tr>\n",
       "      <th>3</th>\n",
       "      <td>PARTY BUNTING</td>\n",
       "      <td>1706</td>\n",
       "    </tr>\n",
       "    <tr>\n",
       "      <th>4</th>\n",
       "      <td>LUNCH BAG RED RETROSPOT</td>\n",
       "      <td>1595</td>\n",
       "    </tr>\n",
       "    <tr>\n",
       "      <th>5</th>\n",
       "      <td>ASSORTED COLOUR BIRD ORNAMENT</td>\n",
       "      <td>1489</td>\n",
       "    </tr>\n",
       "    <tr>\n",
       "      <th>6</th>\n",
       "      <td>POPCORN HOLDER</td>\n",
       "      <td>1426</td>\n",
       "    </tr>\n",
       "    <tr>\n",
       "      <th>7</th>\n",
       "      <td>SET OF 3 CAKE TINS PANTRY DESIGN</td>\n",
       "      <td>1399</td>\n",
       "    </tr>\n",
       "    <tr>\n",
       "      <th>8</th>\n",
       "      <td>PACK OF 72 RETROSPOT CAKE CASES</td>\n",
       "      <td>1370</td>\n",
       "    </tr>\n",
       "    <tr>\n",
       "      <th>9</th>\n",
       "      <td>LUNCH BAG  BLACK SKULL.</td>\n",
       "      <td>1328</td>\n",
       "    </tr>\n",
       "    <tr>\n",
       "      <th>10</th>\n",
       "      <td>LUNCH BAG SUKI DESIGN</td>\n",
       "      <td>1326</td>\n",
       "    </tr>\n",
       "    <tr>\n",
       "      <th>11</th>\n",
       "      <td>NATURAL SLATE HEART CHALKBOARD</td>\n",
       "      <td>1263</td>\n",
       "    </tr>\n",
       "    <tr>\n",
       "      <th>12</th>\n",
       "      <td>JUMBO BAG VINTAGE DOILY</td>\n",
       "      <td>1249</td>\n",
       "    </tr>\n",
       "    <tr>\n",
       "      <th>13</th>\n",
       "      <td>JUMBO BAG PINK POLKADOT</td>\n",
       "      <td>1238</td>\n",
       "    </tr>\n",
       "    <tr>\n",
       "      <th>14</th>\n",
       "      <td>HEART OF WICKER SMALL</td>\n",
       "      <td>1226</td>\n",
       "    </tr>\n",
       "  </tbody>\n",
       "</table>\n",
       "</div>"
      ],
      "text/plain": [
       "                           description  stock_code\n",
       "0   WHITE HANGING HEART T-LIGHT HOLDER        2332\n",
       "1              JUMBO BAG RED RETROSPOT        2112\n",
       "2             REGENCY CAKESTAND 3 TIER        2017\n",
       "3                        PARTY BUNTING        1706\n",
       "4              LUNCH BAG RED RETROSPOT        1595\n",
       "5        ASSORTED COLOUR BIRD ORNAMENT        1489\n",
       "6                       POPCORN HOLDER        1426\n",
       "7    SET OF 3 CAKE TINS PANTRY DESIGN         1399\n",
       "8      PACK OF 72 RETROSPOT CAKE CASES        1370\n",
       "9              LUNCH BAG  BLACK SKULL.        1328\n",
       "10              LUNCH BAG SUKI DESIGN         1326\n",
       "11     NATURAL SLATE HEART CHALKBOARD         1263\n",
       "12            JUMBO BAG VINTAGE DOILY         1249\n",
       "13             JUMBO BAG PINK POLKADOT        1238\n",
       "14               HEART OF WICKER SMALL        1226"
      ]
     },
     "execution_count": 204,
     "metadata": {},
     "output_type": "execute_result"
    }
   ],
   "source": [
    "top_selling_products = pd.DataFrame((data.groupby(['description'])['stock_code'].count())).sort_values('stock_code', ascending = False).head(15).reset_index()\n",
    "top_selling_products.head(15)"
   ]
  },
  {
   "cell_type": "code",
   "execution_count": 205,
   "metadata": {},
   "outputs": [
    {
     "data": {
      "text/html": [
       "<div>\n",
       "<style scoped>\n",
       "    .dataframe tbody tr th:only-of-type {\n",
       "        vertical-align: middle;\n",
       "    }\n",
       "\n",
       "    .dataframe tbody tr th {\n",
       "        vertical-align: top;\n",
       "    }\n",
       "\n",
       "    .dataframe thead th {\n",
       "        text-align: right;\n",
       "    }\n",
       "</style>\n",
       "<table border=\"1\" class=\"dataframe\">\n",
       "  <thead>\n",
       "    <tr style=\"text-align: right;\">\n",
       "      <th></th>\n",
       "      <th>stock_description</th>\n",
       "      <th>sale_count</th>\n",
       "    </tr>\n",
       "  </thead>\n",
       "  <tbody>\n",
       "    <tr>\n",
       "      <th>0</th>\n",
       "      <td>WHITE HANGING HEART T-LIGHT HOLDER</td>\n",
       "      <td>2332</td>\n",
       "    </tr>\n",
       "    <tr>\n",
       "      <th>1</th>\n",
       "      <td>JUMBO BAG RED RETROSPOT</td>\n",
       "      <td>2112</td>\n",
       "    </tr>\n",
       "    <tr>\n",
       "      <th>2</th>\n",
       "      <td>REGENCY CAKESTAND 3 TIER</td>\n",
       "      <td>2017</td>\n",
       "    </tr>\n",
       "    <tr>\n",
       "      <th>3</th>\n",
       "      <td>PARTY BUNTING</td>\n",
       "      <td>1706</td>\n",
       "    </tr>\n",
       "    <tr>\n",
       "      <th>4</th>\n",
       "      <td>LUNCH BAG RED RETROSPOT</td>\n",
       "      <td>1595</td>\n",
       "    </tr>\n",
       "    <tr>\n",
       "      <th>5</th>\n",
       "      <td>ASSORTED COLOUR BIRD ORNAMENT</td>\n",
       "      <td>1489</td>\n",
       "    </tr>\n",
       "    <tr>\n",
       "      <th>6</th>\n",
       "      <td>POPCORN HOLDER</td>\n",
       "      <td>1426</td>\n",
       "    </tr>\n",
       "    <tr>\n",
       "      <th>7</th>\n",
       "      <td>SET OF 3 CAKE TINS PANTRY DESIGN</td>\n",
       "      <td>1399</td>\n",
       "    </tr>\n",
       "    <tr>\n",
       "      <th>8</th>\n",
       "      <td>PACK OF 72 RETROSPOT CAKE CASES</td>\n",
       "      <td>1370</td>\n",
       "    </tr>\n",
       "    <tr>\n",
       "      <th>9</th>\n",
       "      <td>LUNCH BAG  BLACK SKULL.</td>\n",
       "      <td>1328</td>\n",
       "    </tr>\n",
       "    <tr>\n",
       "      <th>10</th>\n",
       "      <td>LUNCH BAG SUKI DESIGN</td>\n",
       "      <td>1326</td>\n",
       "    </tr>\n",
       "    <tr>\n",
       "      <th>11</th>\n",
       "      <td>NATURAL SLATE HEART CHALKBOARD</td>\n",
       "      <td>1263</td>\n",
       "    </tr>\n",
       "    <tr>\n",
       "      <th>12</th>\n",
       "      <td>JUMBO BAG VINTAGE DOILY</td>\n",
       "      <td>1249</td>\n",
       "    </tr>\n",
       "    <tr>\n",
       "      <th>13</th>\n",
       "      <td>JUMBO BAG PINK POLKADOT</td>\n",
       "      <td>1238</td>\n",
       "    </tr>\n",
       "    <tr>\n",
       "      <th>14</th>\n",
       "      <td>HEART OF WICKER SMALL</td>\n",
       "      <td>1226</td>\n",
       "    </tr>\n",
       "  </tbody>\n",
       "</table>\n",
       "</div>"
      ],
      "text/plain": [
       "                     stock_description  sale_count\n",
       "0   WHITE HANGING HEART T-LIGHT HOLDER        2332\n",
       "1              JUMBO BAG RED RETROSPOT        2112\n",
       "2             REGENCY CAKESTAND 3 TIER        2017\n",
       "3                        PARTY BUNTING        1706\n",
       "4              LUNCH BAG RED RETROSPOT        1595\n",
       "5        ASSORTED COLOUR BIRD ORNAMENT        1489\n",
       "6                       POPCORN HOLDER        1426\n",
       "7    SET OF 3 CAKE TINS PANTRY DESIGN         1399\n",
       "8      PACK OF 72 RETROSPOT CAKE CASES        1370\n",
       "9              LUNCH BAG  BLACK SKULL.        1328\n",
       "10              LUNCH BAG SUKI DESIGN         1326\n",
       "11     NATURAL SLATE HEART CHALKBOARD         1263\n",
       "12            JUMBO BAG VINTAGE DOILY         1249\n",
       "13             JUMBO BAG PINK POLKADOT        1238\n",
       "14               HEART OF WICKER SMALL        1226"
      ]
     },
     "execution_count": 205,
     "metadata": {},
     "output_type": "execute_result"
    }
   ],
   "source": [
    "# Overall top selling products\n",
    "top_15_product = data['description'].value_counts().reset_index().head(15)\n",
    "top_15_product = top_15_product.rename(columns={'index': 'stock_description', 'description': 'sale_count'})\n",
    "top_15_product"
   ]
  },
  {
   "cell_type": "code",
   "execution_count": 206,
   "metadata": {},
   "outputs": [
    {
     "data": {
      "image/png": "[encoded data removed]",
      "text/plain": [
       "<Figure size 1008x504 with 1 Axes>"
      ]
     },
     "metadata": {
      "needs_background": "light"
     },
     "output_type": "display_data"
    }
   ],
   "source": [
    "# plotting a barplot to visualize the above list\n",
    "plt.figure(figsize=(14,7))\n",
    "ax = sns.barplot(x=\"stock_description\", y=\"sale_count\", data=top_15_product,\n",
    "                 palette=\"Blues_d\")\n",
    "plt.title(\"Top 15 products overall\")\n",
    "plt.xticks(rotation=85);"
   ]
  },
  {
   "cell_type": "markdown",
   "metadata": {},
   "source": [
    "These are the top sold products overall"
   ]
  },
  {
   "cell_type": "markdown",
   "metadata": {
    "id": "XJnjQ7MSZ2MR"
   },
   "source": [
    "### Top repurchased products by customers\n",
    "\n",
    "Herer I will investigate which products have high demand by the business' loyal customers.."
   ]
  },
  {
   "cell_type": "code",
   "execution_count": 207,
   "metadata": {
    "id": "FB_7RNUXZ2MU"
   },
   "outputs": [
    {
     "data": {
      "text/html": [
       "<div>\n",
       "<style scoped>\n",
       "    .dataframe tbody tr th:only-of-type {\n",
       "        vertical-align: middle;\n",
       "    }\n",
       "\n",
       "    .dataframe tbody tr th {\n",
       "        vertical-align: top;\n",
       "    }\n",
       "\n",
       "    .dataframe thead th {\n",
       "        text-align: right;\n",
       "    }\n",
       "</style>\n",
       "<table border=\"1\" class=\"dataframe\">\n",
       "  <thead>\n",
       "    <tr style=\"text-align: right;\">\n",
       "      <th></th>\n",
       "      <th>invoice_no</th>\n",
       "      <th>stock_code</th>\n",
       "      <th>description</th>\n",
       "      <th>quantity</th>\n",
       "      <th>invoice_date</th>\n",
       "      <th>unit_price</th>\n",
       "      <th>customer_id</th>\n",
       "      <th>RefundFlg</th>\n",
       "      <th>yearmonth</th>\n",
       "      <th>Week</th>\n",
       "      <th>day</th>\n",
       "      <th>Weekday</th>\n",
       "      <th>hour</th>\n",
       "      <th>repurchased</th>\n",
       "    </tr>\n",
       "  </thead>\n",
       "  <tbody>\n",
       "    <tr>\n",
       "      <th>61619</th>\n",
       "      <td>541431</td>\n",
       "      <td>23166</td>\n",
       "      <td>MEDIUM CERAMIC TOP STORAGE JAR</td>\n",
       "      <td>74215</td>\n",
       "      <td>2019-01-16 10:01:00</td>\n",
       "      <td>1.04</td>\n",
       "      <td>12346</td>\n",
       "      <td>False</td>\n",
       "      <td>201901</td>\n",
       "      <td>02</td>\n",
       "      <td>16</td>\n",
       "      <td>3</td>\n",
       "      <td>10</td>\n",
       "      <td>0</td>\n",
       "    </tr>\n",
       "    <tr>\n",
       "      <th>148306</th>\n",
       "      <td>549222</td>\n",
       "      <td>16008</td>\n",
       "      <td>SMALL FOLDING SCISSOR(POINTED EDGE)</td>\n",
       "      <td>24</td>\n",
       "      <td>2019-04-05 10:43:00</td>\n",
       "      <td>0.25</td>\n",
       "      <td>12347</td>\n",
       "      <td>False</td>\n",
       "      <td>201904</td>\n",
       "      <td>13</td>\n",
       "      <td>05</td>\n",
       "      <td>5</td>\n",
       "      <td>10</td>\n",
       "      <td>0</td>\n",
       "    </tr>\n",
       "    <tr>\n",
       "      <th>220583</th>\n",
       "      <td>556201</td>\n",
       "      <td>17021</td>\n",
       "      <td>NAMASTE SWAGAT INCENSE</td>\n",
       "      <td>36</td>\n",
       "      <td>2019-06-07 13:01:00</td>\n",
       "      <td>0.30</td>\n",
       "      <td>12347</td>\n",
       "      <td>False</td>\n",
       "      <td>201906</td>\n",
       "      <td>22</td>\n",
       "      <td>07</td>\n",
       "      <td>5</td>\n",
       "      <td>13</td>\n",
       "      <td>0</td>\n",
       "    </tr>\n",
       "    <tr>\n",
       "      <th>148289</th>\n",
       "      <td>549222</td>\n",
       "      <td>20665</td>\n",
       "      <td>RED RETROSPOT PURSE</td>\n",
       "      <td>6</td>\n",
       "      <td>2019-04-05 10:43:00</td>\n",
       "      <td>2.95</td>\n",
       "      <td>12347</td>\n",
       "      <td>False</td>\n",
       "      <td>201904</td>\n",
       "      <td>13</td>\n",
       "      <td>05</td>\n",
       "      <td>5</td>\n",
       "      <td>10</td>\n",
       "      <td>0</td>\n",
       "    </tr>\n",
       "    <tr>\n",
       "      <th>72249</th>\n",
       "      <td>542237</td>\n",
       "      <td>20719</td>\n",
       "      <td>WOODLAND CHARLOTTE BAG</td>\n",
       "      <td>10</td>\n",
       "      <td>2019-01-24 14:30:00</td>\n",
       "      <td>0.85</td>\n",
       "      <td>12347</td>\n",
       "      <td>False</td>\n",
       "      <td>201901</td>\n",
       "      <td>03</td>\n",
       "      <td>24</td>\n",
       "      <td>4</td>\n",
       "      <td>14</td>\n",
       "      <td>0</td>\n",
       "    </tr>\n",
       "    <tr>\n",
       "      <th>286629</th>\n",
       "      <td>562032</td>\n",
       "      <td>20719</td>\n",
       "      <td>WOODLAND CHARLOTTE BAG</td>\n",
       "      <td>10</td>\n",
       "      <td>2019-07-31 08:48:00</td>\n",
       "      <td>0.85</td>\n",
       "      <td>12347</td>\n",
       "      <td>False</td>\n",
       "      <td>201907</td>\n",
       "      <td>30</td>\n",
       "      <td>31</td>\n",
       "      <td>3</td>\n",
       "      <td>08</td>\n",
       "      <td>1</td>\n",
       "    </tr>\n",
       "    <tr>\n",
       "      <th>429001</th>\n",
       "      <td>573511</td>\n",
       "      <td>20719</td>\n",
       "      <td>WOODLAND CHARLOTTE BAG</td>\n",
       "      <td>10</td>\n",
       "      <td>2019-10-29 12:25:00</td>\n",
       "      <td>0.85</td>\n",
       "      <td>12347</td>\n",
       "      <td>False</td>\n",
       "      <td>201910</td>\n",
       "      <td>43</td>\n",
       "      <td>29</td>\n",
       "      <td>2</td>\n",
       "      <td>12</td>\n",
       "      <td>1</td>\n",
       "    </tr>\n",
       "  </tbody>\n",
       "</table>\n",
       "</div>"
      ],
      "text/plain": [
       "       invoice_no stock_code                          description  quantity  \\\n",
       "61619      541431      23166       MEDIUM CERAMIC TOP STORAGE JAR     74215   \n",
       "148306     549222      16008  SMALL FOLDING SCISSOR(POINTED EDGE)        24   \n",
       "220583     556201      17021               NAMASTE SWAGAT INCENSE        36   \n",
       "148289     549222      20665                 RED RETROSPOT PURSE          6   \n",
       "72249      542237      20719               WOODLAND CHARLOTTE BAG        10   \n",
       "286629     562032      20719               WOODLAND CHARLOTTE BAG        10   \n",
       "429001     573511      20719               WOODLAND CHARLOTTE BAG        10   \n",
       "\n",
       "              invoice_date  unit_price customer_id  RefundFlg  yearmonth Week  \\\n",
       "61619  2019-01-16 10:01:00        1.04       12346      False     201901   02   \n",
       "148306 2019-04-05 10:43:00        0.25       12347      False     201904   13   \n",
       "220583 2019-06-07 13:01:00        0.30       12347      False     201906   22   \n",
       "148289 2019-04-05 10:43:00        2.95       12347      False     201904   13   \n",
       "72249  2019-01-24 14:30:00        0.85       12347      False     201901   03   \n",
       "286629 2019-07-31 08:48:00        0.85       12347      False     201907   30   \n",
       "429001 2019-10-29 12:25:00        0.85       12347      False     201910   43   \n",
       "\n",
       "       day Weekday hour  repurchased  \n",
       "61619   16       3   10            0  \n",
       "148306  05       5   10            0  \n",
       "220583  07       5   13            0  \n",
       "148289  05       5   10            0  \n",
       "72249   24       4   14            0  \n",
       "286629  31       3   08            1  \n",
       "429001  29       2   12            1  "
      ]
     },
     "execution_count": 207,
     "metadata": {},
     "output_type": "execute_result"
    }
   ],
   "source": [
    "# Sorting and counting the invoice_no for each stock_code\n",
    "df_sort = data.sort_values(['customer_id', 'stock_code', 'invoice_date']) # Sorting to see if the same customer repurchased the same product considering the date\n",
    "df_sort_shift1 = df_sort.shift(1) # shifting after the sorting to help us analyze which products were repurchased (see next step)\n",
    "df_sort_reorder = df_sort.copy()\n",
    "#We assigned 1 to the repurchased, and 0 to the products which were not repurchased by the same customer\n",
    "df_sort_reorder['repurchased'] = np.where(((df_sort['stock_code'] == df_sort_shift1['stock_code']) & (df_sort['customer_id'] == df_sort_shift1['customer_id'])), 1,0) \n",
    "df_sort_reorder.head(7)"
   ]
  },
  {
   "cell_type": "code",
   "execution_count": 208,
   "metadata": {},
   "outputs": [
    {
     "data": {
      "text/plain": [
       "0    270199\n",
       "1    259904\n",
       "Name: repurchased, dtype: int64"
      ]
     },
     "execution_count": 208,
     "metadata": {},
     "output_type": "execute_result"
    }
   ],
   "source": [
    "# Seeing how many products were repurchased and how many were not by the same customer \n",
    "df_sort_reorder['repurchased'].value_counts()"
   ]
  },
  {
   "cell_type": "markdown",
   "metadata": {},
   "source": [
    "There were 270199 products that was purchased only once by the same customer, and 259904 repurchased more than once by the same customer.\n",
    "\n",
    "This is important, because the ecommerece product model is different from website to website. Think about an online retail store where you buy your home supllies and groceries from. You'll probably going to conduct an online repurchase for toliet paper again and again from that online retail store.. So the message is, this ecommerce business seem to have a product model where it focuses on repurchases.. I usually do not buy the same product from ebay, but maybe many customers do the same purchases again and again for personal or business reasons. \n",
    "\n",
    "This shows that the ecommerce business have two types of customers:\n",
    "\n",
    "1. One time product purchase customers: They are searching and trying out products\n",
    "\n",
    "2. Repurchase again and again customers: They know what they want and they are satisfied and will keep buying again for personal or business needs"
   ]
  },
  {
   "cell_type": "code",
   "execution_count": 209,
   "metadata": {
    "id": "1T_u8HXjZ2MV"
   },
   "outputs": [
    {
     "data": {
      "text/html": [
       "<div>\n",
       "<style scoped>\n",
       "    .dataframe tbody tr th:only-of-type {\n",
       "        vertical-align: middle;\n",
       "    }\n",
       "\n",
       "    .dataframe tbody tr th {\n",
       "        vertical-align: top;\n",
       "    }\n",
       "\n",
       "    .dataframe thead th {\n",
       "        text-align: right;\n",
       "    }\n",
       "</style>\n",
       "<table border=\"1\" class=\"dataframe\">\n",
       "  <thead>\n",
       "    <tr style=\"text-align: right;\">\n",
       "      <th></th>\n",
       "      <th>description</th>\n",
       "      <th>stock_code</th>\n",
       "      <th>repurchased</th>\n",
       "    </tr>\n",
       "  </thead>\n",
       "  <tbody>\n",
       "    <tr>\n",
       "      <th>0</th>\n",
       "      <td>JUMBO BAG RED RETROSPOT</td>\n",
       "      <td>85099B</td>\n",
       "      <td>1476</td>\n",
       "    </tr>\n",
       "    <tr>\n",
       "      <th>1</th>\n",
       "      <td>WHITE HANGING HEART T-LIGHT HOLDER</td>\n",
       "      <td>85123A</td>\n",
       "      <td>1408</td>\n",
       "    </tr>\n",
       "    <tr>\n",
       "      <th>2</th>\n",
       "      <td>REGENCY CAKESTAND 3 TIER</td>\n",
       "      <td>22423</td>\n",
       "      <td>1135</td>\n",
       "    </tr>\n",
       "    <tr>\n",
       "      <th>3</th>\n",
       "      <td>LUNCH BAG RED RETROSPOT</td>\n",
       "      <td>20725</td>\n",
       "      <td>1062</td>\n",
       "    </tr>\n",
       "    <tr>\n",
       "      <th>4</th>\n",
       "      <td>POPCORN HOLDER</td>\n",
       "      <td>22197</td>\n",
       "      <td>1018</td>\n",
       "    </tr>\n",
       "    <tr>\n",
       "      <th>5</th>\n",
       "      <td>PARTY BUNTING</td>\n",
       "      <td>47566</td>\n",
       "      <td>997</td>\n",
       "    </tr>\n",
       "    <tr>\n",
       "      <th>6</th>\n",
       "      <td>LUNCH BAG SUKI DESIGN</td>\n",
       "      <td>22383</td>\n",
       "      <td>891</td>\n",
       "    </tr>\n",
       "    <tr>\n",
       "      <th>7</th>\n",
       "      <td>LUNCH BAG  BLACK SKULL.</td>\n",
       "      <td>20727</td>\n",
       "      <td>869</td>\n",
       "    </tr>\n",
       "    <tr>\n",
       "      <th>8</th>\n",
       "      <td>JUMBO BAG PINK POLKADOT</td>\n",
       "      <td>22386</td>\n",
       "      <td>865</td>\n",
       "    </tr>\n",
       "    <tr>\n",
       "      <th>9</th>\n",
       "      <td>JUMBO STORAGE BAG SUKI</td>\n",
       "      <td>21931</td>\n",
       "      <td>863</td>\n",
       "    </tr>\n",
       "    <tr>\n",
       "      <th>10</th>\n",
       "      <td>JUMBO SHOPPER VINTAGE RED PAISLEY</td>\n",
       "      <td>22411</td>\n",
       "      <td>814</td>\n",
       "    </tr>\n",
       "    <tr>\n",
       "      <th>11</th>\n",
       "      <td>ASSORTED COLOUR BIRD ORNAMENT</td>\n",
       "      <td>84879</td>\n",
       "      <td>810</td>\n",
       "    </tr>\n",
       "    <tr>\n",
       "      <th>12</th>\n",
       "      <td>POSTAGE</td>\n",
       "      <td>POST</td>\n",
       "      <td>794</td>\n",
       "    </tr>\n",
       "    <tr>\n",
       "      <th>13</th>\n",
       "      <td>SET OF 3 CAKE TINS PANTRY DESIGN</td>\n",
       "      <td>22720</td>\n",
       "      <td>758</td>\n",
       "    </tr>\n",
       "    <tr>\n",
       "      <th>14</th>\n",
       "      <td>JUMBO BAG VINTAGE DOILY</td>\n",
       "      <td>23203</td>\n",
       "      <td>743</td>\n",
       "    </tr>\n",
       "  </tbody>\n",
       "</table>\n",
       "</div>"
      ],
      "text/plain": [
       "                           description stock_code  repurchased\n",
       "0              JUMBO BAG RED RETROSPOT     85099B         1476\n",
       "1   WHITE HANGING HEART T-LIGHT HOLDER     85123A         1408\n",
       "2             REGENCY CAKESTAND 3 TIER      22423         1135\n",
       "3              LUNCH BAG RED RETROSPOT      20725         1062\n",
       "4                       POPCORN HOLDER      22197         1018\n",
       "5                        PARTY BUNTING      47566          997\n",
       "6               LUNCH BAG SUKI DESIGN       22383          891\n",
       "7              LUNCH BAG  BLACK SKULL.      20727          869\n",
       "8              JUMBO BAG PINK POLKADOT      22386          865\n",
       "9               JUMBO STORAGE BAG SUKI      21931          863\n",
       "10   JUMBO SHOPPER VINTAGE RED PAISLEY      22411          814\n",
       "11       ASSORTED COLOUR BIRD ORNAMENT      84879          810\n",
       "12                             POSTAGE       POST          794\n",
       "13   SET OF 3 CAKE TINS PANTRY DESIGN       22720          758\n",
       "14            JUMBO BAG VINTAGE DOILY       23203          743"
      ]
     },
     "execution_count": 209,
     "metadata": {},
     "output_type": "execute_result"
    }
   ],
   "source": [
    "# Top 15 repurchased produts (by loyal customers who repurchased more than 1 time)\n",
    "top_products = pd.DataFrame((df_sort_reorder.groupby(['description','stock_code'])['repurchased'].sum())).sort_values('repurchased', ascending = False).head(15).reset_index()\n",
    "top_products.head(15)"
   ]
  },
  {
   "cell_type": "code",
   "execution_count": 210,
   "metadata": {},
   "outputs": [],
   "source": [
    "# Preparing the string for the graph x-axis\n",
    "top_products[\"stock_description\"] = top_products[\"stock_code\"].astype(str) + ' - ' +top_products[\"description\"]"
   ]
  },
  {
   "cell_type": "code",
   "execution_count": 211,
   "metadata": {},
   "outputs": [
    {
     "data": {
      "image/png": "[encoded data removed]",
      "text/plain": [
       "<Figure size 1008x504 with 1 Axes>"
      ]
     },
     "metadata": {
      "needs_background": "light"
     },
     "output_type": "display_data"
    }
   ],
   "source": [
    "# plotting a barplot to visualize the above list\n",
    "plt.figure(figsize=(14,7))\n",
    "ax = sns.barplot(x=\"stock_description\", y=\"repurchased\", data=top_products,\n",
    "                 palette=\"Blues_d\")\n",
    "plt.title(\"Top 15 repurchased produts\")\n",
    "plt.xticks(rotation=85);"
   ]
  },
  {
   "cell_type": "markdown",
   "metadata": {},
   "source": [
    "The above plot shows the top 15 repurchased produts sold, it's crucial to understand these products were repurchased by loyal customers only."
   ]
  },
  {
   "cell_type": "markdown",
   "metadata": {},
   "source": [
    "General summary: \n",
    "It should be noted that should note that the ecommerece business seem not only work as B2C, but also B3B as the \"WHITE HANGING HEART T-LIGHT HOLDER\" and \"JUMBO BAG RED RETROSPOT\" was repurchased so many times. "
   ]
  },
  {
   "cell_type": "markdown",
   "metadata": {
    "id": "yq-Mg6JU1A5U"
   },
   "source": [
    "### Sales/Revenue Analysis"
   ]
  },
  {
   "cell_type": "code",
   "execution_count": 212,
   "metadata": {
    "id": "P4-aaxqLZ2MK"
   },
   "outputs": [],
   "source": [
    "#calculating totalbill for each invoice\n",
    "df_sort_reorder['total_bill'] = df_sort_reorder['quantity']*df_sort_reorder['unit_price'] "
   ]
  },
  {
   "cell_type": "markdown",
   "metadata": {
    "id": "iBmdLQHVZ2MV"
   },
   "source": [
    "#### Monthly revenue analysis by turning customers into loyal users"
   ]
  },
  {
   "cell_type": "code",
   "execution_count": 213,
   "metadata": {},
   "outputs": [
    {
     "data": {
      "text/html": [
       "<div>\n",
       "<style scoped>\n",
       "    .dataframe tbody tr th:only-of-type {\n",
       "        vertical-align: middle;\n",
       "    }\n",
       "\n",
       "    .dataframe tbody tr th {\n",
       "        vertical-align: top;\n",
       "    }\n",
       "\n",
       "    .dataframe thead th {\n",
       "        text-align: right;\n",
       "    }\n",
       "</style>\n",
       "<table border=\"1\" class=\"dataframe\">\n",
       "  <thead>\n",
       "    <tr style=\"text-align: right;\">\n",
       "      <th></th>\n",
       "      <th>invoice_no</th>\n",
       "      <th>stock_code</th>\n",
       "      <th>description</th>\n",
       "      <th>quantity</th>\n",
       "      <th>invoice_date</th>\n",
       "      <th>unit_price</th>\n",
       "      <th>customer_id</th>\n",
       "      <th>RefundFlg</th>\n",
       "      <th>yearmonth</th>\n",
       "      <th>Week</th>\n",
       "      <th>day</th>\n",
       "      <th>Weekday</th>\n",
       "      <th>hour</th>\n",
       "      <th>repurchased</th>\n",
       "      <th>total_bill</th>\n",
       "    </tr>\n",
       "  </thead>\n",
       "  <tbody>\n",
       "    <tr>\n",
       "      <th>61619</th>\n",
       "      <td>541431</td>\n",
       "      <td>23166</td>\n",
       "      <td>MEDIUM CERAMIC TOP STORAGE JAR</td>\n",
       "      <td>74215</td>\n",
       "      <td>2019-01-16 10:01:00</td>\n",
       "      <td>1.04</td>\n",
       "      <td>12346</td>\n",
       "      <td>False</td>\n",
       "      <td>201901</td>\n",
       "      <td>02</td>\n",
       "      <td>16</td>\n",
       "      <td>3</td>\n",
       "      <td>10</td>\n",
       "      <td>0</td>\n",
       "      <td>77183.6</td>\n",
       "    </tr>\n",
       "  </tbody>\n",
       "</table>\n",
       "</div>"
      ],
      "text/plain": [
       "      invoice_no stock_code                     description  quantity  \\\n",
       "61619     541431      23166  MEDIUM CERAMIC TOP STORAGE JAR     74215   \n",
       "\n",
       "             invoice_date  unit_price customer_id  RefundFlg  yearmonth Week  \\\n",
       "61619 2019-01-16 10:01:00        1.04       12346      False     201901   02   \n",
       "\n",
       "      day Weekday hour  repurchased  total_bill  \n",
       "61619  16       3   10            0     77183.6  "
      ]
     },
     "execution_count": 213,
     "metadata": {},
     "output_type": "execute_result"
    }
   ],
   "source": [
    "df_sort_reorder.head(1)"
   ]
  },
  {
   "cell_type": "code",
   "execution_count": 214,
   "metadata": {
    "id": "jCWHqTkyZ2MV",
    "scrolled": true
   },
   "outputs": [
    {
     "data": {
      "image/png": "[encoded data removed]",
      "text/plain": [
       "<Figure size 1008x648 with 2 Axes>"
      ]
     },
     "metadata": {
      "needs_background": "light"
     },
     "output_type": "display_data"
    }
   ],
   "source": [
    "# Comparing new_users and loyal customer mothly revenue\n",
    "monthly_new_users = (df_sort_reorder[df_sort_reorder['repurchased'] == 0 ].groupby(['yearmonth'])['total_bill'].sum())# new users aggregated by yearmonth and total_bill \n",
    "monthly_loyal = (df_sort_reorder[df_sort_reorder['repurchased'] == 1 ].groupby(['yearmonth'])['total_bill'].sum())# if a person re ordered again in  a yearmonth counting sum for it.\n",
    "\n",
    "monthly_revenue = pd.DataFrame([monthly_new_users , monthly_loyal], index=['New customer', 'Turned Into Client (loyal)']).transpose() # Creating dataframe from monthly_new_users and monthly_loyal then transposing the dataframe so we can plot\n",
    "# Subplotting 2 diagrams\n",
    "fig, axes = plt.subplots(nrows=1, ncols=2, figsize=(14,9))\n",
    "# Bar graph\n",
    "fig.suptitle('Monthly Revenue', fontsize=20)\n",
    "axes[0].set_title(\"BAR GRAPH\", fontsize=16) \n",
    "axes[1].set_title(\"BOX PLOT\", fontsize=16) \n",
    "axes[0].set( ylabel='Dollars ($)')\n",
    "axes[1].set( ylabel='Dollars ($)')\n",
    "monthly_revenue.plot.bar(stacked=True, ax=axes[0])\n",
    "\n",
    "# Boxplot for counted values.\n",
    "monthly_revenue.plot.box(ax=axes[1]);"
   ]
  },
  {
   "cell_type": "markdown",
   "metadata": {
    "id": "9lsqgEJpZ2MW"
   },
   "source": [
    "**Monthly revenue summary:**\n",
    "\n",
    "October 2019 was the best month for the first buyers\n",
    "\n",
    "Novermber 2019 was the best month for the customer retention and turning users into clients (people who reordered)\n",
    "\n",
    "The plotbox is showing that users who buy once are usually turned into clients later on in the year, but ofcourse some dont which is shown in the plotbox differences"
   ]
  },
  {
   "cell_type": "markdown",
   "metadata": {
    "id": "XixDKESOzhjN"
   },
   "source": [
    "#### Daily revenue analysis by turning customers into loyal users"
   ]
  },
  {
   "cell_type": "code",
   "execution_count": 215,
   "metadata": {
    "id": "MNwEQOWRZ2MW"
   },
   "outputs": [
    {
     "data": {
      "image/png": "[encoded data removed]",
      "text/plain": [
       "<Figure size 1008x648 with 2 Axes>"
      ]
     },
     "metadata": {
      "needs_background": "light"
     },
     "output_type": "display_data"
    }
   ],
   "source": [
    "# Comparing new_users and loyal customer daily revenue\n",
    "\n",
    "daily_new_users = (df_sort_reorder[df_sort_reorder['repurchased'] == 0 ].groupby(['day'])['total_bill'].sum())\n",
    "daily_loyal = (df_sort_reorder[df_sort_reorder['repurchased'] == 1 ].groupby(['day'])['total_bill'].sum())\n",
    "\n",
    "daily_revenue = pd.DataFrame([daily_new_users , daily_loyal], index=['First Buy', 'Again Ordered']).transpose()\n",
    "\n",
    "fig, axes = plt.subplots(nrows=1, ncols=2, figsize=(14,9))\n",
    "fig.suptitle('Daily Revenue', fontsize=20)\n",
    "axes[0].set_title(\"BAR GRAPH\", fontsize=16) \n",
    "axes[1].set_title(\"BOX PLOT\", fontsize=16) \n",
    "axes[0].set( ylabel='Dollars ($)')\n",
    "axes[1].set( ylabel='Dollars ($)')\n",
    "daily_revenue.plot.bar(stacked=True, ax=axes[0])\n",
    "daily_revenue.plot.box(ax=axes[1]);"
   ]
  },
  {
   "cell_type": "markdown",
   "metadata": {
    "id": "8P196P_fZ2MX"
   },
   "source": [
    "**Daily revenue summary:**\n",
    "\n",
    "clients usually buy more in the beggining of the month, then it gradually drops when we reach the final days of the month\n",
    "\n",
    "The plotbox is showing that users who buy once are usually turned into clients in the same month"
   ]
  },
  {
   "cell_type": "markdown",
   "metadata": {
    "id": "JD3iTg65zrXK"
   },
   "source": [
    "#### Weekly revenue analysis by turning customers into loyal users"
   ]
  },
  {
   "cell_type": "code",
   "execution_count": 216,
   "metadata": {
    "id": "98WbX_cZZ2MX"
   },
   "outputs": [
    {
     "data": {
      "image/png": "[encoded data removed]",
      "text/plain": [
       "<Figure size 1008x648 with 2 Axes>"
      ]
     },
     "metadata": {
      "needs_background": "light"
     },
     "output_type": "display_data"
    }
   ],
   "source": [
    "# Comparing new_users and loyal customer weekly revenue\n",
    "\n",
    "weekly_new_users = (df_sort_reorder[df_sort_reorder['repurchased'] == 0 ].groupby(['Week'])['total_bill'].sum())\n",
    "weekly_loyal = (df_sort_reorder[df_sort_reorder['repurchased'] == 1 ].groupby(['Week'])['total_bill'].sum())\n",
    "\n",
    "weekly_revenue = pd.DataFrame([weekly_new_users , weekly_loyal], index=['First Buy', 'Again Ordered']).transpose()\n",
    "\n",
    "fig, axes = plt.subplots(nrows=1, ncols=2, figsize=(14,9))\n",
    "fig.suptitle('Weekly Revenue', fontsize=20)\n",
    "axes[0].set_title(\"BAR GRAPH\", fontsize=16) \n",
    "axes[1].set_title(\"BOX PLOT\", fontsize=16) \n",
    "axes[0].set( ylabel='Dollars ($)')\n",
    "axes[1].set( ylabel='Dollars ($)')\n",
    "weekly_revenue.plot.bar(stacked=True, ax=axes[0])\n",
    "weekly_revenue.plot.box(ax=axes[1]);"
   ]
  },
  {
   "cell_type": "markdown",
   "metadata": {
    "id": "QpBBCGFUZ2MY"
   },
   "source": [
    "**Weekly revenue summary:**\n",
    "\n",
    "We can see siilar patern to the monthly revenue summary. There is a gradual increase in orders, so growth is going well! We can see that in the end of the year there was unsual sales growth, it might be due to christmas, but we have to look into the dates after christmas to see if that was the reason or it's just more growth \n",
    "\n",
    "The plotbox is simlar to the monthly plotbox: users who buy once are usually turned into clients later on in the year, but ofcourse some dont which is shown in the plotbox differences"
   ]
  },
  {
   "cell_type": "markdown",
   "metadata": {},
   "source": [
    "### Product categorization (Main and assortment) using the Association Rule Mining via Apriori Algorithm"
   ]
  },
  {
   "cell_type": "markdown",
   "metadata": {
    "id": "5rnPXdRUZ2Ma"
   },
   "source": [
    "**Brief guide to the Association Rule Mining:**\n",
    "\n",
    "\n",
    "Association rule mining is a technique to identify underlying relations between different items. Take an example of a Super Market where customers can buy variety of items. Usually, there is a pattern in what the customers buy. For instance, mothers with babies buy baby products such as milk and diapers. Damsels may buy makeup items whereas bachelors may buy beers and chips etc. In short, transactions involve a pattern. More profit can be generated if the relationship between the items purchased in different transactions can be identified.\n",
    "\n",
    "Using Apriori Algorithm will help us conduct Market Basket Analysis (to find the main and addional assortment): For each product we going to find the relationship with the invoice_no. The relationship between products is going to be described by the following parameters; 1. Support, 2. Confidence, 3. Lift:\n",
    "NOTE: I will focus on the Support parameter rate only for this project (further explaintion can be find below)\n",
    "\n",
    "1. **Support:** \n",
    "\n",
    "Support refers to the default popularity of an item and can be calculated by finding number of transactions containing a particular item divided by total number of transactions. Suppose we want to find support for item B. Example:\n",
    "\n",
    "Support(B) = (Transactions containing (B))/(Total Transactions)\n",
    "\n",
    "Support(Ketchup) = (Transactions containingKetchup)/(Total Transactions)\n",
    "\n",
    "Support(Ketchup) = 100/1000\n",
    "                 = 10%\n",
    "\n",
    "2. *Confidence: Confidence refers to the likelihood that an item B is also bought if item A is bought. It can be calculated by finding the number of transactions where A and B are bought together, divided by total number of transactions where A is bought. Mathematically, it can be represented as:\n",
    "Confidence(A→B) = (Transactions containing both (A and B))/(Transactions containing A)*\n",
    "\n",
    "\n",
    "3. *Lift: Lift(A -> B) refers to the increase in the ratio of sale of B when A is sold. Lift(A –> B) can be calculated by dividing Confidence(A -> B) divided by Support(B). Mathematically it can be represented as:\n",
    "Lift(A→B) = (Confidence (A→B))/(Support (B))*\n",
    "\n",
    "NOTE: I only used the Support parameter to show categorization of Main and Assortment. Confidence and Lift can be informative too, but being stright forward is better and no need for deeper analysis for this project \n",
    "I've studied and copied the code from the following sources:\n",
    "1. https://stackabuse.com/association-rule-mining-via-apriori-algorithm-in-python/\n",
    "2. https://pbpython.com/market-basket-analysis.html"
   ]
  },
  {
   "cell_type": "code",
   "execution_count": 217,
   "metadata": {
    "id": "vmEu_trfZ2Ma"
   },
   "outputs": [
    {
     "data": {
      "text/html": [
       "<div>\n",
       "<style scoped>\n",
       "    .dataframe tbody tr th:only-of-type {\n",
       "        vertical-align: middle;\n",
       "    }\n",
       "\n",
       "    .dataframe tbody tr th {\n",
       "        vertical-align: top;\n",
       "    }\n",
       "\n",
       "    .dataframe thead th {\n",
       "        text-align: right;\n",
       "    }\n",
       "</style>\n",
       "<table border=\"1\" class=\"dataframe\">\n",
       "  <thead>\n",
       "    <tr style=\"text-align: right;\">\n",
       "      <th></th>\n",
       "      <th>invoice_no</th>\n",
       "      <th>stock_code</th>\n",
       "      <th>description</th>\n",
       "      <th>quantity</th>\n",
       "      <th>invoice_date</th>\n",
       "      <th>unit_price</th>\n",
       "      <th>customer_id</th>\n",
       "      <th>RefundFlg</th>\n",
       "      <th>yearmonth</th>\n",
       "      <th>Week</th>\n",
       "      <th>day</th>\n",
       "      <th>Weekday</th>\n",
       "      <th>hour</th>\n",
       "      <th>repurchased</th>\n",
       "      <th>total_bill</th>\n",
       "    </tr>\n",
       "  </thead>\n",
       "  <tbody>\n",
       "    <tr>\n",
       "      <th>61619</th>\n",
       "      <td>541431</td>\n",
       "      <td>23166</td>\n",
       "      <td>MEDIUM CERAMIC TOP STORAGE JAR</td>\n",
       "      <td>74215</td>\n",
       "      <td>2019-01-16 10:01:00</td>\n",
       "      <td>1.04</td>\n",
       "      <td>12346</td>\n",
       "      <td>False</td>\n",
       "      <td>201901</td>\n",
       "      <td>02</td>\n",
       "      <td>16</td>\n",
       "      <td>3</td>\n",
       "      <td>10</td>\n",
       "      <td>0</td>\n",
       "      <td>77183.60</td>\n",
       "    </tr>\n",
       "    <tr>\n",
       "      <th>148306</th>\n",
       "      <td>549222</td>\n",
       "      <td>16008</td>\n",
       "      <td>SMALL FOLDING SCISSOR(POINTED EDGE)</td>\n",
       "      <td>24</td>\n",
       "      <td>2019-04-05 10:43:00</td>\n",
       "      <td>0.25</td>\n",
       "      <td>12347</td>\n",
       "      <td>False</td>\n",
       "      <td>201904</td>\n",
       "      <td>13</td>\n",
       "      <td>05</td>\n",
       "      <td>5</td>\n",
       "      <td>10</td>\n",
       "      <td>0</td>\n",
       "      <td>6.00</td>\n",
       "    </tr>\n",
       "    <tr>\n",
       "      <th>220583</th>\n",
       "      <td>556201</td>\n",
       "      <td>17021</td>\n",
       "      <td>NAMASTE SWAGAT INCENSE</td>\n",
       "      <td>36</td>\n",
       "      <td>2019-06-07 13:01:00</td>\n",
       "      <td>0.30</td>\n",
       "      <td>12347</td>\n",
       "      <td>False</td>\n",
       "      <td>201906</td>\n",
       "      <td>22</td>\n",
       "      <td>07</td>\n",
       "      <td>5</td>\n",
       "      <td>13</td>\n",
       "      <td>0</td>\n",
       "      <td>10.80</td>\n",
       "    </tr>\n",
       "    <tr>\n",
       "      <th>148289</th>\n",
       "      <td>549222</td>\n",
       "      <td>20665</td>\n",
       "      <td>RED RETROSPOT PURSE</td>\n",
       "      <td>6</td>\n",
       "      <td>2019-04-05 10:43:00</td>\n",
       "      <td>2.95</td>\n",
       "      <td>12347</td>\n",
       "      <td>False</td>\n",
       "      <td>201904</td>\n",
       "      <td>13</td>\n",
       "      <td>05</td>\n",
       "      <td>5</td>\n",
       "      <td>10</td>\n",
       "      <td>0</td>\n",
       "      <td>17.70</td>\n",
       "    </tr>\n",
       "    <tr>\n",
       "      <th>72249</th>\n",
       "      <td>542237</td>\n",
       "      <td>20719</td>\n",
       "      <td>WOODLAND CHARLOTTE BAG</td>\n",
       "      <td>10</td>\n",
       "      <td>2019-01-24 14:30:00</td>\n",
       "      <td>0.85</td>\n",
       "      <td>12347</td>\n",
       "      <td>False</td>\n",
       "      <td>201901</td>\n",
       "      <td>03</td>\n",
       "      <td>24</td>\n",
       "      <td>4</td>\n",
       "      <td>14</td>\n",
       "      <td>0</td>\n",
       "      <td>8.50</td>\n",
       "    </tr>\n",
       "    <tr>\n",
       "      <th>...</th>\n",
       "      <td>...</td>\n",
       "      <td>...</td>\n",
       "      <td>...</td>\n",
       "      <td>...</td>\n",
       "      <td>...</td>\n",
       "      <td>...</td>\n",
       "      <td>...</td>\n",
       "      <td>...</td>\n",
       "      <td>...</td>\n",
       "      <td>...</td>\n",
       "      <td>...</td>\n",
       "      <td>...</td>\n",
       "      <td>...</td>\n",
       "      <td>...</td>\n",
       "      <td>...</td>\n",
       "    </tr>\n",
       "    <tr>\n",
       "      <th>42057</th>\n",
       "      <td>539958</td>\n",
       "      <td>gift_0001_50</td>\n",
       "      <td>Dotcomgiftshop Gift Voucher £50.00</td>\n",
       "      <td>1</td>\n",
       "      <td>2018-12-21 13:26:00</td>\n",
       "      <td>42.55</td>\n",
       "      <td>unidentified</td>\n",
       "      <td>False</td>\n",
       "      <td>201812</td>\n",
       "      <td>51</td>\n",
       "      <td>21</td>\n",
       "      <td>5</td>\n",
       "      <td>13</td>\n",
       "      <td>0</td>\n",
       "      <td>42.55</td>\n",
       "    </tr>\n",
       "    <tr>\n",
       "      <th>178556</th>\n",
       "      <td>552232</td>\n",
       "      <td>gift_0001_50</td>\n",
       "      <td>Dotcomgiftshop Gift Voucher £50.00</td>\n",
       "      <td>1</td>\n",
       "      <td>2019-05-04 15:54:00</td>\n",
       "      <td>41.67</td>\n",
       "      <td>unidentified</td>\n",
       "      <td>False</td>\n",
       "      <td>201905</td>\n",
       "      <td>17</td>\n",
       "      <td>04</td>\n",
       "      <td>6</td>\n",
       "      <td>15</td>\n",
       "      <td>1</td>\n",
       "      <td>41.67</td>\n",
       "    </tr>\n",
       "    <tr>\n",
       "      <th>239744</th>\n",
       "      <td>558066</td>\n",
       "      <td>gift_0001_50</td>\n",
       "      <td>Dotcomgiftshop Gift Voucher £50.00</td>\n",
       "      <td>1</td>\n",
       "      <td>2019-06-22 15:45:00</td>\n",
       "      <td>41.67</td>\n",
       "      <td>unidentified</td>\n",
       "      <td>False</td>\n",
       "      <td>201906</td>\n",
       "      <td>24</td>\n",
       "      <td>22</td>\n",
       "      <td>6</td>\n",
       "      <td>15</td>\n",
       "      <td>1</td>\n",
       "      <td>41.67</td>\n",
       "    </tr>\n",
       "    <tr>\n",
       "      <th>245516</th>\n",
       "      <td>558614</td>\n",
       "      <td>gift_0001_50</td>\n",
       "      <td>Dotcomgiftshop Gift Voucher £50.00</td>\n",
       "      <td>1</td>\n",
       "      <td>2019-06-28 15:56:00</td>\n",
       "      <td>41.67</td>\n",
       "      <td>unidentified</td>\n",
       "      <td>False</td>\n",
       "      <td>201906</td>\n",
       "      <td>25</td>\n",
       "      <td>28</td>\n",
       "      <td>5</td>\n",
       "      <td>15</td>\n",
       "      <td>1</td>\n",
       "      <td>41.67</td>\n",
       "    </tr>\n",
       "    <tr>\n",
       "      <th>40383</th>\n",
       "      <td>539736</td>\n",
       "      <td>m</td>\n",
       "      <td>Manual</td>\n",
       "      <td>1</td>\n",
       "      <td>2018-12-19 15:18:00</td>\n",
       "      <td>2.55</td>\n",
       "      <td>unidentified</td>\n",
       "      <td>False</td>\n",
       "      <td>201812</td>\n",
       "      <td>51</td>\n",
       "      <td>19</td>\n",
       "      <td>3</td>\n",
       "      <td>15</td>\n",
       "      <td>0</td>\n",
       "      <td>2.55</td>\n",
       "    </tr>\n",
       "  </tbody>\n",
       "</table>\n",
       "<p>530103 rows × 15 columns</p>\n",
       "</div>"
      ],
      "text/plain": [
       "       invoice_no    stock_code                          description  \\\n",
       "61619      541431         23166       MEDIUM CERAMIC TOP STORAGE JAR   \n",
       "148306     549222         16008  SMALL FOLDING SCISSOR(POINTED EDGE)   \n",
       "220583     556201         17021               NAMASTE SWAGAT INCENSE   \n",
       "148289     549222         20665                  RED RETROSPOT PURSE   \n",
       "72249      542237         20719               WOODLAND CHARLOTTE BAG   \n",
       "...           ...           ...                                  ...   \n",
       "42057      539958  gift_0001_50   Dotcomgiftshop Gift Voucher £50.00   \n",
       "178556     552232  gift_0001_50   Dotcomgiftshop Gift Voucher £50.00   \n",
       "239744     558066  gift_0001_50   Dotcomgiftshop Gift Voucher £50.00   \n",
       "245516     558614  gift_0001_50   Dotcomgiftshop Gift Voucher £50.00   \n",
       "40383      539736             m                               Manual   \n",
       "\n",
       "        quantity        invoice_date  unit_price   customer_id  RefundFlg  \\\n",
       "61619      74215 2019-01-16 10:01:00        1.04         12346      False   \n",
       "148306        24 2019-04-05 10:43:00        0.25         12347      False   \n",
       "220583        36 2019-06-07 13:01:00        0.30         12347      False   \n",
       "148289         6 2019-04-05 10:43:00        2.95         12347      False   \n",
       "72249         10 2019-01-24 14:30:00        0.85         12347      False   \n",
       "...          ...                 ...         ...           ...        ...   \n",
       "42057          1 2018-12-21 13:26:00       42.55  unidentified      False   \n",
       "178556         1 2019-05-04 15:54:00       41.67  unidentified      False   \n",
       "239744         1 2019-06-22 15:45:00       41.67  unidentified      False   \n",
       "245516         1 2019-06-28 15:56:00       41.67  unidentified      False   \n",
       "40383          1 2018-12-19 15:18:00        2.55  unidentified      False   \n",
       "\n",
       "        yearmonth Week day Weekday hour  repurchased  total_bill  \n",
       "61619      201901   02  16       3   10            0    77183.60  \n",
       "148306     201904   13  05       5   10            0        6.00  \n",
       "220583     201906   22  07       5   13            0       10.80  \n",
       "148289     201904   13  05       5   10            0       17.70  \n",
       "72249      201901   03  24       4   14            0        8.50  \n",
       "...           ...  ...  ..     ...  ...          ...         ...  \n",
       "42057      201812   51  21       5   13            0       42.55  \n",
       "178556     201905   17  04       6   15            1       41.67  \n",
       "239744     201906   24  22       6   15            1       41.67  \n",
       "245516     201906   25  28       5   15            1       41.67  \n",
       "40383      201812   51  19       3   15            0        2.55  \n",
       "\n",
       "[530103 rows x 15 columns]"
      ]
     },
     "execution_count": 217,
     "metadata": {},
     "output_type": "execute_result"
    }
   ],
   "source": [
    "# Prepraring the data (df_sort_reorder which is preprocessed already) for Apriori Algorithm:\n",
    "# 1. preprocessing or data cleaning. for example a description can have exra spaces in left or right, we should remove those\n",
    "# 2. Cleaning missing values from invoice_no: we should drop missing values from invoice_no because it will clean the data for the Apriori Algorithm so each invoice_no will find relation with the description/stock_code \n",
    "#Like that we should remove cancel or credit records because those are not helpful in assortment we have performed all those steps here\n",
    "df_sort_reorder['description'] = df_sort_reorder['description'].str.strip()#removes spaces if exist on left and right of the string\n",
    "df_sort_reorder.dropna(axis=0, subset=['invoice_no'], inplace=True)#drop the rows that don’t have invoice numbers\n",
    "df_sort_reorder = df_sort_reorder[~df_sort_reorder['invoice_no'].str.contains('C')]#remove the credit transactions which contains invoice numbers containing\n",
    "df_sort_reorder"
   ]
  },
  {
   "cell_type": "markdown",
   "metadata": {
    "id": "NKfVzzDUnHkb"
   },
   "source": [
    "#### Which products are more often combined with others (main and additional assortment)?"
   ]
  },
  {
   "cell_type": "code",
   "execution_count": 218,
   "metadata": {},
   "outputs": [
    {
     "name": "stdout",
     "output_type": "stream",
     "text": [
      "We have unique: \n",
      "invoice_no :  19959\n",
      "stock_code :  3921\n",
      "description :  3787\n"
     ]
    }
   ],
   "source": [
    "# Showing the columns nunique values which may be used for the Apriori Algorithm:\n",
    "print(\"We have unique: \")\n",
    "print(\"invoice_no : \", df_sort_reorder['invoice_no'].nunique())\n",
    "print(\"stock_code : \",df_sort_reorder['stock_code'].nunique())\n",
    "print(\"description : \",df_sort_reorder['description'].nunique())"
   ]
  },
  {
   "cell_type": "code",
   "execution_count": 219,
   "metadata": {
    "id": "W_AhEesGZ2Ma"
   },
   "outputs": [
    {
     "data": {
      "text/html": [
       "<div>\n",
       "<style scoped>\n",
       "    .dataframe tbody tr th:only-of-type {\n",
       "        vertical-align: middle;\n",
       "    }\n",
       "\n",
       "    .dataframe tbody tr th {\n",
       "        vertical-align: top;\n",
       "    }\n",
       "\n",
       "    .dataframe thead th {\n",
       "        text-align: right;\n",
       "    }\n",
       "</style>\n",
       "<table border=\"1\" class=\"dataframe\">\n",
       "  <thead>\n",
       "    <tr style=\"text-align: right;\">\n",
       "      <th>description</th>\n",
       "      <th>*Boombox Ipod Classic</th>\n",
       "      <th>*USB Office Mirror Ball</th>\n",
       "      <th>10 COLOUR SPACEBOY PEN</th>\n",
       "      <th>12 COLOURED PARTY BALLOONS</th>\n",
       "      <th>12 DAISY PEGS IN WOOD BOX</th>\n",
       "      <th>12 EGG HOUSE PAINTED WOOD</th>\n",
       "      <th>12 HANGING EGGS HAND PAINTED</th>\n",
       "      <th>12 IVORY ROSE PEG PLACE SETTINGS</th>\n",
       "      <th>12 MESSAGE CARDS WITH ENVELOPES</th>\n",
       "      <th>12 PENCIL SMALL TUBE WOODLAND</th>\n",
       "      <th>...</th>\n",
       "      <th>ZINC HERB GARDEN CONTAINER</th>\n",
       "      <th>ZINC METAL HEART DECORATION</th>\n",
       "      <th>ZINC SWEETHEART SOAP DISH</th>\n",
       "      <th>ZINC SWEETHEART WIRE LETTER RACK</th>\n",
       "      <th>ZINC T-LIGHT HOLDER STAR LARGE</th>\n",
       "      <th>ZINC T-LIGHT HOLDER STARS SMALL</th>\n",
       "      <th>ZINC TOP  2 DOOR WOODEN SHELF</th>\n",
       "      <th>ZINC WILLIE WINKIE  CANDLE STICK</th>\n",
       "      <th>ZINC WIRE KITCHEN ORGANISER</th>\n",
       "      <th>ZINC WIRE SWEETHEART LETTER TRAY</th>\n",
       "    </tr>\n",
       "    <tr>\n",
       "      <th>invoice_no</th>\n",
       "      <th></th>\n",
       "      <th></th>\n",
       "      <th></th>\n",
       "      <th></th>\n",
       "      <th></th>\n",
       "      <th></th>\n",
       "      <th></th>\n",
       "      <th></th>\n",
       "      <th></th>\n",
       "      <th></th>\n",
       "      <th></th>\n",
       "      <th></th>\n",
       "      <th></th>\n",
       "      <th></th>\n",
       "      <th></th>\n",
       "      <th></th>\n",
       "      <th></th>\n",
       "      <th></th>\n",
       "      <th></th>\n",
       "      <th></th>\n",
       "      <th></th>\n",
       "    </tr>\n",
       "  </thead>\n",
       "  <tbody>\n",
       "    <tr>\n",
       "      <th>536365</th>\n",
       "      <td>0.0</td>\n",
       "      <td>0.0</td>\n",
       "      <td>0.0</td>\n",
       "      <td>0.0</td>\n",
       "      <td>0.0</td>\n",
       "      <td>0.0</td>\n",
       "      <td>0.0</td>\n",
       "      <td>0.0</td>\n",
       "      <td>0.0</td>\n",
       "      <td>0.0</td>\n",
       "      <td>...</td>\n",
       "      <td>0.0</td>\n",
       "      <td>0.0</td>\n",
       "      <td>0.0</td>\n",
       "      <td>0.0</td>\n",
       "      <td>0.0</td>\n",
       "      <td>0.0</td>\n",
       "      <td>0.0</td>\n",
       "      <td>0.0</td>\n",
       "      <td>0.0</td>\n",
       "      <td>0.0</td>\n",
       "    </tr>\n",
       "    <tr>\n",
       "      <th>536366</th>\n",
       "      <td>0.0</td>\n",
       "      <td>0.0</td>\n",
       "      <td>0.0</td>\n",
       "      <td>0.0</td>\n",
       "      <td>0.0</td>\n",
       "      <td>0.0</td>\n",
       "      <td>0.0</td>\n",
       "      <td>0.0</td>\n",
       "      <td>0.0</td>\n",
       "      <td>0.0</td>\n",
       "      <td>...</td>\n",
       "      <td>0.0</td>\n",
       "      <td>0.0</td>\n",
       "      <td>0.0</td>\n",
       "      <td>0.0</td>\n",
       "      <td>0.0</td>\n",
       "      <td>0.0</td>\n",
       "      <td>0.0</td>\n",
       "      <td>0.0</td>\n",
       "      <td>0.0</td>\n",
       "      <td>0.0</td>\n",
       "    </tr>\n",
       "    <tr>\n",
       "      <th>536367</th>\n",
       "      <td>0.0</td>\n",
       "      <td>0.0</td>\n",
       "      <td>0.0</td>\n",
       "      <td>0.0</td>\n",
       "      <td>0.0</td>\n",
       "      <td>0.0</td>\n",
       "      <td>0.0</td>\n",
       "      <td>0.0</td>\n",
       "      <td>0.0</td>\n",
       "      <td>0.0</td>\n",
       "      <td>...</td>\n",
       "      <td>0.0</td>\n",
       "      <td>0.0</td>\n",
       "      <td>0.0</td>\n",
       "      <td>0.0</td>\n",
       "      <td>0.0</td>\n",
       "      <td>0.0</td>\n",
       "      <td>0.0</td>\n",
       "      <td>0.0</td>\n",
       "      <td>0.0</td>\n",
       "      <td>0.0</td>\n",
       "    </tr>\n",
       "    <tr>\n",
       "      <th>536368</th>\n",
       "      <td>0.0</td>\n",
       "      <td>0.0</td>\n",
       "      <td>0.0</td>\n",
       "      <td>0.0</td>\n",
       "      <td>0.0</td>\n",
       "      <td>0.0</td>\n",
       "      <td>0.0</td>\n",
       "      <td>0.0</td>\n",
       "      <td>0.0</td>\n",
       "      <td>0.0</td>\n",
       "      <td>...</td>\n",
       "      <td>0.0</td>\n",
       "      <td>0.0</td>\n",
       "      <td>0.0</td>\n",
       "      <td>0.0</td>\n",
       "      <td>0.0</td>\n",
       "      <td>0.0</td>\n",
       "      <td>0.0</td>\n",
       "      <td>0.0</td>\n",
       "      <td>0.0</td>\n",
       "      <td>0.0</td>\n",
       "    </tr>\n",
       "    <tr>\n",
       "      <th>536369</th>\n",
       "      <td>0.0</td>\n",
       "      <td>0.0</td>\n",
       "      <td>0.0</td>\n",
       "      <td>0.0</td>\n",
       "      <td>0.0</td>\n",
       "      <td>0.0</td>\n",
       "      <td>0.0</td>\n",
       "      <td>0.0</td>\n",
       "      <td>0.0</td>\n",
       "      <td>0.0</td>\n",
       "      <td>...</td>\n",
       "      <td>0.0</td>\n",
       "      <td>0.0</td>\n",
       "      <td>0.0</td>\n",
       "      <td>0.0</td>\n",
       "      <td>0.0</td>\n",
       "      <td>0.0</td>\n",
       "      <td>0.0</td>\n",
       "      <td>0.0</td>\n",
       "      <td>0.0</td>\n",
       "      <td>0.0</td>\n",
       "    </tr>\n",
       "    <tr>\n",
       "      <th>...</th>\n",
       "      <td>...</td>\n",
       "      <td>...</td>\n",
       "      <td>...</td>\n",
       "      <td>...</td>\n",
       "      <td>...</td>\n",
       "      <td>...</td>\n",
       "      <td>...</td>\n",
       "      <td>...</td>\n",
       "      <td>...</td>\n",
       "      <td>...</td>\n",
       "      <td>...</td>\n",
       "      <td>...</td>\n",
       "      <td>...</td>\n",
       "      <td>...</td>\n",
       "      <td>...</td>\n",
       "      <td>...</td>\n",
       "      <td>...</td>\n",
       "      <td>...</td>\n",
       "      <td>...</td>\n",
       "      <td>...</td>\n",
       "      <td>...</td>\n",
       "    </tr>\n",
       "    <tr>\n",
       "      <th>581583</th>\n",
       "      <td>0.0</td>\n",
       "      <td>0.0</td>\n",
       "      <td>0.0</td>\n",
       "      <td>0.0</td>\n",
       "      <td>0.0</td>\n",
       "      <td>0.0</td>\n",
       "      <td>0.0</td>\n",
       "      <td>0.0</td>\n",
       "      <td>0.0</td>\n",
       "      <td>0.0</td>\n",
       "      <td>...</td>\n",
       "      <td>0.0</td>\n",
       "      <td>0.0</td>\n",
       "      <td>0.0</td>\n",
       "      <td>0.0</td>\n",
       "      <td>0.0</td>\n",
       "      <td>0.0</td>\n",
       "      <td>0.0</td>\n",
       "      <td>0.0</td>\n",
       "      <td>0.0</td>\n",
       "      <td>0.0</td>\n",
       "    </tr>\n",
       "    <tr>\n",
       "      <th>581584</th>\n",
       "      <td>0.0</td>\n",
       "      <td>0.0</td>\n",
       "      <td>0.0</td>\n",
       "      <td>0.0</td>\n",
       "      <td>0.0</td>\n",
       "      <td>0.0</td>\n",
       "      <td>0.0</td>\n",
       "      <td>0.0</td>\n",
       "      <td>0.0</td>\n",
       "      <td>0.0</td>\n",
       "      <td>...</td>\n",
       "      <td>0.0</td>\n",
       "      <td>0.0</td>\n",
       "      <td>0.0</td>\n",
       "      <td>0.0</td>\n",
       "      <td>0.0</td>\n",
       "      <td>0.0</td>\n",
       "      <td>0.0</td>\n",
       "      <td>0.0</td>\n",
       "      <td>0.0</td>\n",
       "      <td>0.0</td>\n",
       "    </tr>\n",
       "    <tr>\n",
       "      <th>581585</th>\n",
       "      <td>0.0</td>\n",
       "      <td>0.0</td>\n",
       "      <td>0.0</td>\n",
       "      <td>0.0</td>\n",
       "      <td>0.0</td>\n",
       "      <td>0.0</td>\n",
       "      <td>0.0</td>\n",
       "      <td>0.0</td>\n",
       "      <td>0.0</td>\n",
       "      <td>0.0</td>\n",
       "      <td>...</td>\n",
       "      <td>0.0</td>\n",
       "      <td>0.0</td>\n",
       "      <td>0.0</td>\n",
       "      <td>0.0</td>\n",
       "      <td>12.0</td>\n",
       "      <td>0.0</td>\n",
       "      <td>0.0</td>\n",
       "      <td>24.0</td>\n",
       "      <td>0.0</td>\n",
       "      <td>0.0</td>\n",
       "    </tr>\n",
       "    <tr>\n",
       "      <th>581586</th>\n",
       "      <td>0.0</td>\n",
       "      <td>0.0</td>\n",
       "      <td>0.0</td>\n",
       "      <td>0.0</td>\n",
       "      <td>0.0</td>\n",
       "      <td>0.0</td>\n",
       "      <td>0.0</td>\n",
       "      <td>0.0</td>\n",
       "      <td>0.0</td>\n",
       "      <td>0.0</td>\n",
       "      <td>...</td>\n",
       "      <td>0.0</td>\n",
       "      <td>0.0</td>\n",
       "      <td>0.0</td>\n",
       "      <td>0.0</td>\n",
       "      <td>0.0</td>\n",
       "      <td>0.0</td>\n",
       "      <td>0.0</td>\n",
       "      <td>0.0</td>\n",
       "      <td>0.0</td>\n",
       "      <td>0.0</td>\n",
       "    </tr>\n",
       "    <tr>\n",
       "      <th>581587</th>\n",
       "      <td>0.0</td>\n",
       "      <td>0.0</td>\n",
       "      <td>0.0</td>\n",
       "      <td>0.0</td>\n",
       "      <td>0.0</td>\n",
       "      <td>0.0</td>\n",
       "      <td>0.0</td>\n",
       "      <td>0.0</td>\n",
       "      <td>0.0</td>\n",
       "      <td>0.0</td>\n",
       "      <td>...</td>\n",
       "      <td>0.0</td>\n",
       "      <td>0.0</td>\n",
       "      <td>0.0</td>\n",
       "      <td>0.0</td>\n",
       "      <td>0.0</td>\n",
       "      <td>0.0</td>\n",
       "      <td>0.0</td>\n",
       "      <td>0.0</td>\n",
       "      <td>0.0</td>\n",
       "      <td>0.0</td>\n",
       "    </tr>\n",
       "  </tbody>\n",
       "</table>\n",
       "<p>19959 rows × 3787 columns</p>\n",
       "</div>"
      ],
      "text/plain": [
       "description  *Boombox Ipod Classic  *USB Office Mirror Ball  \\\n",
       "invoice_no                                                    \n",
       "536365                         0.0                      0.0   \n",
       "536366                         0.0                      0.0   \n",
       "536367                         0.0                      0.0   \n",
       "536368                         0.0                      0.0   \n",
       "536369                         0.0                      0.0   \n",
       "...                            ...                      ...   \n",
       "581583                         0.0                      0.0   \n",
       "581584                         0.0                      0.0   \n",
       "581585                         0.0                      0.0   \n",
       "581586                         0.0                      0.0   \n",
       "581587                         0.0                      0.0   \n",
       "\n",
       "description  10 COLOUR SPACEBOY PEN  12 COLOURED PARTY BALLOONS  \\\n",
       "invoice_no                                                        \n",
       "536365                          0.0                         0.0   \n",
       "536366                          0.0                         0.0   \n",
       "536367                          0.0                         0.0   \n",
       "536368                          0.0                         0.0   \n",
       "536369                          0.0                         0.0   \n",
       "...                             ...                         ...   \n",
       "581583                          0.0                         0.0   \n",
       "581584                          0.0                         0.0   \n",
       "581585                          0.0                         0.0   \n",
       "581586                          0.0                         0.0   \n",
       "581587                          0.0                         0.0   \n",
       "\n",
       "description  12 DAISY PEGS IN WOOD BOX  12 EGG HOUSE PAINTED WOOD  \\\n",
       "invoice_no                                                          \n",
       "536365                             0.0                        0.0   \n",
       "536366                             0.0                        0.0   \n",
       "536367                             0.0                        0.0   \n",
       "536368                             0.0                        0.0   \n",
       "536369                             0.0                        0.0   \n",
       "...                                ...                        ...   \n",
       "581583                             0.0                        0.0   \n",
       "581584                             0.0                        0.0   \n",
       "581585                             0.0                        0.0   \n",
       "581586                             0.0                        0.0   \n",
       "581587                             0.0                        0.0   \n",
       "\n",
       "description  12 HANGING EGGS HAND PAINTED  12 IVORY ROSE PEG PLACE SETTINGS  \\\n",
       "invoice_no                                                                    \n",
       "536365                                0.0                               0.0   \n",
       "536366                                0.0                               0.0   \n",
       "536367                                0.0                               0.0   \n",
       "536368                                0.0                               0.0   \n",
       "536369                                0.0                               0.0   \n",
       "...                                   ...                               ...   \n",
       "581583                                0.0                               0.0   \n",
       "581584                                0.0                               0.0   \n",
       "581585                                0.0                               0.0   \n",
       "581586                                0.0                               0.0   \n",
       "581587                                0.0                               0.0   \n",
       "\n",
       "description  12 MESSAGE CARDS WITH ENVELOPES  12 PENCIL SMALL TUBE WOODLAND  \\\n",
       "invoice_no                                                                    \n",
       "536365                                   0.0                            0.0   \n",
       "536366                                   0.0                            0.0   \n",
       "536367                                   0.0                            0.0   \n",
       "536368                                   0.0                            0.0   \n",
       "536369                                   0.0                            0.0   \n",
       "...                                      ...                            ...   \n",
       "581583                                   0.0                            0.0   \n",
       "581584                                   0.0                            0.0   \n",
       "581585                                   0.0                            0.0   \n",
       "581586                                   0.0                            0.0   \n",
       "581587                                   0.0                            0.0   \n",
       "\n",
       "description  ...  ZINC HERB GARDEN CONTAINER  ZINC METAL HEART DECORATION  \\\n",
       "invoice_no   ...                                                            \n",
       "536365       ...                         0.0                          0.0   \n",
       "536366       ...                         0.0                          0.0   \n",
       "536367       ...                         0.0                          0.0   \n",
       "536368       ...                         0.0                          0.0   \n",
       "536369       ...                         0.0                          0.0   \n",
       "...          ...                         ...                          ...   \n",
       "581583       ...                         0.0                          0.0   \n",
       "581584       ...                         0.0                          0.0   \n",
       "581585       ...                         0.0                          0.0   \n",
       "581586       ...                         0.0                          0.0   \n",
       "581587       ...                         0.0                          0.0   \n",
       "\n",
       "description  ZINC SWEETHEART SOAP DISH  ZINC SWEETHEART WIRE LETTER RACK  \\\n",
       "invoice_no                                                                 \n",
       "536365                             0.0                               0.0   \n",
       "536366                             0.0                               0.0   \n",
       "536367                             0.0                               0.0   \n",
       "536368                             0.0                               0.0   \n",
       "536369                             0.0                               0.0   \n",
       "...                                ...                               ...   \n",
       "581583                             0.0                               0.0   \n",
       "581584                             0.0                               0.0   \n",
       "581585                             0.0                               0.0   \n",
       "581586                             0.0                               0.0   \n",
       "581587                             0.0                               0.0   \n",
       "\n",
       "description  ZINC T-LIGHT HOLDER STAR LARGE  ZINC T-LIGHT HOLDER STARS SMALL  \\\n",
       "invoice_no                                                                     \n",
       "536365                                  0.0                              0.0   \n",
       "536366                                  0.0                              0.0   \n",
       "536367                                  0.0                              0.0   \n",
       "536368                                  0.0                              0.0   \n",
       "536369                                  0.0                              0.0   \n",
       "...                                     ...                              ...   \n",
       "581583                                  0.0                              0.0   \n",
       "581584                                  0.0                              0.0   \n",
       "581585                                 12.0                              0.0   \n",
       "581586                                  0.0                              0.0   \n",
       "581587                                  0.0                              0.0   \n",
       "\n",
       "description  ZINC TOP  2 DOOR WOODEN SHELF  ZINC WILLIE WINKIE  CANDLE STICK  \\\n",
       "invoice_no                                                                     \n",
       "536365                                 0.0                               0.0   \n",
       "536366                                 0.0                               0.0   \n",
       "536367                                 0.0                               0.0   \n",
       "536368                                 0.0                               0.0   \n",
       "536369                                 0.0                               0.0   \n",
       "...                                    ...                               ...   \n",
       "581583                                 0.0                               0.0   \n",
       "581584                                 0.0                               0.0   \n",
       "581585                                 0.0                              24.0   \n",
       "581586                                 0.0                               0.0   \n",
       "581587                                 0.0                               0.0   \n",
       "\n",
       "description  ZINC WIRE KITCHEN ORGANISER  ZINC WIRE SWEETHEART LETTER TRAY  \n",
       "invoice_no                                                                  \n",
       "536365                               0.0                               0.0  \n",
       "536366                               0.0                               0.0  \n",
       "536367                               0.0                               0.0  \n",
       "536368                               0.0                               0.0  \n",
       "536369                               0.0                               0.0  \n",
       "...                                  ...                               ...  \n",
       "581583                               0.0                               0.0  \n",
       "581584                               0.0                               0.0  \n",
       "581585                               0.0                               0.0  \n",
       "581586                               0.0                               0.0  \n",
       "581587                               0.0                               0.0  \n",
       "\n",
       "[19959 rows x 3787 columns]"
      ]
     },
     "execution_count": 219,
     "metadata": {},
     "output_type": "execute_result"
    }
   ],
   "source": [
    "# Now we need to consolidate the items (description in our case) into 1 transaction per row with each product hot encoded.\n",
    "# hot encoded is used to make our data more clear, see the next cell for clarification\n",
    "# Source: https://pbpython.com/market-basket-analysis.html\n",
    "#Grouping by invoice_no and descriptions and summed the quantity.\n",
    "basket = df_sort_reorder.groupby(['invoice_no','description'])['quantity'].sum().unstack().reset_index().fillna(0).set_index('invoice_no')\n",
    "basket ###############Below you can see that there are a lot of items descriptions against each invoice number and we are counting their sum of description (products in our case)"
   ]
  },
  {
   "cell_type": "markdown",
   "metadata": {},
   "source": [
    "Making the data more expressive is the way, hence we use hot encoding.. here's how..\n",
    "\n",
    "There are a lot of zeros in the data but we also need to make sure any positive values are converted to a 1 and anything less the 0 is set to 0. This step will complete the one hot encoding of the data and remove the postage column (since that charge/refunded/cancelled orders is not one we wish to explore):"
   ]
  },
  {
   "cell_type": "markdown",
   "metadata": {
    "id": "kBR1bWSKoWYh"
   },
   "source": [
    "#### One Hot Encoding"
   ]
  },
  {
   "cell_type": "code",
   "execution_count": 220,
   "metadata": {
    "id": "GiV9RYMWZ2Mb"
   },
   "outputs": [
    {
     "data": {
      "text/html": [
       "<div>\n",
       "<style scoped>\n",
       "    .dataframe tbody tr th:only-of-type {\n",
       "        vertical-align: middle;\n",
       "    }\n",
       "\n",
       "    .dataframe tbody tr th {\n",
       "        vertical-align: top;\n",
       "    }\n",
       "\n",
       "    .dataframe thead th {\n",
       "        text-align: right;\n",
       "    }\n",
       "</style>\n",
       "<table border=\"1\" class=\"dataframe\">\n",
       "  <thead>\n",
       "    <tr style=\"text-align: right;\">\n",
       "      <th>description</th>\n",
       "      <th>*Boombox Ipod Classic</th>\n",
       "      <th>*USB Office Mirror Ball</th>\n",
       "      <th>10 COLOUR SPACEBOY PEN</th>\n",
       "      <th>12 COLOURED PARTY BALLOONS</th>\n",
       "      <th>12 DAISY PEGS IN WOOD BOX</th>\n",
       "      <th>12 EGG HOUSE PAINTED WOOD</th>\n",
       "      <th>12 HANGING EGGS HAND PAINTED</th>\n",
       "      <th>12 IVORY ROSE PEG PLACE SETTINGS</th>\n",
       "      <th>12 MESSAGE CARDS WITH ENVELOPES</th>\n",
       "      <th>12 PENCIL SMALL TUBE WOODLAND</th>\n",
       "      <th>...</th>\n",
       "      <th>ZINC HERB GARDEN CONTAINER</th>\n",
       "      <th>ZINC METAL HEART DECORATION</th>\n",
       "      <th>ZINC SWEETHEART SOAP DISH</th>\n",
       "      <th>ZINC SWEETHEART WIRE LETTER RACK</th>\n",
       "      <th>ZINC T-LIGHT HOLDER STAR LARGE</th>\n",
       "      <th>ZINC T-LIGHT HOLDER STARS SMALL</th>\n",
       "      <th>ZINC TOP  2 DOOR WOODEN SHELF</th>\n",
       "      <th>ZINC WILLIE WINKIE  CANDLE STICK</th>\n",
       "      <th>ZINC WIRE KITCHEN ORGANISER</th>\n",
       "      <th>ZINC WIRE SWEETHEART LETTER TRAY</th>\n",
       "    </tr>\n",
       "    <tr>\n",
       "      <th>invoice_no</th>\n",
       "      <th></th>\n",
       "      <th></th>\n",
       "      <th></th>\n",
       "      <th></th>\n",
       "      <th></th>\n",
       "      <th></th>\n",
       "      <th></th>\n",
       "      <th></th>\n",
       "      <th></th>\n",
       "      <th></th>\n",
       "      <th></th>\n",
       "      <th></th>\n",
       "      <th></th>\n",
       "      <th></th>\n",
       "      <th></th>\n",
       "      <th></th>\n",
       "      <th></th>\n",
       "      <th></th>\n",
       "      <th></th>\n",
       "      <th></th>\n",
       "      <th></th>\n",
       "    </tr>\n",
       "  </thead>\n",
       "  <tbody>\n",
       "    <tr>\n",
       "      <th>536365</th>\n",
       "      <td>0</td>\n",
       "      <td>0</td>\n",
       "      <td>0</td>\n",
       "      <td>0</td>\n",
       "      <td>0</td>\n",
       "      <td>0</td>\n",
       "      <td>0</td>\n",
       "      <td>0</td>\n",
       "      <td>0</td>\n",
       "      <td>0</td>\n",
       "      <td>...</td>\n",
       "      <td>0</td>\n",
       "      <td>0</td>\n",
       "      <td>0</td>\n",
       "      <td>0</td>\n",
       "      <td>0</td>\n",
       "      <td>0</td>\n",
       "      <td>0</td>\n",
       "      <td>0</td>\n",
       "      <td>0</td>\n",
       "      <td>0</td>\n",
       "    </tr>\n",
       "    <tr>\n",
       "      <th>536366</th>\n",
       "      <td>0</td>\n",
       "      <td>0</td>\n",
       "      <td>0</td>\n",
       "      <td>0</td>\n",
       "      <td>0</td>\n",
       "      <td>0</td>\n",
       "      <td>0</td>\n",
       "      <td>0</td>\n",
       "      <td>0</td>\n",
       "      <td>0</td>\n",
       "      <td>...</td>\n",
       "      <td>0</td>\n",
       "      <td>0</td>\n",
       "      <td>0</td>\n",
       "      <td>0</td>\n",
       "      <td>0</td>\n",
       "      <td>0</td>\n",
       "      <td>0</td>\n",
       "      <td>0</td>\n",
       "      <td>0</td>\n",
       "      <td>0</td>\n",
       "    </tr>\n",
       "    <tr>\n",
       "      <th>536367</th>\n",
       "      <td>0</td>\n",
       "      <td>0</td>\n",
       "      <td>0</td>\n",
       "      <td>0</td>\n",
       "      <td>0</td>\n",
       "      <td>0</td>\n",
       "      <td>0</td>\n",
       "      <td>0</td>\n",
       "      <td>0</td>\n",
       "      <td>0</td>\n",
       "      <td>...</td>\n",
       "      <td>0</td>\n",
       "      <td>0</td>\n",
       "      <td>0</td>\n",
       "      <td>0</td>\n",
       "      <td>0</td>\n",
       "      <td>0</td>\n",
       "      <td>0</td>\n",
       "      <td>0</td>\n",
       "      <td>0</td>\n",
       "      <td>0</td>\n",
       "    </tr>\n",
       "    <tr>\n",
       "      <th>536368</th>\n",
       "      <td>0</td>\n",
       "      <td>0</td>\n",
       "      <td>0</td>\n",
       "      <td>0</td>\n",
       "      <td>0</td>\n",
       "      <td>0</td>\n",
       "      <td>0</td>\n",
       "      <td>0</td>\n",
       "      <td>0</td>\n",
       "      <td>0</td>\n",
       "      <td>...</td>\n",
       "      <td>0</td>\n",
       "      <td>0</td>\n",
       "      <td>0</td>\n",
       "      <td>0</td>\n",
       "      <td>0</td>\n",
       "      <td>0</td>\n",
       "      <td>0</td>\n",
       "      <td>0</td>\n",
       "      <td>0</td>\n",
       "      <td>0</td>\n",
       "    </tr>\n",
       "    <tr>\n",
       "      <th>536369</th>\n",
       "      <td>0</td>\n",
       "      <td>0</td>\n",
       "      <td>0</td>\n",
       "      <td>0</td>\n",
       "      <td>0</td>\n",
       "      <td>0</td>\n",
       "      <td>0</td>\n",
       "      <td>0</td>\n",
       "      <td>0</td>\n",
       "      <td>0</td>\n",
       "      <td>...</td>\n",
       "      <td>0</td>\n",
       "      <td>0</td>\n",
       "      <td>0</td>\n",
       "      <td>0</td>\n",
       "      <td>0</td>\n",
       "      <td>0</td>\n",
       "      <td>0</td>\n",
       "      <td>0</td>\n",
       "      <td>0</td>\n",
       "      <td>0</td>\n",
       "    </tr>\n",
       "    <tr>\n",
       "      <th>...</th>\n",
       "      <td>...</td>\n",
       "      <td>...</td>\n",
       "      <td>...</td>\n",
       "      <td>...</td>\n",
       "      <td>...</td>\n",
       "      <td>...</td>\n",
       "      <td>...</td>\n",
       "      <td>...</td>\n",
       "      <td>...</td>\n",
       "      <td>...</td>\n",
       "      <td>...</td>\n",
       "      <td>...</td>\n",
       "      <td>...</td>\n",
       "      <td>...</td>\n",
       "      <td>...</td>\n",
       "      <td>...</td>\n",
       "      <td>...</td>\n",
       "      <td>...</td>\n",
       "      <td>...</td>\n",
       "      <td>...</td>\n",
       "      <td>...</td>\n",
       "    </tr>\n",
       "    <tr>\n",
       "      <th>581583</th>\n",
       "      <td>0</td>\n",
       "      <td>0</td>\n",
       "      <td>0</td>\n",
       "      <td>0</td>\n",
       "      <td>0</td>\n",
       "      <td>0</td>\n",
       "      <td>0</td>\n",
       "      <td>0</td>\n",
       "      <td>0</td>\n",
       "      <td>0</td>\n",
       "      <td>...</td>\n",
       "      <td>0</td>\n",
       "      <td>0</td>\n",
       "      <td>0</td>\n",
       "      <td>0</td>\n",
       "      <td>0</td>\n",
       "      <td>0</td>\n",
       "      <td>0</td>\n",
       "      <td>0</td>\n",
       "      <td>0</td>\n",
       "      <td>0</td>\n",
       "    </tr>\n",
       "    <tr>\n",
       "      <th>581584</th>\n",
       "      <td>0</td>\n",
       "      <td>0</td>\n",
       "      <td>0</td>\n",
       "      <td>0</td>\n",
       "      <td>0</td>\n",
       "      <td>0</td>\n",
       "      <td>0</td>\n",
       "      <td>0</td>\n",
       "      <td>0</td>\n",
       "      <td>0</td>\n",
       "      <td>...</td>\n",
       "      <td>0</td>\n",
       "      <td>0</td>\n",
       "      <td>0</td>\n",
       "      <td>0</td>\n",
       "      <td>0</td>\n",
       "      <td>0</td>\n",
       "      <td>0</td>\n",
       "      <td>0</td>\n",
       "      <td>0</td>\n",
       "      <td>0</td>\n",
       "    </tr>\n",
       "    <tr>\n",
       "      <th>581585</th>\n",
       "      <td>0</td>\n",
       "      <td>0</td>\n",
       "      <td>0</td>\n",
       "      <td>0</td>\n",
       "      <td>0</td>\n",
       "      <td>0</td>\n",
       "      <td>0</td>\n",
       "      <td>0</td>\n",
       "      <td>0</td>\n",
       "      <td>0</td>\n",
       "      <td>...</td>\n",
       "      <td>0</td>\n",
       "      <td>0</td>\n",
       "      <td>0</td>\n",
       "      <td>0</td>\n",
       "      <td>1</td>\n",
       "      <td>0</td>\n",
       "      <td>0</td>\n",
       "      <td>1</td>\n",
       "      <td>0</td>\n",
       "      <td>0</td>\n",
       "    </tr>\n",
       "    <tr>\n",
       "      <th>581586</th>\n",
       "      <td>0</td>\n",
       "      <td>0</td>\n",
       "      <td>0</td>\n",
       "      <td>0</td>\n",
       "      <td>0</td>\n",
       "      <td>0</td>\n",
       "      <td>0</td>\n",
       "      <td>0</td>\n",
       "      <td>0</td>\n",
       "      <td>0</td>\n",
       "      <td>...</td>\n",
       "      <td>0</td>\n",
       "      <td>0</td>\n",
       "      <td>0</td>\n",
       "      <td>0</td>\n",
       "      <td>0</td>\n",
       "      <td>0</td>\n",
       "      <td>0</td>\n",
       "      <td>0</td>\n",
       "      <td>0</td>\n",
       "      <td>0</td>\n",
       "    </tr>\n",
       "    <tr>\n",
       "      <th>581587</th>\n",
       "      <td>0</td>\n",
       "      <td>0</td>\n",
       "      <td>0</td>\n",
       "      <td>0</td>\n",
       "      <td>0</td>\n",
       "      <td>0</td>\n",
       "      <td>0</td>\n",
       "      <td>0</td>\n",
       "      <td>0</td>\n",
       "      <td>0</td>\n",
       "      <td>...</td>\n",
       "      <td>0</td>\n",
       "      <td>0</td>\n",
       "      <td>0</td>\n",
       "      <td>0</td>\n",
       "      <td>0</td>\n",
       "      <td>0</td>\n",
       "      <td>0</td>\n",
       "      <td>0</td>\n",
       "      <td>0</td>\n",
       "      <td>0</td>\n",
       "    </tr>\n",
       "  </tbody>\n",
       "</table>\n",
       "<p>19959 rows × 3787 columns</p>\n",
       "</div>"
      ],
      "text/plain": [
       "description  *Boombox Ipod Classic  *USB Office Mirror Ball  \\\n",
       "invoice_no                                                    \n",
       "536365                           0                        0   \n",
       "536366                           0                        0   \n",
       "536367                           0                        0   \n",
       "536368                           0                        0   \n",
       "536369                           0                        0   \n",
       "...                            ...                      ...   \n",
       "581583                           0                        0   \n",
       "581584                           0                        0   \n",
       "581585                           0                        0   \n",
       "581586                           0                        0   \n",
       "581587                           0                        0   \n",
       "\n",
       "description  10 COLOUR SPACEBOY PEN  12 COLOURED PARTY BALLOONS  \\\n",
       "invoice_no                                                        \n",
       "536365                            0                           0   \n",
       "536366                            0                           0   \n",
       "536367                            0                           0   \n",
       "536368                            0                           0   \n",
       "536369                            0                           0   \n",
       "...                             ...                         ...   \n",
       "581583                            0                           0   \n",
       "581584                            0                           0   \n",
       "581585                            0                           0   \n",
       "581586                            0                           0   \n",
       "581587                            0                           0   \n",
       "\n",
       "description  12 DAISY PEGS IN WOOD BOX  12 EGG HOUSE PAINTED WOOD  \\\n",
       "invoice_no                                                          \n",
       "536365                               0                          0   \n",
       "536366                               0                          0   \n",
       "536367                               0                          0   \n",
       "536368                               0                          0   \n",
       "536369                               0                          0   \n",
       "...                                ...                        ...   \n",
       "581583                               0                          0   \n",
       "581584                               0                          0   \n",
       "581585                               0                          0   \n",
       "581586                               0                          0   \n",
       "581587                               0                          0   \n",
       "\n",
       "description  12 HANGING EGGS HAND PAINTED  12 IVORY ROSE PEG PLACE SETTINGS  \\\n",
       "invoice_no                                                                    \n",
       "536365                                  0                                 0   \n",
       "536366                                  0                                 0   \n",
       "536367                                  0                                 0   \n",
       "536368                                  0                                 0   \n",
       "536369                                  0                                 0   \n",
       "...                                   ...                               ...   \n",
       "581583                                  0                                 0   \n",
       "581584                                  0                                 0   \n",
       "581585                                  0                                 0   \n",
       "581586                                  0                                 0   \n",
       "581587                                  0                                 0   \n",
       "\n",
       "description  12 MESSAGE CARDS WITH ENVELOPES  12 PENCIL SMALL TUBE WOODLAND  \\\n",
       "invoice_no                                                                    \n",
       "536365                                     0                              0   \n",
       "536366                                     0                              0   \n",
       "536367                                     0                              0   \n",
       "536368                                     0                              0   \n",
       "536369                                     0                              0   \n",
       "...                                      ...                            ...   \n",
       "581583                                     0                              0   \n",
       "581584                                     0                              0   \n",
       "581585                                     0                              0   \n",
       "581586                                     0                              0   \n",
       "581587                                     0                              0   \n",
       "\n",
       "description  ...  ZINC HERB GARDEN CONTAINER  ZINC METAL HEART DECORATION  \\\n",
       "invoice_no   ...                                                            \n",
       "536365       ...                           0                            0   \n",
       "536366       ...                           0                            0   \n",
       "536367       ...                           0                            0   \n",
       "536368       ...                           0                            0   \n",
       "536369       ...                           0                            0   \n",
       "...          ...                         ...                          ...   \n",
       "581583       ...                           0                            0   \n",
       "581584       ...                           0                            0   \n",
       "581585       ...                           0                            0   \n",
       "581586       ...                           0                            0   \n",
       "581587       ...                           0                            0   \n",
       "\n",
       "description  ZINC SWEETHEART SOAP DISH  ZINC SWEETHEART WIRE LETTER RACK  \\\n",
       "invoice_no                                                                 \n",
       "536365                               0                                 0   \n",
       "536366                               0                                 0   \n",
       "536367                               0                                 0   \n",
       "536368                               0                                 0   \n",
       "536369                               0                                 0   \n",
       "...                                ...                               ...   \n",
       "581583                               0                                 0   \n",
       "581584                               0                                 0   \n",
       "581585                               0                                 0   \n",
       "581586                               0                                 0   \n",
       "581587                               0                                 0   \n",
       "\n",
       "description  ZINC T-LIGHT HOLDER STAR LARGE  ZINC T-LIGHT HOLDER STARS SMALL  \\\n",
       "invoice_no                                                                     \n",
       "536365                                    0                                0   \n",
       "536366                                    0                                0   \n",
       "536367                                    0                                0   \n",
       "536368                                    0                                0   \n",
       "536369                                    0                                0   \n",
       "...                                     ...                              ...   \n",
       "581583                                    0                                0   \n",
       "581584                                    0                                0   \n",
       "581585                                    1                                0   \n",
       "581586                                    0                                0   \n",
       "581587                                    0                                0   \n",
       "\n",
       "description  ZINC TOP  2 DOOR WOODEN SHELF  ZINC WILLIE WINKIE  CANDLE STICK  \\\n",
       "invoice_no                                                                     \n",
       "536365                                   0                                 0   \n",
       "536366                                   0                                 0   \n",
       "536367                                   0                                 0   \n",
       "536368                                   0                                 0   \n",
       "536369                                   0                                 0   \n",
       "...                                    ...                               ...   \n",
       "581583                                   0                                 0   \n",
       "581584                                   0                                 0   \n",
       "581585                                   0                                 1   \n",
       "581586                                   0                                 0   \n",
       "581587                                   0                                 0   \n",
       "\n",
       "description  ZINC WIRE KITCHEN ORGANISER  ZINC WIRE SWEETHEART LETTER TRAY  \n",
       "invoice_no                                                                  \n",
       "536365                                 0                                 0  \n",
       "536366                                 0                                 0  \n",
       "536367                                 0                                 0  \n",
       "536368                                 0                                 0  \n",
       "536369                                 0                                 0  \n",
       "...                                  ...                               ...  \n",
       "581583                                 0                                 0  \n",
       "581584                                 0                                 0  \n",
       "581585                                 0                                 0  \n",
       "581586                                 0                                 0  \n",
       "581587                                 0                                 0  \n",
       "\n",
       "[19959 rows x 3787 columns]"
      ]
     },
     "execution_count": 220,
     "metadata": {},
     "output_type": "execute_result"
    }
   ],
   "source": [
    "# One hot encoding converted positive values to 1 and less than zero to 0. Simplifiying the data into 0 and 1 is a must for Apriori.. \n",
    "## Source: https://pbpython.com/market-basket-analysis.html\n",
    "def encode_units(x):\n",
    "    \"\"\"\n",
    "    applying one hot encoding to our dataframe which \n",
    "    have count values for each description against each product. We are encoding these\n",
    "    values to zero or one for more expressive and useful way\n",
    "    \"\"\"\n",
    "    if x <= 0:\n",
    "        return 0\n",
    "    if x >= 1:\n",
    "        return 1\n",
    "\n",
    "basket_sets = basket.applymap(encode_units)\n",
    "basket_sets"
   ]
  },
  {
   "cell_type": "code",
   "execution_count": 221,
   "metadata": {
    "id": "H1UEyOl7Z2Mc"
   },
   "outputs": [
    {
     "data": {
      "text/html": [
       "<div>\n",
       "<style scoped>\n",
       "    .dataframe tbody tr th:only-of-type {\n",
       "        vertical-align: middle;\n",
       "    }\n",
       "\n",
       "    .dataframe tbody tr th {\n",
       "        vertical-align: top;\n",
       "    }\n",
       "\n",
       "    .dataframe thead th {\n",
       "        text-align: right;\n",
       "    }\n",
       "</style>\n",
       "<table border=\"1\" class=\"dataframe\">\n",
       "  <thead>\n",
       "    <tr style=\"text-align: right;\">\n",
       "      <th></th>\n",
       "      <th>support</th>\n",
       "      <th>itemsets</th>\n",
       "    </tr>\n",
       "  </thead>\n",
       "  <tbody>\n",
       "    <tr>\n",
       "      <th>0</th>\n",
       "      <td>0.023448</td>\n",
       "      <td>(3 STRIPEY MICE FELTCRAFT)</td>\n",
       "    </tr>\n",
       "    <tr>\n",
       "      <th>1</th>\n",
       "      <td>0.024200</td>\n",
       "      <td>(4 TRADITIONAL SPINNING TOPS)</td>\n",
       "    </tr>\n",
       "    <tr>\n",
       "      <th>2</th>\n",
       "      <td>0.047848</td>\n",
       "      <td>(6 RIBBONS RUSTIC CHARM)</td>\n",
       "    </tr>\n",
       "    <tr>\n",
       "      <th>3</th>\n",
       "      <td>0.021895</td>\n",
       "      <td>(60 CAKE CASES DOLLY GIRL DESIGN)</td>\n",
       "    </tr>\n",
       "    <tr>\n",
       "      <th>4</th>\n",
       "      <td>0.031014</td>\n",
       "      <td>(60 CAKE CASES VINTAGE CHRISTMAS)</td>\n",
       "    </tr>\n",
       "    <tr>\n",
       "      <th>...</th>\n",
       "      <td>...</td>\n",
       "      <td>...</td>\n",
       "    </tr>\n",
       "    <tr>\n",
       "      <th>386</th>\n",
       "      <td>0.020442</td>\n",
       "      <td>(WOODEN PICTURE FRAME WHITE FINISH, WHITE HANG...</td>\n",
       "    </tr>\n",
       "    <tr>\n",
       "      <th>387</th>\n",
       "      <td>0.027005</td>\n",
       "      <td>(WOODEN PICTURE FRAME WHITE FINISH, WOODEN FRA...</td>\n",
       "    </tr>\n",
       "    <tr>\n",
       "      <th>388</th>\n",
       "      <td>0.027106</td>\n",
       "      <td>(ROSES REGENCY TEACUP AND SAUCER, GREEN REGENC...</td>\n",
       "    </tr>\n",
       "    <tr>\n",
       "      <th>389</th>\n",
       "      <td>0.020442</td>\n",
       "      <td>(REGENCY CAKESTAND 3 TIER, GREEN REGENCY TEACU...</td>\n",
       "    </tr>\n",
       "    <tr>\n",
       "      <th>390</th>\n",
       "      <td>0.020692</td>\n",
       "      <td>(JUMBO BAG PINK POLKADOT, JUMBO BAG RED RETROS...</td>\n",
       "    </tr>\n",
       "  </tbody>\n",
       "</table>\n",
       "<p>391 rows × 2 columns</p>\n",
       "</div>"
      ],
      "text/plain": [
       "      support                                           itemsets\n",
       "0    0.023448                         (3 STRIPEY MICE FELTCRAFT)\n",
       "1    0.024200                      (4 TRADITIONAL SPINNING TOPS)\n",
       "2    0.047848                           (6 RIBBONS RUSTIC CHARM)\n",
       "3    0.021895                  (60 CAKE CASES DOLLY GIRL DESIGN)\n",
       "4    0.031014                  (60 CAKE CASES VINTAGE CHRISTMAS)\n",
       "..        ...                                                ...\n",
       "386  0.020442  (WOODEN PICTURE FRAME WHITE FINISH, WHITE HANG...\n",
       "387  0.027005  (WOODEN PICTURE FRAME WHITE FINISH, WOODEN FRA...\n",
       "388  0.027106  (ROSES REGENCY TEACUP AND SAUCER, GREEN REGENC...\n",
       "389  0.020442  (REGENCY CAKESTAND 3 TIER, GREEN REGENCY TEACU...\n",
       "390  0.020692  (JUMBO BAG PINK POLKADOT, JUMBO BAG RED RETROS...\n",
       "\n",
       "[391 rows x 2 columns]"
      ]
     },
     "execution_count": 221,
     "metadata": {},
     "output_type": "execute_result"
    }
   ],
   "source": [
    "# The Apriori algorithm is used for mining frequent itemsets and devising association rules \n",
    "#from a transactional database. The parameters “support” and “confidence” are used. Support refers to items' \n",
    "#frequency of occurrence; confidence is a conditional probability.\n",
    "#generate frequent item sets that have a support of at least 2%.(this number was chosen so that I could get enough useful examples for this data\n",
    "frequent_itemsets = apriori(basket_sets, min_support=0.02, use_colnames=True)\n",
    "frequent_itemsets"
   ]
  },
  {
   "cell_type": "markdown",
   "metadata": {},
   "source": [
    "As you can see above, with a minimal support level of 2%, there were 391 products found. To carify, 391 products purchases are more or equal to 2% out of the complete invoice \n",
    "(See the Support definition of this is not clear: https://stackabuse.com/association-rule-mining-via-apriori-algorithm-in-python/)"
   ]
  },
  {
   "cell_type": "code",
   "execution_count": 222,
   "metadata": {
    "id": "WatDWjHsi8qK"
   },
   "outputs": [
    {
     "data": {
      "text/html": [
       "<div>\n",
       "<style scoped>\n",
       "    .dataframe tbody tr th:only-of-type {\n",
       "        vertical-align: middle;\n",
       "    }\n",
       "\n",
       "    .dataframe tbody tr th {\n",
       "        vertical-align: top;\n",
       "    }\n",
       "\n",
       "    .dataframe thead th {\n",
       "        text-align: right;\n",
       "    }\n",
       "</style>\n",
       "<table border=\"1\" class=\"dataframe\">\n",
       "  <thead>\n",
       "    <tr style=\"text-align: right;\">\n",
       "      <th></th>\n",
       "      <th>support</th>\n",
       "      <th>itemsets</th>\n",
       "    </tr>\n",
       "  </thead>\n",
       "  <tbody>\n",
       "    <tr>\n",
       "      <th>279</th>\n",
       "      <td>0.113483</td>\n",
       "      <td>(WHITE HANGING HEART T-LIGHT HOLDER)</td>\n",
       "    </tr>\n",
       "    <tr>\n",
       "      <th>105</th>\n",
       "      <td>0.104665</td>\n",
       "      <td>(JUMBO BAG RED RETROSPOT)</td>\n",
       "    </tr>\n",
       "    <tr>\n",
       "      <th>200</th>\n",
       "      <td>0.099604</td>\n",
       "      <td>(REGENCY CAKESTAND 3 TIER)</td>\n",
       "    </tr>\n",
       "    <tr>\n",
       "      <th>159</th>\n",
       "      <td>0.084423</td>\n",
       "      <td>(PARTY BUNTING)</td>\n",
       "    </tr>\n",
       "    <tr>\n",
       "      <th>129</th>\n",
       "      <td>0.078411</td>\n",
       "      <td>(LUNCH BAG RED RETROSPOT)</td>\n",
       "    </tr>\n",
       "  </tbody>\n",
       "</table>\n",
       "</div>"
      ],
      "text/plain": [
       "      support                              itemsets\n",
       "279  0.113483  (WHITE HANGING HEART T-LIGHT HOLDER)\n",
       "105  0.104665             (JUMBO BAG RED RETROSPOT)\n",
       "200  0.099604            (REGENCY CAKESTAND 3 TIER)\n",
       "159  0.084423                       (PARTY BUNTING)\n",
       "129  0.078411             (LUNCH BAG RED RETROSPOT)"
      ]
     },
     "execution_count": 222,
     "metadata": {},
     "output_type": "execute_result"
    }
   ],
   "source": [
    "# sorting to show top header values with maximum support\n",
    "frequent_itemsets.sort_values('support',ascending=False).head()"
   ]
  },
  {
   "cell_type": "markdown",
   "metadata": {},
   "source": [
    "The above items in the list, are the top products which were included in many invoices.\n",
    " To clarify with an example:\n",
    " WHITE HANGING HEART T-LIGHT HOLDER was included in 11.3% of the invoices.."
   ]
  },
  {
   "cell_type": "code",
   "execution_count": 223,
   "metadata": {
    "id": "akl1RqsyjFG0"
   },
   "outputs": [
    {
     "data": {
      "text/html": [
       "<div>\n",
       "<style scoped>\n",
       "    .dataframe tbody tr th:only-of-type {\n",
       "        vertical-align: middle;\n",
       "    }\n",
       "\n",
       "    .dataframe tbody tr th {\n",
       "        vertical-align: top;\n",
       "    }\n",
       "\n",
       "    .dataframe thead th {\n",
       "        text-align: right;\n",
       "    }\n",
       "</style>\n",
       "<table border=\"1\" class=\"dataframe\">\n",
       "  <thead>\n",
       "    <tr style=\"text-align: right;\">\n",
       "      <th></th>\n",
       "      <th>antecedents</th>\n",
       "      <th>consequents</th>\n",
       "      <th>antecedent support</th>\n",
       "      <th>consequent support</th>\n",
       "      <th>support</th>\n",
       "      <th>confidence</th>\n",
       "      <th>lift</th>\n",
       "      <th>leverage</th>\n",
       "      <th>conviction</th>\n",
       "    </tr>\n",
       "  </thead>\n",
       "  <tbody>\n",
       "    <tr>\n",
       "      <th>0</th>\n",
       "      <td>(PACK OF 72 RETROSPOT CAKE CASES)</td>\n",
       "      <td>(60 TEATIME FAIRY CAKE CASES)</td>\n",
       "      <td>0.066136</td>\n",
       "      <td>0.041485</td>\n",
       "      <td>0.022697</td>\n",
       "      <td>0.343182</td>\n",
       "      <td>8.272423</td>\n",
       "      <td>0.019953</td>\n",
       "      <td>1.459331</td>\n",
       "    </tr>\n",
       "    <tr>\n",
       "      <th>1</th>\n",
       "      <td>(60 TEATIME FAIRY CAKE CASES)</td>\n",
       "      <td>(PACK OF 72 RETROSPOT CAKE CASES)</td>\n",
       "      <td>0.041485</td>\n",
       "      <td>0.066136</td>\n",
       "      <td>0.022697</td>\n",
       "      <td>0.547101</td>\n",
       "      <td>8.272423</td>\n",
       "      <td>0.019953</td>\n",
       "      <td>2.061973</td>\n",
       "    </tr>\n",
       "    <tr>\n",
       "      <th>2</th>\n",
       "      <td>(ALARM CLOCK BAKELIKE GREEN)</td>\n",
       "      <td>(ALARM CLOCK BAKELIKE PINK)</td>\n",
       "      <td>0.049101</td>\n",
       "      <td>0.039230</td>\n",
       "      <td>0.020943</td>\n",
       "      <td>0.426531</td>\n",
       "      <td>10.872445</td>\n",
       "      <td>0.019017</td>\n",
       "      <td>1.675363</td>\n",
       "    </tr>\n",
       "    <tr>\n",
       "      <th>3</th>\n",
       "      <td>(ALARM CLOCK BAKELIKE PINK)</td>\n",
       "      <td>(ALARM CLOCK BAKELIKE GREEN)</td>\n",
       "      <td>0.039230</td>\n",
       "      <td>0.049101</td>\n",
       "      <td>0.020943</td>\n",
       "      <td>0.533844</td>\n",
       "      <td>10.872445</td>\n",
       "      <td>0.019017</td>\n",
       "      <td>2.039874</td>\n",
       "    </tr>\n",
       "    <tr>\n",
       "      <th>4</th>\n",
       "      <td>(ALARM CLOCK BAKELIKE GREEN)</td>\n",
       "      <td>(ALARM CLOCK BAKELIKE RED)</td>\n",
       "      <td>0.049101</td>\n",
       "      <td>0.052658</td>\n",
       "      <td>0.032066</td>\n",
       "      <td>0.653061</td>\n",
       "      <td>12.401950</td>\n",
       "      <td>0.029480</td>\n",
       "      <td>2.730574</td>\n",
       "    </tr>\n",
       "    <tr>\n",
       "      <th>...</th>\n",
       "      <td>...</td>\n",
       "      <td>...</td>\n",
       "      <td>...</td>\n",
       "      <td>...</td>\n",
       "      <td>...</td>\n",
       "      <td>...</td>\n",
       "      <td>...</td>\n",
       "      <td>...</td>\n",
       "      <td>...</td>\n",
       "    </tr>\n",
       "    <tr>\n",
       "      <th>191</th>\n",
       "      <td>(JUMBO BAG PINK POLKADOT, JUMBO STORAGE BAG SUKI)</td>\n",
       "      <td>(JUMBO BAG RED RETROSPOT)</td>\n",
       "      <td>0.025803</td>\n",
       "      <td>0.104665</td>\n",
       "      <td>0.020692</td>\n",
       "      <td>0.801942</td>\n",
       "      <td>7.662018</td>\n",
       "      <td>0.017992</td>\n",
       "      <td>4.520566</td>\n",
       "    </tr>\n",
       "    <tr>\n",
       "      <th>192</th>\n",
       "      <td>(JUMBO STORAGE BAG SUKI, JUMBO BAG RED RETROSPOT)</td>\n",
       "      <td>(JUMBO BAG PINK POLKADOT)</td>\n",
       "      <td>0.036274</td>\n",
       "      <td>0.061025</td>\n",
       "      <td>0.020692</td>\n",
       "      <td>0.570442</td>\n",
       "      <td>9.347661</td>\n",
       "      <td>0.018479</td>\n",
       "      <td>2.185909</td>\n",
       "    </tr>\n",
       "    <tr>\n",
       "      <th>193</th>\n",
       "      <td>(JUMBO BAG PINK POLKADOT)</td>\n",
       "      <td>(JUMBO STORAGE BAG SUKI, JUMBO BAG RED RETROSPOT)</td>\n",
       "      <td>0.061025</td>\n",
       "      <td>0.036274</td>\n",
       "      <td>0.020692</td>\n",
       "      <td>0.339080</td>\n",
       "      <td>9.347661</td>\n",
       "      <td>0.018479</td>\n",
       "      <td>1.458159</td>\n",
       "    </tr>\n",
       "    <tr>\n",
       "      <th>194</th>\n",
       "      <td>(JUMBO BAG RED RETROSPOT)</td>\n",
       "      <td>(JUMBO BAG PINK POLKADOT, JUMBO STORAGE BAG SUKI)</td>\n",
       "      <td>0.104665</td>\n",
       "      <td>0.025803</td>\n",
       "      <td>0.020692</td>\n",
       "      <td>0.197702</td>\n",
       "      <td>7.662018</td>\n",
       "      <td>0.017992</td>\n",
       "      <td>1.214259</td>\n",
       "    </tr>\n",
       "    <tr>\n",
       "      <th>195</th>\n",
       "      <td>(JUMBO STORAGE BAG SUKI)</td>\n",
       "      <td>(JUMBO BAG PINK POLKADOT, JUMBO BAG RED RETROS...</td>\n",
       "      <td>0.059322</td>\n",
       "      <td>0.041335</td>\n",
       "      <td>0.020692</td>\n",
       "      <td>0.348818</td>\n",
       "      <td>8.438848</td>\n",
       "      <td>0.018240</td>\n",
       "      <td>1.472192</td>\n",
       "    </tr>\n",
       "  </tbody>\n",
       "</table>\n",
       "<p>196 rows × 9 columns</p>\n",
       "</div>"
      ],
      "text/plain": [
       "                                           antecedents  \\\n",
       "0                    (PACK OF 72 RETROSPOT CAKE CASES)   \n",
       "1                        (60 TEATIME FAIRY CAKE CASES)   \n",
       "2                         (ALARM CLOCK BAKELIKE GREEN)   \n",
       "3                          (ALARM CLOCK BAKELIKE PINK)   \n",
       "4                         (ALARM CLOCK BAKELIKE GREEN)   \n",
       "..                                                 ...   \n",
       "191  (JUMBO BAG PINK POLKADOT, JUMBO STORAGE BAG SUKI)   \n",
       "192  (JUMBO STORAGE BAG SUKI, JUMBO BAG RED RETROSPOT)   \n",
       "193                          (JUMBO BAG PINK POLKADOT)   \n",
       "194                          (JUMBO BAG RED RETROSPOT)   \n",
       "195                           (JUMBO STORAGE BAG SUKI)   \n",
       "\n",
       "                                           consequents  antecedent support  \\\n",
       "0                        (60 TEATIME FAIRY CAKE CASES)            0.066136   \n",
       "1                    (PACK OF 72 RETROSPOT CAKE CASES)            0.041485   \n",
       "2                          (ALARM CLOCK BAKELIKE PINK)            0.049101   \n",
       "3                         (ALARM CLOCK BAKELIKE GREEN)            0.039230   \n",
       "4                           (ALARM CLOCK BAKELIKE RED)            0.049101   \n",
       "..                                                 ...                 ...   \n",
       "191                          (JUMBO BAG RED RETROSPOT)            0.025803   \n",
       "192                          (JUMBO BAG PINK POLKADOT)            0.036274   \n",
       "193  (JUMBO STORAGE BAG SUKI, JUMBO BAG RED RETROSPOT)            0.061025   \n",
       "194  (JUMBO BAG PINK POLKADOT, JUMBO STORAGE BAG SUKI)            0.104665   \n",
       "195  (JUMBO BAG PINK POLKADOT, JUMBO BAG RED RETROS...            0.059322   \n",
       "\n",
       "     consequent support   support  confidence       lift  leverage  conviction  \n",
       "0              0.041485  0.022697    0.343182   8.272423  0.019953    1.459331  \n",
       "1              0.066136  0.022697    0.547101   8.272423  0.019953    2.061973  \n",
       "2              0.039230  0.020943    0.426531  10.872445  0.019017    1.675363  \n",
       "3              0.049101  0.020943    0.533844  10.872445  0.019017    2.039874  \n",
       "4              0.052658  0.032066    0.653061  12.401950  0.029480    2.730574  \n",
       "..                  ...       ...         ...        ...       ...         ...  \n",
       "191            0.104665  0.020692    0.801942   7.662018  0.017992    4.520566  \n",
       "192            0.061025  0.020692    0.570442   9.347661  0.018479    2.185909  \n",
       "193            0.036274  0.020692    0.339080   9.347661  0.018479    1.458159  \n",
       "194            0.025803  0.020692    0.197702   7.662018  0.017992    1.214259  \n",
       "195            0.041335  0.020692    0.348818   8.438848  0.018240    1.472192  \n",
       "\n",
       "[196 rows x 9 columns]"
      ]
     },
     "execution_count": 223,
     "metadata": {},
     "output_type": "execute_result"
    }
   ],
   "source": [
    "# The final step is to generate the rules with their corresponding support, confidence and lift:\n",
    "rules = association_rules(frequent_itemsets, metric=\"lift\", min_threshold=1)\n",
    "rules"
   ]
  },
  {
   "cell_type": "markdown",
   "metadata": {},
   "source": [
    "So, in a given transaction with multiple items, Association Rule Mining primarily tries to find the rules of paterns of a set of products/items are often bought together. For example, peanut butter and jelly are frequently purchased \n",
    "together because a lot of people like to make PB&J sandwiches.\n",
    "Lift can be used to compare confidence with expected confidence. This says how likely item Y is purchased when item X is purchased, while controlling for how popular item Y is. I will not focus on the lift or confidence in this research."
   ]
  },
  {
   "cell_type": "markdown",
   "metadata": {},
   "source": [
    "Here's what this table means:\n",
    "Antecedents is the main product, and consequents is the assortment product, the rest of the columns (support, confidence, lift,\tleverage, conviction) are describing the main and assortment product (as one package-items_set). Having said that, let's rename the table."
   ]
  },
  {
   "cell_type": "code",
   "execution_count": 224,
   "metadata": {},
   "outputs": [
    {
     "data": {
      "text/html": [
       "<div>\n",
       "<style scoped>\n",
       "    .dataframe tbody tr th:only-of-type {\n",
       "        vertical-align: middle;\n",
       "    }\n",
       "\n",
       "    .dataframe tbody tr th {\n",
       "        vertical-align: top;\n",
       "    }\n",
       "\n",
       "    .dataframe thead th {\n",
       "        text-align: right;\n",
       "    }\n",
       "</style>\n",
       "<table border=\"1\" class=\"dataframe\">\n",
       "  <thead>\n",
       "    <tr style=\"text-align: right;\">\n",
       "      <th></th>\n",
       "      <th>main</th>\n",
       "      <th>assortment</th>\n",
       "      <th>main_support</th>\n",
       "      <th>assortment_support</th>\n",
       "      <th>items_set_support</th>\n",
       "      <th>items_set_confidence</th>\n",
       "      <th>items_set_lift</th>\n",
       "      <th>items_set_leverage</th>\n",
       "      <th>items_set_conviction</th>\n",
       "    </tr>\n",
       "  </thead>\n",
       "  <tbody>\n",
       "    <tr>\n",
       "      <th>0</th>\n",
       "      <td>(PACK OF 72 RETROSPOT CAKE CASES)</td>\n",
       "      <td>(60 TEATIME FAIRY CAKE CASES)</td>\n",
       "      <td>0.066136</td>\n",
       "      <td>0.041485</td>\n",
       "      <td>0.022697</td>\n",
       "      <td>0.343182</td>\n",
       "      <td>8.272423</td>\n",
       "      <td>0.019953</td>\n",
       "      <td>1.459331</td>\n",
       "    </tr>\n",
       "    <tr>\n",
       "      <th>1</th>\n",
       "      <td>(60 TEATIME FAIRY CAKE CASES)</td>\n",
       "      <td>(PACK OF 72 RETROSPOT CAKE CASES)</td>\n",
       "      <td>0.041485</td>\n",
       "      <td>0.066136</td>\n",
       "      <td>0.022697</td>\n",
       "      <td>0.547101</td>\n",
       "      <td>8.272423</td>\n",
       "      <td>0.019953</td>\n",
       "      <td>2.061973</td>\n",
       "    </tr>\n",
       "    <tr>\n",
       "      <th>2</th>\n",
       "      <td>(ALARM CLOCK BAKELIKE GREEN)</td>\n",
       "      <td>(ALARM CLOCK BAKELIKE PINK)</td>\n",
       "      <td>0.049101</td>\n",
       "      <td>0.039230</td>\n",
       "      <td>0.020943</td>\n",
       "      <td>0.426531</td>\n",
       "      <td>10.872445</td>\n",
       "      <td>0.019017</td>\n",
       "      <td>1.675363</td>\n",
       "    </tr>\n",
       "    <tr>\n",
       "      <th>3</th>\n",
       "      <td>(ALARM CLOCK BAKELIKE PINK)</td>\n",
       "      <td>(ALARM CLOCK BAKELIKE GREEN)</td>\n",
       "      <td>0.039230</td>\n",
       "      <td>0.049101</td>\n",
       "      <td>0.020943</td>\n",
       "      <td>0.533844</td>\n",
       "      <td>10.872445</td>\n",
       "      <td>0.019017</td>\n",
       "      <td>2.039874</td>\n",
       "    </tr>\n",
       "    <tr>\n",
       "      <th>4</th>\n",
       "      <td>(ALARM CLOCK BAKELIKE GREEN)</td>\n",
       "      <td>(ALARM CLOCK BAKELIKE RED)</td>\n",
       "      <td>0.049101</td>\n",
       "      <td>0.052658</td>\n",
       "      <td>0.032066</td>\n",
       "      <td>0.653061</td>\n",
       "      <td>12.401950</td>\n",
       "      <td>0.029480</td>\n",
       "      <td>2.730574</td>\n",
       "    </tr>\n",
       "  </tbody>\n",
       "</table>\n",
       "</div>"
      ],
      "text/plain": [
       "                                main                         assortment  \\\n",
       "0  (PACK OF 72 RETROSPOT CAKE CASES)      (60 TEATIME FAIRY CAKE CASES)   \n",
       "1      (60 TEATIME FAIRY CAKE CASES)  (PACK OF 72 RETROSPOT CAKE CASES)   \n",
       "2       (ALARM CLOCK BAKELIKE GREEN)        (ALARM CLOCK BAKELIKE PINK)   \n",
       "3        (ALARM CLOCK BAKELIKE PINK)       (ALARM CLOCK BAKELIKE GREEN)   \n",
       "4       (ALARM CLOCK BAKELIKE GREEN)         (ALARM CLOCK BAKELIKE RED)   \n",
       "\n",
       "   main_support  assortment_support  items_set_support  items_set_confidence  \\\n",
       "0      0.066136            0.041485           0.022697              0.343182   \n",
       "1      0.041485            0.066136           0.022697              0.547101   \n",
       "2      0.049101            0.039230           0.020943              0.426531   \n",
       "3      0.039230            0.049101           0.020943              0.533844   \n",
       "4      0.049101            0.052658           0.032066              0.653061   \n",
       "\n",
       "   items_set_lift  items_set_leverage  items_set_conviction  \n",
       "0        8.272423            0.019953              1.459331  \n",
       "1        8.272423            0.019953              2.061973  \n",
       "2       10.872445            0.019017              1.675363  \n",
       "3       10.872445            0.019017              2.039874  \n",
       "4       12.401950            0.029480              2.730574  "
      ]
     },
     "execution_count": 224,
     "metadata": {},
     "output_type": "execute_result"
    }
   ],
   "source": [
    "#Renaming the columns (Antecedents is the main product, and consequents is the assortment product)\n",
    "rules=rules.rename(columns={'antecedents': 'main', 'consequents': 'assortment','antecedent support':'main_support'\n",
    "                            ,'consequent support':'assortment_support','support':'items_set_support',\n",
    "                         'confidence':'items_set_confidence','lift':'items_set_lift','leverage':'items_set_leverage',\n",
    "                         'conviction':'items_set_conviction'})\n",
    "rules.head()"
   ]
  },
  {
   "cell_type": "code",
   "execution_count": 225,
   "metadata": {},
   "outputs": [
    {
     "data": {
      "text/html": [
       "<div>\n",
       "<style scoped>\n",
       "    .dataframe tbody tr th:only-of-type {\n",
       "        vertical-align: middle;\n",
       "    }\n",
       "\n",
       "    .dataframe tbody tr th {\n",
       "        vertical-align: top;\n",
       "    }\n",
       "\n",
       "    .dataframe thead th {\n",
       "        text-align: right;\n",
       "    }\n",
       "</style>\n",
       "<table border=\"1\" class=\"dataframe\">\n",
       "  <thead>\n",
       "    <tr style=\"text-align: right;\">\n",
       "      <th></th>\n",
       "      <th>main</th>\n",
       "      <th>assortment</th>\n",
       "      <th>main_support</th>\n",
       "      <th>assortment_support</th>\n",
       "      <th>items_set_support</th>\n",
       "      <th>items_set_confidence</th>\n",
       "      <th>items_set_lift</th>\n",
       "      <th>items_set_leverage</th>\n",
       "      <th>items_set_conviction</th>\n",
       "      <th>main_assortment_merged</th>\n",
       "    </tr>\n",
       "  </thead>\n",
       "  <tbody>\n",
       "    <tr>\n",
       "      <th>0</th>\n",
       "      <td>PACK OF 72 RETROSPOT CAKE CASES</td>\n",
       "      <td>60 TEATIME FAIRY CAKE CASES</td>\n",
       "      <td>0.066136</td>\n",
       "      <td>0.041485</td>\n",
       "      <td>0.022697</td>\n",
       "      <td>0.343182</td>\n",
       "      <td>8.272423</td>\n",
       "      <td>0.019953</td>\n",
       "      <td>1.459331</td>\n",
       "      <td>PACK OF 72 RETROSPOT CAKE CASES ** VS ** 60 TE...</td>\n",
       "    </tr>\n",
       "    <tr>\n",
       "      <th>1</th>\n",
       "      <td>60 TEATIME FAIRY CAKE CASES</td>\n",
       "      <td>PACK OF 72 RETROSPOT CAKE CASES</td>\n",
       "      <td>0.041485</td>\n",
       "      <td>0.066136</td>\n",
       "      <td>0.022697</td>\n",
       "      <td>0.547101</td>\n",
       "      <td>8.272423</td>\n",
       "      <td>0.019953</td>\n",
       "      <td>2.061973</td>\n",
       "      <td>60 TEATIME FAIRY CAKE CASES ** VS ** PACK OF 7...</td>\n",
       "    </tr>\n",
       "    <tr>\n",
       "      <th>2</th>\n",
       "      <td>ALARM CLOCK BAKELIKE GREEN</td>\n",
       "      <td>ALARM CLOCK BAKELIKE PINK</td>\n",
       "      <td>0.049101</td>\n",
       "      <td>0.039230</td>\n",
       "      <td>0.020943</td>\n",
       "      <td>0.426531</td>\n",
       "      <td>10.872445</td>\n",
       "      <td>0.019017</td>\n",
       "      <td>1.675363</td>\n",
       "      <td>ALARM CLOCK BAKELIKE GREEN ** VS ** ALARM CLOC...</td>\n",
       "    </tr>\n",
       "    <tr>\n",
       "      <th>3</th>\n",
       "      <td>ALARM CLOCK BAKELIKE PINK</td>\n",
       "      <td>ALARM CLOCK BAKELIKE GREEN</td>\n",
       "      <td>0.039230</td>\n",
       "      <td>0.049101</td>\n",
       "      <td>0.020943</td>\n",
       "      <td>0.533844</td>\n",
       "      <td>10.872445</td>\n",
       "      <td>0.019017</td>\n",
       "      <td>2.039874</td>\n",
       "      <td>ALARM CLOCK BAKELIKE PINK ** VS ** ALARM CLOCK...</td>\n",
       "    </tr>\n",
       "    <tr>\n",
       "      <th>4</th>\n",
       "      <td>ALARM CLOCK BAKELIKE GREEN</td>\n",
       "      <td>ALARM CLOCK BAKELIKE RED</td>\n",
       "      <td>0.049101</td>\n",
       "      <td>0.052658</td>\n",
       "      <td>0.032066</td>\n",
       "      <td>0.653061</td>\n",
       "      <td>12.401950</td>\n",
       "      <td>0.029480</td>\n",
       "      <td>2.730574</td>\n",
       "      <td>ALARM CLOCK BAKELIKE GREEN ** VS ** ALARM CLOC...</td>\n",
       "    </tr>\n",
       "  </tbody>\n",
       "</table>\n",
       "</div>"
      ],
      "text/plain": [
       "                              main                       assortment  \\\n",
       "0  PACK OF 72 RETROSPOT CAKE CASES      60 TEATIME FAIRY CAKE CASES   \n",
       "1      60 TEATIME FAIRY CAKE CASES  PACK OF 72 RETROSPOT CAKE CASES   \n",
       "2       ALARM CLOCK BAKELIKE GREEN        ALARM CLOCK BAKELIKE PINK   \n",
       "3        ALARM CLOCK BAKELIKE PINK       ALARM CLOCK BAKELIKE GREEN   \n",
       "4       ALARM CLOCK BAKELIKE GREEN         ALARM CLOCK BAKELIKE RED   \n",
       "\n",
       "   main_support  assortment_support  items_set_support  items_set_confidence  \\\n",
       "0      0.066136            0.041485           0.022697              0.343182   \n",
       "1      0.041485            0.066136           0.022697              0.547101   \n",
       "2      0.049101            0.039230           0.020943              0.426531   \n",
       "3      0.039230            0.049101           0.020943              0.533844   \n",
       "4      0.049101            0.052658           0.032066              0.653061   \n",
       "\n",
       "   items_set_lift  items_set_leverage  items_set_conviction  \\\n",
       "0        8.272423            0.019953              1.459331   \n",
       "1        8.272423            0.019953              2.061973   \n",
       "2       10.872445            0.019017              1.675363   \n",
       "3       10.872445            0.019017              2.039874   \n",
       "4       12.401950            0.029480              2.730574   \n",
       "\n",
       "                              main_assortment_merged  \n",
       "0  PACK OF 72 RETROSPOT CAKE CASES ** VS ** 60 TE...  \n",
       "1  60 TEATIME FAIRY CAKE CASES ** VS ** PACK OF 7...  \n",
       "2  ALARM CLOCK BAKELIKE GREEN ** VS ** ALARM CLOC...  \n",
       "3  ALARM CLOCK BAKELIKE PINK ** VS ** ALARM CLOCK...  \n",
       "4  ALARM CLOCK BAKELIKE GREEN ** VS ** ALARM CLOC...  "
      ]
     },
     "execution_count": 225,
     "metadata": {},
     "output_type": "execute_result"
    }
   ],
   "source": [
    "# Concatting the main and assortment\n",
    "# https://stackoverflow.com/questions/52291739/extract-string-from-rules-frozensets\n",
    "rules[\"main\"] = rules[\"main\"].apply(lambda x: list(x)[0]).astype(\"unicode\") # Fixing the output which was wrapped by frozensetm but now we are selecting the actual values without the frozensets\n",
    "rules[\"assortment\"] = rules[\"assortment\"].apply(lambda x: list(x)[0]).astype(\"unicode\")\n",
    "rules['main_assortment_merged'] = rules[\"main\"] + ' ** VS ** ' + rules[\"assortment\"]\n",
    "rules.head()"
   ]
  },
  {
   "cell_type": "code",
   "execution_count": 226,
   "metadata": {},
   "outputs": [
    {
     "name": "stdout",
     "output_type": "stream",
     "text": [
      "(196, 10)\n"
     ]
    },
    {
     "data": {
      "text/html": [
       "<div>\n",
       "<style scoped>\n",
       "    .dataframe tbody tr th:only-of-type {\n",
       "        vertical-align: middle;\n",
       "    }\n",
       "\n",
       "    .dataframe tbody tr th {\n",
       "        vertical-align: top;\n",
       "    }\n",
       "\n",
       "    .dataframe thead th {\n",
       "        text-align: right;\n",
       "    }\n",
       "</style>\n",
       "<table border=\"1\" class=\"dataframe\">\n",
       "  <thead>\n",
       "    <tr style=\"text-align: right;\">\n",
       "      <th></th>\n",
       "      <th>main</th>\n",
       "      <th>assortment</th>\n",
       "      <th>main_support</th>\n",
       "      <th>assortment_support</th>\n",
       "      <th>items_set_support</th>\n",
       "      <th>items_set_confidence</th>\n",
       "      <th>items_set_lift</th>\n",
       "      <th>items_set_leverage</th>\n",
       "      <th>items_set_conviction</th>\n",
       "      <th>main_assortment_merged</th>\n",
       "    </tr>\n",
       "  </thead>\n",
       "  <tbody>\n",
       "    <tr>\n",
       "      <th>91</th>\n",
       "      <td>WHITE HANGING HEART T-LIGHT HOLDER</td>\n",
       "      <td>JUMBO BAG RED RETROSPOT</td>\n",
       "      <td>0.113483</td>\n",
       "      <td>0.104665</td>\n",
       "      <td>0.022446</td>\n",
       "      <td>0.197792</td>\n",
       "      <td>1.889775</td>\n",
       "      <td>0.010568</td>\n",
       "      <td>1.116090</td>\n",
       "      <td>WHITE HANGING HEART T-LIGHT HOLDER ** VS ** JU...</td>\n",
       "    </tr>\n",
       "    <tr>\n",
       "      <th>153</th>\n",
       "      <td>WHITE HANGING HEART T-LIGHT HOLDER</td>\n",
       "      <td>NATURAL SLATE HEART CHALKBOARD</td>\n",
       "      <td>0.113483</td>\n",
       "      <td>0.062578</td>\n",
       "      <td>0.020893</td>\n",
       "      <td>0.184106</td>\n",
       "      <td>2.942010</td>\n",
       "      <td>0.013791</td>\n",
       "      <td>1.148950</td>\n",
       "      <td>WHITE HANGING HEART T-LIGHT HOLDER ** VS ** NA...</td>\n",
       "    </tr>\n",
       "    <tr>\n",
       "      <th>175</th>\n",
       "      <td>WHITE HANGING HEART T-LIGHT HOLDER</td>\n",
       "      <td>WOODEN PICTURE FRAME WHITE FINISH</td>\n",
       "      <td>0.113483</td>\n",
       "      <td>0.055113</td>\n",
       "      <td>0.020442</td>\n",
       "      <td>0.180132</td>\n",
       "      <td>3.268421</td>\n",
       "      <td>0.014188</td>\n",
       "      <td>1.152487</td>\n",
       "      <td>WHITE HANGING HEART T-LIGHT HOLDER ** VS ** WO...</td>\n",
       "    </tr>\n",
       "    <tr>\n",
       "      <th>163</th>\n",
       "      <td>WHITE HANGING HEART T-LIGHT HOLDER</td>\n",
       "      <td>RED HANGING HEART T-LIGHT HOLDER</td>\n",
       "      <td>0.113483</td>\n",
       "      <td>0.037126</td>\n",
       "      <td>0.024901</td>\n",
       "      <td>0.219426</td>\n",
       "      <td>5.910289</td>\n",
       "      <td>0.020688</td>\n",
       "      <td>1.233546</td>\n",
       "      <td>WHITE HANGING HEART T-LIGHT HOLDER ** VS ** RE...</td>\n",
       "    </tr>\n",
       "    <tr>\n",
       "      <th>90</th>\n",
       "      <td>JUMBO BAG RED RETROSPOT</td>\n",
       "      <td>WHITE HANGING HEART T-LIGHT HOLDER</td>\n",
       "      <td>0.104665</td>\n",
       "      <td>0.113483</td>\n",
       "      <td>0.022446</td>\n",
       "      <td>0.214457</td>\n",
       "      <td>1.889775</td>\n",
       "      <td>0.010568</td>\n",
       "      <td>1.128540</td>\n",
       "      <td>JUMBO BAG RED RETROSPOT ** VS ** WHITE HANGING...</td>\n",
       "    </tr>\n",
       "    <tr>\n",
       "      <th>80</th>\n",
       "      <td>JUMBO BAG RED RETROSPOT</td>\n",
       "      <td>LUNCH BAG RED RETROSPOT</td>\n",
       "      <td>0.104665</td>\n",
       "      <td>0.078411</td>\n",
       "      <td>0.029009</td>\n",
       "      <td>0.277166</td>\n",
       "      <td>3.534798</td>\n",
       "      <td>0.020803</td>\n",
       "      <td>1.274967</td>\n",
       "      <td>JUMBO BAG RED RETROSPOT ** VS ** LUNCH BAG RED...</td>\n",
       "    </tr>\n",
       "    <tr>\n",
       "      <th>85</th>\n",
       "      <td>JUMBO BAG RED RETROSPOT</td>\n",
       "      <td>POPCORN HOLDER</td>\n",
       "      <td>0.104665</td>\n",
       "      <td>0.069743</td>\n",
       "      <td>0.020041</td>\n",
       "      <td>0.191479</td>\n",
       "      <td>2.745498</td>\n",
       "      <td>0.012741</td>\n",
       "      <td>1.150567</td>\n",
       "      <td>JUMBO BAG RED RETROSPOT ** VS ** POPCORN HOLDER</td>\n",
       "    </tr>\n",
       "    <tr>\n",
       "      <th>83</th>\n",
       "      <td>JUMBO BAG RED RETROSPOT</td>\n",
       "      <td>LUNCH BAG SUKI DESIGN</td>\n",
       "      <td>0.104665</td>\n",
       "      <td>0.064332</td>\n",
       "      <td>0.020292</td>\n",
       "      <td>0.193873</td>\n",
       "      <td>3.013633</td>\n",
       "      <td>0.013558</td>\n",
       "      <td>1.160695</td>\n",
       "      <td>JUMBO BAG RED RETROSPOT ** VS ** LUNCH BAG SUK...</td>\n",
       "    </tr>\n",
       "    <tr>\n",
       "      <th>68</th>\n",
       "      <td>JUMBO BAG RED RETROSPOT</td>\n",
       "      <td>JUMBO BAG VINTAGE DOILY</td>\n",
       "      <td>0.104665</td>\n",
       "      <td>0.061676</td>\n",
       "      <td>0.028909</td>\n",
       "      <td>0.276209</td>\n",
       "      <td>4.478351</td>\n",
       "      <td>0.022454</td>\n",
       "      <td>1.296401</td>\n",
       "      <td>JUMBO BAG RED RETROSPOT ** VS ** JUMBO BAG VIN...</td>\n",
       "    </tr>\n",
       "    <tr>\n",
       "      <th>51</th>\n",
       "      <td>JUMBO BAG RED RETROSPOT</td>\n",
       "      <td>JUMBO BAG PINK POLKADOT</td>\n",
       "      <td>0.104665</td>\n",
       "      <td>0.061025</td>\n",
       "      <td>0.041335</td>\n",
       "      <td>0.394926</td>\n",
       "      <td>6.471530</td>\n",
       "      <td>0.034948</td>\n",
       "      <td>1.551834</td>\n",
       "      <td>JUMBO BAG RED RETROSPOT ** VS ** JUMBO BAG PIN...</td>\n",
       "    </tr>\n",
       "  </tbody>\n",
       "</table>\n",
       "</div>"
      ],
      "text/plain": [
       "                                   main                          assortment  \\\n",
       "91   WHITE HANGING HEART T-LIGHT HOLDER             JUMBO BAG RED RETROSPOT   \n",
       "153  WHITE HANGING HEART T-LIGHT HOLDER      NATURAL SLATE HEART CHALKBOARD   \n",
       "175  WHITE HANGING HEART T-LIGHT HOLDER   WOODEN PICTURE FRAME WHITE FINISH   \n",
       "163  WHITE HANGING HEART T-LIGHT HOLDER    RED HANGING HEART T-LIGHT HOLDER   \n",
       "90              JUMBO BAG RED RETROSPOT  WHITE HANGING HEART T-LIGHT HOLDER   \n",
       "80              JUMBO BAG RED RETROSPOT             LUNCH BAG RED RETROSPOT   \n",
       "85              JUMBO BAG RED RETROSPOT                      POPCORN HOLDER   \n",
       "83              JUMBO BAG RED RETROSPOT               LUNCH BAG SUKI DESIGN   \n",
       "68              JUMBO BAG RED RETROSPOT             JUMBO BAG VINTAGE DOILY   \n",
       "51              JUMBO BAG RED RETROSPOT             JUMBO BAG PINK POLKADOT   \n",
       "\n",
       "     main_support  assortment_support  items_set_support  \\\n",
       "91       0.113483            0.104665           0.022446   \n",
       "153      0.113483            0.062578           0.020893   \n",
       "175      0.113483            0.055113           0.020442   \n",
       "163      0.113483            0.037126           0.024901   \n",
       "90       0.104665            0.113483           0.022446   \n",
       "80       0.104665            0.078411           0.029009   \n",
       "85       0.104665            0.069743           0.020041   \n",
       "83       0.104665            0.064332           0.020292   \n",
       "68       0.104665            0.061676           0.028909   \n",
       "51       0.104665            0.061025           0.041335   \n",
       "\n",
       "     items_set_confidence  items_set_lift  items_set_leverage  \\\n",
       "91               0.197792        1.889775            0.010568   \n",
       "153              0.184106        2.942010            0.013791   \n",
       "175              0.180132        3.268421            0.014188   \n",
       "163              0.219426        5.910289            0.020688   \n",
       "90               0.214457        1.889775            0.010568   \n",
       "80               0.277166        3.534798            0.020803   \n",
       "85               0.191479        2.745498            0.012741   \n",
       "83               0.193873        3.013633            0.013558   \n",
       "68               0.276209        4.478351            0.022454   \n",
       "51               0.394926        6.471530            0.034948   \n",
       "\n",
       "     items_set_conviction                             main_assortment_merged  \n",
       "91               1.116090  WHITE HANGING HEART T-LIGHT HOLDER ** VS ** JU...  \n",
       "153              1.148950  WHITE HANGING HEART T-LIGHT HOLDER ** VS ** NA...  \n",
       "175              1.152487  WHITE HANGING HEART T-LIGHT HOLDER ** VS ** WO...  \n",
       "163              1.233546  WHITE HANGING HEART T-LIGHT HOLDER ** VS ** RE...  \n",
       "90               1.128540  JUMBO BAG RED RETROSPOT ** VS ** WHITE HANGING...  \n",
       "80               1.274967  JUMBO BAG RED RETROSPOT ** VS ** LUNCH BAG RED...  \n",
       "85               1.150567    JUMBO BAG RED RETROSPOT ** VS ** POPCORN HOLDER  \n",
       "83               1.160695  JUMBO BAG RED RETROSPOT ** VS ** LUNCH BAG SUK...  \n",
       "68               1.296401  JUMBO BAG RED RETROSPOT ** VS ** JUMBO BAG VIN...  \n",
       "51               1.551834  JUMBO BAG RED RETROSPOT ** VS ** JUMBO BAG PIN...  "
      ]
     },
     "execution_count": 226,
     "metadata": {},
     "output_type": "execute_result"
    }
   ],
   "source": [
    "# Sorting according to the 'main_support', 'assortment_support' and saving the table \n",
    "rules = rules.sort_values(by = ['main_support', 'assortment_support'], ascending= False)\n",
    "print(rules.shape)\n",
    "rules.head(10)"
   ]
  },
  {
   "cell_type": "code",
   "execution_count": 227,
   "metadata": {
    "scrolled": true
   },
   "outputs": [
    {
     "data": {
      "image/png": "[encoded data removed]",
      "text/plain": [
       "<Figure size 1152x576 with 1 Axes>"
      ]
     },
     "metadata": {
      "needs_background": "light"
     },
     "output_type": "display_data"
    }
   ],
   "source": [
    "# Compating the main_support with the assortment_support sorted by the main_support rate.\n",
    "\n",
    "main_assortment_name = rules['main_assortment_merged'].head(10).tolist()\n",
    "\n",
    "main_support =rules['main_support'].head(10).tolist()\n",
    "assortment_support =rules['assortment_support'].head(10).tolist()\n",
    "\n",
    "df = pd.DataFrame({'main_support': main_support,\n",
    "                   'assortment_support': assortment_support}, index=main_assortment_name)\n",
    "ax = df.plot.bar(rot=0,title=\"Top main products in comparison with the assortment support rate\",figsize=(16,8))\n",
    "plt.xticks(rotation=88)\n",
    "plt.ylabel('support rate (default popularity of an item)');"
   ]
  },
  {
   "cell_type": "markdown",
   "metadata": {},
   "source": [
    "**The above list includes product categorization (Main and assortment) using the Association Rule Mining via Apriori Algorithm, it generated a list of 196 products sets**\n",
    "\n",
    "In the above list, I've just showed the top 10 sets of products sets that were purchased together. In it we can see that populat products (top purchased products) were included in many sets. For example, 'WHITE HANGING HEART T-LIGHT HOLDER' went on with many other products.. Same story with the 'JUMBO BAG RED RETROSPOT'. The list mostly includes home decoration products, so many people/businesses bought many of these items, which shows that most of the home decoration stuff gets bought in the same deals."
   ]
  },
  {
   "cell_type": "code",
   "execution_count": 228,
   "metadata": {},
   "outputs": [
    {
     "name": "stdout",
     "output_type": "stream",
     "text": [
      "(196, 10)\n"
     ]
    },
    {
     "data": {
      "text/html": [
       "<div>\n",
       "<style scoped>\n",
       "    .dataframe tbody tr th:only-of-type {\n",
       "        vertical-align: middle;\n",
       "    }\n",
       "\n",
       "    .dataframe tbody tr th {\n",
       "        vertical-align: top;\n",
       "    }\n",
       "\n",
       "    .dataframe thead th {\n",
       "        text-align: right;\n",
       "    }\n",
       "</style>\n",
       "<table border=\"1\" class=\"dataframe\">\n",
       "  <thead>\n",
       "    <tr style=\"text-align: right;\">\n",
       "      <th></th>\n",
       "      <th>main</th>\n",
       "      <th>assortment</th>\n",
       "      <th>main_support</th>\n",
       "      <th>assortment_support</th>\n",
       "    </tr>\n",
       "  </thead>\n",
       "  <tbody>\n",
       "    <tr>\n",
       "      <th>91</th>\n",
       "      <td>WHITE HANGING HEART T-LIGHT HOLDER</td>\n",
       "      <td>JUMBO BAG RED RETROSPOT</td>\n",
       "      <td>11.35%</td>\n",
       "      <td>10.47%</td>\n",
       "    </tr>\n",
       "    <tr>\n",
       "      <th>153</th>\n",
       "      <td>WHITE HANGING HEART T-LIGHT HOLDER</td>\n",
       "      <td>NATURAL SLATE HEART CHALKBOARD</td>\n",
       "      <td>11.35%</td>\n",
       "      <td>6.26%</td>\n",
       "    </tr>\n",
       "    <tr>\n",
       "      <th>175</th>\n",
       "      <td>WHITE HANGING HEART T-LIGHT HOLDER</td>\n",
       "      <td>WOODEN PICTURE FRAME WHITE FINISH</td>\n",
       "      <td>11.35%</td>\n",
       "      <td>5.51%</td>\n",
       "    </tr>\n",
       "    <tr>\n",
       "      <th>163</th>\n",
       "      <td>WHITE HANGING HEART T-LIGHT HOLDER</td>\n",
       "      <td>RED HANGING HEART T-LIGHT HOLDER</td>\n",
       "      <td>11.35%</td>\n",
       "      <td>3.71%</td>\n",
       "    </tr>\n",
       "    <tr>\n",
       "      <th>90</th>\n",
       "      <td>JUMBO BAG RED RETROSPOT</td>\n",
       "      <td>WHITE HANGING HEART T-LIGHT HOLDER</td>\n",
       "      <td>10.47%</td>\n",
       "      <td>11.35%</td>\n",
       "    </tr>\n",
       "    <tr>\n",
       "      <th>80</th>\n",
       "      <td>JUMBO BAG RED RETROSPOT</td>\n",
       "      <td>LUNCH BAG RED RETROSPOT</td>\n",
       "      <td>10.47%</td>\n",
       "      <td>7.84%</td>\n",
       "    </tr>\n",
       "    <tr>\n",
       "      <th>85</th>\n",
       "      <td>JUMBO BAG RED RETROSPOT</td>\n",
       "      <td>POPCORN HOLDER</td>\n",
       "      <td>10.47%</td>\n",
       "      <td>6.97%</td>\n",
       "    </tr>\n",
       "    <tr>\n",
       "      <th>83</th>\n",
       "      <td>JUMBO BAG RED RETROSPOT</td>\n",
       "      <td>LUNCH BAG SUKI DESIGN</td>\n",
       "      <td>10.47%</td>\n",
       "      <td>6.43%</td>\n",
       "    </tr>\n",
       "    <tr>\n",
       "      <th>68</th>\n",
       "      <td>JUMBO BAG RED RETROSPOT</td>\n",
       "      <td>JUMBO BAG VINTAGE DOILY</td>\n",
       "      <td>10.47%</td>\n",
       "      <td>6.17%</td>\n",
       "    </tr>\n",
       "    <tr>\n",
       "      <th>51</th>\n",
       "      <td>JUMBO BAG RED RETROSPOT</td>\n",
       "      <td>JUMBO BAG PINK POLKADOT</td>\n",
       "      <td>10.47%</td>\n",
       "      <td>6.10%</td>\n",
       "    </tr>\n",
       "  </tbody>\n",
       "</table>\n",
       "</div>"
      ],
      "text/plain": [
       "                                   main                          assortment  \\\n",
       "91   WHITE HANGING HEART T-LIGHT HOLDER             JUMBO BAG RED RETROSPOT   \n",
       "153  WHITE HANGING HEART T-LIGHT HOLDER      NATURAL SLATE HEART CHALKBOARD   \n",
       "175  WHITE HANGING HEART T-LIGHT HOLDER   WOODEN PICTURE FRAME WHITE FINISH   \n",
       "163  WHITE HANGING HEART T-LIGHT HOLDER    RED HANGING HEART T-LIGHT HOLDER   \n",
       "90              JUMBO BAG RED RETROSPOT  WHITE HANGING HEART T-LIGHT HOLDER   \n",
       "80              JUMBO BAG RED RETROSPOT             LUNCH BAG RED RETROSPOT   \n",
       "85              JUMBO BAG RED RETROSPOT                      POPCORN HOLDER   \n",
       "83              JUMBO BAG RED RETROSPOT               LUNCH BAG SUKI DESIGN   \n",
       "68              JUMBO BAG RED RETROSPOT             JUMBO BAG VINTAGE DOILY   \n",
       "51              JUMBO BAG RED RETROSPOT             JUMBO BAG PINK POLKADOT   \n",
       "\n",
       "    main_support assortment_support  \n",
       "91        11.35%             10.47%  \n",
       "153       11.35%              6.26%  \n",
       "175       11.35%              5.51%  \n",
       "163       11.35%              3.71%  \n",
       "90        10.47%             11.35%  \n",
       "80        10.47%              7.84%  \n",
       "85        10.47%              6.97%  \n",
       "83        10.47%              6.43%  \n",
       "68        10.47%              6.17%  \n",
       "51        10.47%              6.10%  "
      ]
     },
     "execution_count": 228,
     "metadata": {},
     "output_type": "execute_result"
    }
   ],
   "source": [
    "# Creating a summary table with 'main', 'assortment', 'main_support', 'assortment_support' columns\n",
    "rules = rules.sort_values(by = ['main_support', 'assortment_support'], ascending= False)\n",
    "rules['main_support'] = rules['main_support'].map(lambda n: '{:.2%}'.format(n))\n",
    "rules['assortment_support'] = rules['assortment_support'].map(lambda n: '{:.2%}'.format(n))\n",
    "print(rules.shape)\n",
    "rules[['main', 'assortment', 'main_support', 'assortment_support']].head(10)"
   ]
  },
  {
   "cell_type": "code",
   "execution_count": 229,
   "metadata": {},
   "outputs": [],
   "source": [
    "# Sorting according to the items_set_support and saving the table \n",
    "# Dropping duplicated values, so the algorthim shows a dupplicated set values. (Each set is out put twice)\n",
    "rules_set_support = rules.sort_values(by = ['items_set_support'], ascending= False)\n",
    "rules_set_support = rules_set_support.drop_duplicates(subset=['items_set_support'])"
   ]
  },
  {
   "cell_type": "code",
   "execution_count": 230,
   "metadata": {},
   "outputs": [
    {
     "data": {
      "text/html": [
       "<div>\n",
       "<style scoped>\n",
       "    .dataframe tbody tr th:only-of-type {\n",
       "        vertical-align: middle;\n",
       "    }\n",
       "\n",
       "    .dataframe tbody tr th {\n",
       "        vertical-align: top;\n",
       "    }\n",
       "\n",
       "    .dataframe thead th {\n",
       "        text-align: right;\n",
       "    }\n",
       "</style>\n",
       "<table border=\"1\" class=\"dataframe\">\n",
       "  <thead>\n",
       "    <tr style=\"text-align: right;\">\n",
       "      <th></th>\n",
       "      <th>main_assortment_merged</th>\n",
       "      <th>items_set_support</th>\n",
       "    </tr>\n",
       "  </thead>\n",
       "  <tbody>\n",
       "    <tr>\n",
       "      <th>51</th>\n",
       "      <td>JUMBO BAG RED RETROSPOT ** VS ** JUMBO BAG PIN...</td>\n",
       "      <td>0.041335</td>\n",
       "    </tr>\n",
       "    <tr>\n",
       "      <th>28</th>\n",
       "      <td>GREEN REGENCY TEACUP AND SAUCER ** VS ** ROSES...</td>\n",
       "      <td>0.038429</td>\n",
       "    </tr>\n",
       "    <tr>\n",
       "      <th>79</th>\n",
       "      <td>JUMBO STORAGE BAG SUKI ** VS ** JUMBO BAG RED ...</td>\n",
       "      <td>0.036274</td>\n",
       "    </tr>\n",
       "    <tr>\n",
       "      <th>75</th>\n",
       "      <td>JUMBO SHOPPER VINTAGE RED PAISLEY ** VS ** JUM...</td>\n",
       "      <td>0.034070</td>\n",
       "    </tr>\n",
       "    <tr>\n",
       "      <th>141</th>\n",
       "      <td>LUNCH BAG RED RETROSPOT ** VS ** LUNCH BAG SUK...</td>\n",
       "      <td>0.032817</td>\n",
       "    </tr>\n",
       "    <tr>\n",
       "      <th>108</th>\n",
       "      <td>LUNCH BAG  BLACK SKULL. ** VS ** LUNCH BAG RED...</td>\n",
       "      <td>0.032116</td>\n",
       "    </tr>\n",
       "    <tr>\n",
       "      <th>4</th>\n",
       "      <td>ALARM CLOCK BAKELIKE GREEN ** VS ** ALARM CLOC...</td>\n",
       "      <td>0.032066</td>\n",
       "    </tr>\n",
       "    <tr>\n",
       "      <th>24</th>\n",
       "      <td>GREEN REGENCY TEACUP AND SAUCER ** VS ** PINK ...</td>\n",
       "      <td>0.031665</td>\n",
       "    </tr>\n",
       "    <tr>\n",
       "      <th>133</th>\n",
       "      <td>LUNCH BAG RED RETROSPOT ** VS ** LUNCH BAG PIN...</td>\n",
       "      <td>0.030362</td>\n",
       "    </tr>\n",
       "    <tr>\n",
       "      <th>161</th>\n",
       "      <td>PINK REGENCY TEACUP AND SAUCER ** VS ** ROSES ...</td>\n",
       "      <td>0.029961</td>\n",
       "    </tr>\n",
       "  </tbody>\n",
       "</table>\n",
       "</div>"
      ],
      "text/plain": [
       "                                main_assortment_merged  items_set_support\n",
       "51   JUMBO BAG RED RETROSPOT ** VS ** JUMBO BAG PIN...           0.041335\n",
       "28   GREEN REGENCY TEACUP AND SAUCER ** VS ** ROSES...           0.038429\n",
       "79   JUMBO STORAGE BAG SUKI ** VS ** JUMBO BAG RED ...           0.036274\n",
       "75   JUMBO SHOPPER VINTAGE RED PAISLEY ** VS ** JUM...           0.034070\n",
       "141  LUNCH BAG RED RETROSPOT ** VS ** LUNCH BAG SUK...           0.032817\n",
       "108  LUNCH BAG  BLACK SKULL. ** VS ** LUNCH BAG RED...           0.032116\n",
       "4    ALARM CLOCK BAKELIKE GREEN ** VS ** ALARM CLOC...           0.032066\n",
       "24   GREEN REGENCY TEACUP AND SAUCER ** VS ** PINK ...           0.031665\n",
       "133  LUNCH BAG RED RETROSPOT ** VS ** LUNCH BAG PIN...           0.030362\n",
       "161  PINK REGENCY TEACUP AND SAUCER ** VS ** ROSES ...           0.029961"
      ]
     },
     "execution_count": 230,
     "metadata": {},
     "output_type": "execute_result"
    }
   ],
   "source": [
    "rules_set_support_table= rules_set_support[['main_assortment_merged','items_set_support']].head(10)\n",
    "rules_set_support_table"
   ]
  },
  {
   "cell_type": "code",
   "execution_count": 231,
   "metadata": {},
   "outputs": [
    {
     "data": {
      "image/png": "[encoded data removed]",
      "text/plain": [
       "<Figure size 1008x504 with 1 Axes>"
      ]
     },
     "metadata": {
      "needs_background": "light"
     },
     "output_type": "display_data"
    }
   ],
   "source": [
    "# plotting a barplot to visualize the above list\n",
    "plt.figure(figsize=(14,7))\n",
    "ax = sns.barplot(x=\"main_assortment_merged\", y=\"items_set_support\", data=rules_set_support_table,\n",
    "                 palette=\"Blues_d\")\n",
    "plt.title(\"Top 10 items set support\")\n",
    "plt.xticks(rotation=90);"
   ]
  },
  {
   "cell_type": "code",
   "execution_count": 232,
   "metadata": {},
   "outputs": [
    {
     "data": {
      "text/html": [
       "<div>\n",
       "<style scoped>\n",
       "    .dataframe tbody tr th:only-of-type {\n",
       "        vertical-align: middle;\n",
       "    }\n",
       "\n",
       "    .dataframe tbody tr th {\n",
       "        vertical-align: top;\n",
       "    }\n",
       "\n",
       "    .dataframe thead th {\n",
       "        text-align: right;\n",
       "    }\n",
       "</style>\n",
       "<table border=\"1\" class=\"dataframe\">\n",
       "  <thead>\n",
       "    <tr style=\"text-align: right;\">\n",
       "      <th></th>\n",
       "      <th>main_assortment_merged</th>\n",
       "      <th>items_set_support</th>\n",
       "    </tr>\n",
       "  </thead>\n",
       "  <tbody>\n",
       "    <tr>\n",
       "      <th>51</th>\n",
       "      <td>JUMBO BAG RED RETROSPOT ** VS ** JUMBO BAG PIN...</td>\n",
       "      <td>4.13%</td>\n",
       "    </tr>\n",
       "    <tr>\n",
       "      <th>28</th>\n",
       "      <td>GREEN REGENCY TEACUP AND SAUCER ** VS ** ROSES...</td>\n",
       "      <td>3.84%</td>\n",
       "    </tr>\n",
       "    <tr>\n",
       "      <th>79</th>\n",
       "      <td>JUMBO STORAGE BAG SUKI ** VS ** JUMBO BAG RED ...</td>\n",
       "      <td>3.63%</td>\n",
       "    </tr>\n",
       "    <tr>\n",
       "      <th>75</th>\n",
       "      <td>JUMBO SHOPPER VINTAGE RED PAISLEY ** VS ** JUM...</td>\n",
       "      <td>3.41%</td>\n",
       "    </tr>\n",
       "    <tr>\n",
       "      <th>141</th>\n",
       "      <td>LUNCH BAG RED RETROSPOT ** VS ** LUNCH BAG SUK...</td>\n",
       "      <td>3.28%</td>\n",
       "    </tr>\n",
       "    <tr>\n",
       "      <th>108</th>\n",
       "      <td>LUNCH BAG  BLACK SKULL. ** VS ** LUNCH BAG RED...</td>\n",
       "      <td>3.21%</td>\n",
       "    </tr>\n",
       "    <tr>\n",
       "      <th>4</th>\n",
       "      <td>ALARM CLOCK BAKELIKE GREEN ** VS ** ALARM CLOC...</td>\n",
       "      <td>3.21%</td>\n",
       "    </tr>\n",
       "    <tr>\n",
       "      <th>24</th>\n",
       "      <td>GREEN REGENCY TEACUP AND SAUCER ** VS ** PINK ...</td>\n",
       "      <td>3.17%</td>\n",
       "    </tr>\n",
       "    <tr>\n",
       "      <th>133</th>\n",
       "      <td>LUNCH BAG RED RETROSPOT ** VS ** LUNCH BAG PIN...</td>\n",
       "      <td>3.04%</td>\n",
       "    </tr>\n",
       "    <tr>\n",
       "      <th>161</th>\n",
       "      <td>PINK REGENCY TEACUP AND SAUCER ** VS ** ROSES ...</td>\n",
       "      <td>3.00%</td>\n",
       "    </tr>\n",
       "  </tbody>\n",
       "</table>\n",
       "</div>"
      ],
      "text/plain": [
       "                                main_assortment_merged items_set_support\n",
       "51   JUMBO BAG RED RETROSPOT ** VS ** JUMBO BAG PIN...             4.13%\n",
       "28   GREEN REGENCY TEACUP AND SAUCER ** VS ** ROSES...             3.84%\n",
       "79   JUMBO STORAGE BAG SUKI ** VS ** JUMBO BAG RED ...             3.63%\n",
       "75   JUMBO SHOPPER VINTAGE RED PAISLEY ** VS ** JUM...             3.41%\n",
       "141  LUNCH BAG RED RETROSPOT ** VS ** LUNCH BAG SUK...             3.28%\n",
       "108  LUNCH BAG  BLACK SKULL. ** VS ** LUNCH BAG RED...             3.21%\n",
       "4    ALARM CLOCK BAKELIKE GREEN ** VS ** ALARM CLOC...             3.21%\n",
       "24   GREEN REGENCY TEACUP AND SAUCER ** VS ** PINK ...             3.17%\n",
       "133  LUNCH BAG RED RETROSPOT ** VS ** LUNCH BAG PIN...             3.04%\n",
       "161  PINK REGENCY TEACUP AND SAUCER ** VS ** ROSES ...             3.00%"
      ]
     },
     "execution_count": 232,
     "metadata": {},
     "output_type": "execute_result"
    }
   ],
   "source": [
    "# Sorting according to the 'main_support', 'assortment_support' and saving the table \n",
    "# pd.options.display.max_colwidth = 1000\n",
    "rules_set_support_table['items_set_support'] = rules_set_support_table['items_set_support'].map(lambda n: '{:.2%}'.format(n))\n",
    "rules_set_support_table.head(10)"
   ]
  },
  {
   "cell_type": "markdown",
   "metadata": {},
   "source": [
    "The top item_set_support rate is a basically the count from all orders where these two product set were purchased together. Here are the top list of the items_set_support.\n",
    "Lot's of bags are bought together.. These top sets are obviously a business purchases.. They probably buy lots of products simultaniously with different bags that look different.."
   ]
  },
  {
   "cell_type": "markdown",
   "metadata": {},
   "source": [
    "**General conclusion:**\n",
    "\n",
    "It would be a good idea to reach out to customers and ask them about their customer's demands and prefrences so the ecommerce can adjust their website products "
   ]
  },
  {
   "cell_type": "markdown",
   "metadata": {
    "id": "8fObibgZZ2Me"
   },
   "source": [
    "# Step 4. Formulating and testing statistical hypothesis\n",
    "Note: After finishing step 3, I will turn the hypothesis into a clear action plan\n",
    "\n",
    "Let's do it..!"
   ]
  },
  {
   "cell_type": "code",
   "execution_count": 233,
   "metadata": {},
   "outputs": [
    {
     "data": {
      "text/html": [
       "<div>\n",
       "<style scoped>\n",
       "    .dataframe tbody tr th:only-of-type {\n",
       "        vertical-align: middle;\n",
       "    }\n",
       "\n",
       "    .dataframe tbody tr th {\n",
       "        vertical-align: top;\n",
       "    }\n",
       "\n",
       "    .dataframe thead th {\n",
       "        text-align: right;\n",
       "    }\n",
       "</style>\n",
       "<table border=\"1\" class=\"dataframe\">\n",
       "  <thead>\n",
       "    <tr style=\"text-align: right;\">\n",
       "      <th></th>\n",
       "      <th>invoice_no</th>\n",
       "      <th>stock_code</th>\n",
       "      <th>description</th>\n",
       "      <th>quantity</th>\n",
       "      <th>invoice_date</th>\n",
       "      <th>unit_price</th>\n",
       "      <th>customer_id</th>\n",
       "      <th>RefundFlg</th>\n",
       "    </tr>\n",
       "  </thead>\n",
       "  <tbody>\n",
       "    <tr>\n",
       "      <th>0</th>\n",
       "      <td>536365</td>\n",
       "      <td>85123A</td>\n",
       "      <td>WHITE HANGING HEART T-LIGHT HOLDER</td>\n",
       "      <td>6</td>\n",
       "      <td>2018-11-29 08:26:00</td>\n",
       "      <td>2.55</td>\n",
       "      <td>17850</td>\n",
       "      <td>False</td>\n",
       "    </tr>\n",
       "  </tbody>\n",
       "</table>\n",
       "</div>"
      ],
      "text/plain": [
       "  invoice_no stock_code                         description  quantity  \\\n",
       "0     536365     85123A  WHITE HANGING HEART T-LIGHT HOLDER         6   \n",
       "\n",
       "         invoice_date  unit_price customer_id  RefundFlg  \n",
       "0 2018-11-29 08:26:00        2.55       17850      False  "
      ]
     },
     "execution_count": 233,
     "metadata": {},
     "output_type": "execute_result"
    }
   ],
   "source": [
    "datastats.head(1)"
   ]
  },
  {
   "cell_type": "code",
   "execution_count": 234,
   "metadata": {},
   "outputs": [
    {
     "data": {
      "text/plain": [
       "False    530103\n",
       "True       9288\n",
       "Name: RefundFlg, dtype: int64"
      ]
     },
     "execution_count": 234,
     "metadata": {},
     "output_type": "execute_result"
    }
   ],
   "source": [
    "datastats['RefundFlg'].value_counts()"
   ]
  },
  {
   "cell_type": "markdown",
   "metadata": {},
   "source": [
    "### **Formulating the hypothesis:**\n",
    "\n",
    "Does the price of an item effect the customer refund rate?"
   ]
  },
  {
   "cell_type": "code",
   "execution_count": 235,
   "metadata": {},
   "outputs": [
    {
     "data": {
      "image/png": "[encoded data removed]",
      "text/plain": [
       "<Figure size 936x432 with 1 Axes>"
      ]
     },
     "metadata": {
      "needs_background": "light"
     },
     "output_type": "display_data"
    }
   ],
   "source": [
    "# Plotting a histogram to show the distribution of the products prices\n",
    "# https://www.kite.com/python/answers/how-to-change-the-seaborn-plot-figure-size-in-python\n",
    "fig_dims = (13, 6)\n",
    "fig, ax = plt.subplots(figsize=fig_dims)\n",
    "sns.histplot(\n",
    "    datastats, x=\"unit_price\", hue=\"RefundFlg\", element=\"step\",\n",
    "    stat=\"probability\", common_norm=False,\n",
    ");"
   ]
  },
  {
   "cell_type": "markdown",
   "metadata": {},
   "source": [
    "Due to outline in the unit_price, the histogram is not informative, hence I will zoom in and filter the outline so we can see an informative distribution"
   ]
  },
  {
   "cell_type": "code",
   "execution_count": 236,
   "metadata": {},
   "outputs": [
    {
     "data": {
      "text/plain": [
       "(0, 30)"
      ]
     },
     "execution_count": 236,
     "metadata": {},
     "output_type": "execute_result"
    },
    {
     "data": {
      "image/png": "[encoded data removed]",
      "text/plain": [
       "<Figure size 936x432 with 1 Axes>"
      ]
     },
     "metadata": {
      "needs_background": "light"
     },
     "output_type": "display_data"
    }
   ],
   "source": [
    "# Visulazining the data after zooming into the unit_price where it's less than 30\n",
    "fig_dims = (13, 6)\n",
    "fig, ax = plt.subplots(figsize=fig_dims)\n",
    "sns.histplot(\n",
    "    datastats[datastats['unit_price'] <= 30], x=\"unit_price\", hue=\"RefundFlg\", element=\"step\",\n",
    "    stat=\"probability\", common_norm=False,\n",
    ")\n",
    "plt.xlim([0, 30])"
   ]
  },
  {
   "cell_type": "markdown",
   "metadata": {},
   "source": [
    "The plot shows that the higher the price of the item, the more likely it will be refunded, and the lower the unit price the lower the propability it will be refunded.\n",
    "\n",
    "Another way of saying the same, is that refunded items tend to have higher prices than non refunded items."
   ]
  },
  {
   "cell_type": "markdown",
   "metadata": {},
   "source": [
    "### Implementing the suggested hypotheses into a two-sample t test"
   ]
  },
  {
   "cell_type": "markdown",
   "metadata": {},
   "source": [
    "In order to compare the average prices are different between refunded vs non-refunded orders, we can use the t-test for independent samples. \n",
    "\n",
    "Null hypothesis (H0): There is no difference in average unit_price between the item that were refunded and those that were not\n",
    "\n",
    "Alternative hypothesis (H1): There is difference in average unit_price between the item that were refunded and those that were not"
   ]
  },
  {
   "cell_type": "code",
   "execution_count": 237,
   "metadata": {},
   "outputs": [],
   "source": [
    "# Creating samples for the t-test\n",
    "refunded = datastats[(datastats['RefundFlg'] == True) & (datastats['unit_price'] <= 30)]\n",
    "non_refunded = datastats[(datastats['RefundFlg'] == False) & (datastats['unit_price'] <= 30)]"
   ]
  },
  {
   "cell_type": "code",
   "execution_count": 238,
   "metadata": {},
   "outputs": [
    {
     "name": "stdout",
     "output_type": "stream",
     "text": [
      "0.01\n"
     ]
    },
    {
     "data": {
      "text/plain": [
       "invoice_no      0\n",
       "stock_code      0\n",
       "description     0\n",
       "quantity        0\n",
       "invoice_date    0\n",
       "unit_price      0\n",
       "customer_id     0\n",
       "RefundFlg       0\n",
       "dtype: int64"
      ]
     },
     "execution_count": 238,
     "metadata": {},
     "output_type": "execute_result"
    }
   ],
   "source": [
    "print(refunded['unit_price'].min())\n",
    "refunded.isnull().sum()"
   ]
  },
  {
   "cell_type": "code",
   "execution_count": 239,
   "metadata": {},
   "outputs": [
    {
     "name": "stdout",
     "output_type": "stream",
     "text": [
      "0.001\n"
     ]
    },
    {
     "data": {
      "text/plain": [
       "invoice_no      0\n",
       "stock_code      0\n",
       "description     0\n",
       "quantity        0\n",
       "invoice_date    0\n",
       "unit_price      0\n",
       "customer_id     0\n",
       "RefundFlg       0\n",
       "dtype: int64"
      ]
     },
     "execution_count": 239,
     "metadata": {},
     "output_type": "execute_result"
    }
   ],
   "source": [
    "print(non_refunded['unit_price'].min())\n",
    "non_refunded.isnull().sum()"
   ]
  },
  {
   "cell_type": "code",
   "execution_count": 240,
   "metadata": {},
   "outputs": [
    {
     "name": "stdout",
     "output_type": "stream",
     "text": [
      "Sample size: 8938 528418\n",
      "Sample means:  4.097330498993204 3.2204253526480007\n",
      "Difference in mean: 0.8769051463452029\n",
      "p-value:  2.246735865229379e-134\n",
      "There is difference in average unit_price between the item that were refunded and those that were not\n"
     ]
    }
   ],
   "source": [
    "print('Sample size:', len(refunded), len(non_refunded))\n",
    "print('Sample means: ', np.mean(refunded['unit_price']), np.mean(non_refunded['unit_price']))\n",
    "print('Difference in mean:', np.mean(refunded['unit_price']) - np.mean(non_refunded['unit_price']))\n",
    "\n",
    "alpha = .05 \n",
    "difference_in_avg_unit_price =  st.ttest_ind(refunded['unit_price'], non_refunded['unit_price'])\n",
    "\n",
    "print('p-value: ', difference_in_avg_unit_price.pvalue )\n",
    "if (difference_in_avg_unit_price.pvalue >= alpha):\n",
    "        print(\"There is no difference in average unit_price between the item that were refunded and those that were not\")\n",
    "else:\n",
    "        print(\"There is difference in average unit_price between the item that were refunded and those that were not\")"
   ]
  },
  {
   "cell_type": "markdown",
   "metadata": {},
   "source": [
    "The t-test seem to confirm the hypothesis, which is that refunded items tend to have higher prices than non refunded items.\n",
    "\n",
    "This bring us to the idea that cheap products might not be refunded but it might lead to bad expereince, this should be reserached further by future analysis."
   ]
  },
  {
   "cell_type": "markdown",
   "metadata": {},
   "source": [
    "<div class=\"alert alert-block alert-warning\">\n",
    "\n",
    "Since your data is not distributed normally, I'd recommend using Mann-Whitney here)\n",
    "\n",
    "</div>\n"
   ]
  },
  {
   "cell_type": "markdown",
   "metadata": {},
   "source": [
    "# Step 5. General conclusion"
   ]
  },
  {
   "cell_type": "markdown",
   "metadata": {},
   "source": [
    "**General statement:**\n",
    "   \n",
    "**The business should note the following points and recommendations:**\n",
    "\n",
    "**1. Improve the data quality and minding:**\n",
    "\n",
    "    a. The business should fix the missing customer_id for all of the invoices by comunicating to the data managers.  \n",
    "    \n",
    "    b. The data team should uniform the description of the products (for better future product range analysis insights)\n",
    "\n",
    "**2. Data and bookkeeping issues:**\n",
    "\n",
    "    a. The bookkeeper should note the invoices where unit_price equals to 0\n",
    "    \n",
    "    b. The bookkeeper should note the invoices where description states \"Adjust bad debt\" or stock_code equals \"B\" \n",
    "\n",
    "**3. Refunded orders:** the refunded (cancelled) items orders share from the overall total orders is still miniscule, around 2%. However, to improve the customer experience and reduce churn rate, I recommend the business to look into the refunded orders. They can start with the top %refunded 30 list that I provided above\n",
    "\n",
    "**4. Improving marketing performance:** The marketing team should adjust their marketing campaigns according to the customer surf hours and the hours and events where customer place their orders most frequently\n",
    "\n",
    "**5. Targeted clients:** Top repurchased products by customers section to understand the current business model the business have, so the business can plan to the future targeted potenital clients. Here's a summary:\n",
    "\n",
    "It should be noted that should note that the ecommerece business seem not only work as B2C, but also B3B as the \"WHITE HANGING HEART T-LIGHT HOLDER\" and \"JUMBO BAG RED RETROSPOT\" was repurchased so many times. \n",
    "\n",
    "    The ecommerce business have two types of customers:\n",
    "    \n",
    "    a. Regular people (B2C): One time product purchase customers, they are searching and trying out products\n",
    "    \n",
    "    b. Businesses(B2B): Repurchase again and again customers, They know what they want and they are satisfied and will keep buying again for personal or business needs\n",
    "\n",
    "**6. Revenue:** The sales is positively related to the \"Orders timeframe analysis\", and this section should be discussed with the marketing team, the revenue is just the result of the business. - See more into this in the Dashboards.\n",
    "\n",
    "**7. Product categorization:** The business should go over the categorized product sets (Main and assortment) which was conducted using the Association Rule Mining via Apriori Algorithm, it generated a list of 196 products sets. The business should go over them and understand the demand behind them. I suggest that they talk to their most popular business customers so the can understand their needs.\n",
    "\n",
    "**8. Statistical hypothesis**  The t-test seem to confirm the hypothesis, which is that refunded items tend to have higher prices than non refunded items. This bring us to the idea that cheap products might not be refunded but it might lead to bad expereince, this should be reserached further in future analysis."
   ]
  },
  {
   "cell_type": "markdown",
   "metadata": {},
   "source": [
    "# Presention"
   ]
  },
  {
   "cell_type": "markdown",
   "metadata": {},
   "source": [
    "Dashboard: <[LINK TO PRESENTATION](https://drive.google.com/file/d/1wnjwfraQJljkMEKvDOPOylCpFmpZVVlT/view?usp=sharing)>"
   ]
  },
  {
   "cell_type": "markdown",
   "metadata": {},
   "source": [
    "# Dashboard"
   ]
  },
  {
   "cell_type": "markdown",
   "metadata": {},
   "source": [
    "Dashboard: <[LINK TO DASHBOARD](https://public.tableau.com/profile/elias.bitar#!/vizhome/SalesAnalysis_16104748908680/EcommerceAnalysisDashboard)>"
   ]
  },
  {
   "cell_type": "markdown",
   "metadata": {
    "id": "FnmmI855Z2Mh"
   },
   "source": [
    "# Refrences and sources (documentation, articles)\n",
    "\n",
    "\n",
    "https://pandas.pydata.org/pandas-docs/stable/reference/api/pandas.Series.str.contains.html\n",
    "\n",
    "---\n",
    "https://stackabuse.com/association-rule-mining-via-apriori-algorithm-in-python/\n",
    "\n",
    "\n",
    "---\n",
    "\n",
    "https://jamesrledoux.com/code/group-by-aggregate-pandas\n",
    "\n",
    "---\n",
    "\n",
    "\n",
    "https://www.geeksforgeeks.org/apriori-algorithm/\n",
    "\n",
    "---\n",
    "\n",
    "https://analyticsindiamag.com/hands-on-guide-to-market-basket-analysis-with-python-codes/\n",
    "\n",
    "---\n",
    "https://www.tutorialspoint.com/matplotlib/matplotlib_bar_plot.htm\n",
    "\n",
    "---\n",
    "\n",
    "https://clootrack.com/knowledge_base/what-is-product-category-analysis-and-why-is-it-important/\n",
    "\n",
    "\n",
    "---\n",
    "\n",
    "https://pbpython.com/market-basket-analysis.html\n",
    "\n",
    "\n",
    "---\n",
    "\n",
    "https://www.kite.com/python/answers/how-to-change-the-seaborn-plot-figure-size-in-python\n"
   ]
  }
 ],
 "metadata": {
  "colab": {
   "collapsed_sections": [
    "sIMGz9kGZ2MK"
   ],
   "name": "Project 12 (Elias changes 2.1).ipynb",
   "provenance": [],
   "toc_visible": true
  },
  "hide_input": false,
  "kernelspec": {
   "display_name": "Python 3",
   "language": "python",
   "name": "python3"
  },
  "language_info": {
   "codemirror_mode": {
    "name": "ipython",
    "version": 3
   },
   "file_extension": ".py",
   "mimetype": "text/x-python",
   "name": "python",
   "nbconvert_exporter": "python",
   "pygments_lexer": "ipython3",
   "version": "3.7.6"
  },
  "toc": {
   "base_numbering": 1,
   "nav_menu": {},
   "number_sections": true,
   "sideBar": true,
   "skip_h1_title": false,
   "title_cell": "Table of Contents",
   "title_sidebar": "Contents",
   "toc_cell": false,
   "toc_position": {
    "height": "calc(100% - 180px)",
    "left": "10px",
    "top": "150px",
    "width": "303.542px"
   },
   "toc_section_display": true,
   "toc_window_display": true
  }
 },
 "nbformat": 4,
 "nbformat_minor": 1
}
